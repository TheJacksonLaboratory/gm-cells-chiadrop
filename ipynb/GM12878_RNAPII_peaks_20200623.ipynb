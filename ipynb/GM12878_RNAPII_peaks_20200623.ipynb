{
 "cells": [
  {
   "cell_type": "code",
   "execution_count": 1,
   "metadata": {
    "collapsed": true
   },
   "outputs": [],
   "source": [
    "import pandas as pd\n",
    "import numpy as np\n",
    "import matplotlib.pyplot as plt\n",
    "import random\n",
    "#import statsmodels.api as sm\n",
    "#import itertools as it\n",
    "#from statsmodels.sandbox.stats.multicomp import multipletests\n",
    "#from itertools import compress\n",
    "from pyBedGraph import BedGraph\n",
    "from pybedtools import BedTool"
   ]
  },
  {
   "cell_type": "code",
   "execution_count": 2,
   "metadata": {
    "collapsed": true
   },
   "outputs": [],
   "source": [
    "def read_cf(directory, file_name):\n",
    "    with open(directory + file_name) as f:\n",
    "        chrom = {}\n",
    "        for line in f:\n",
    "            tmp = line.strip().split(\"\\t\")\n",
    "            if tmp[0] != 'chrM':\n",
    "                chrom[tmp[0]] = int(tmp[1])\n",
    "    return chrom"
   ]
  },
  {
   "cell_type": "code",
   "execution_count": 3,
   "metadata": {
    "collapsed": true
   },
   "outputs": [],
   "source": [
    "def read_bed(directory, file_name):\n",
    "    with open(directory + file_name) as f:\n",
    "        bed = []\n",
    "        for line in f:\n",
    "            tmp = line.strip().split(\"\\t\")\n",
    "            bed.append([tmp[0], int(tmp[1]), int(tmp[2])])\n",
    "    return bed"
   ]
  },
  {
   "cell_type": "code",
   "execution_count": 4,
   "metadata": {
    "collapsed": true
   },
   "outputs": [],
   "source": [
    "def write_result(directory, out_list, out_name):\n",
    "    with open(directory+out_name, 'a') as file1:\n",
    "        for i in range(len(out_list)):\n",
    "            file1.write('\\t'.join(map(str, out_list[i])) + '\\n')\n",
    "    file1.close()"
   ]
  },
  {
   "cell_type": "code",
   "execution_count": 5,
   "metadata": {
    "collapsed": true
   },
   "outputs": [],
   "source": [
    "directory='/Users/kimm/Desktop/GM12878_files/'\n",
    "rnapii_cov = 'GM12878-RNAPII-pooledv2_comp_sing_FDR_0.2_PASS.bedgraph'\n",
    "nipbl_cov = 'ChIP-Seq.NIPBL.rep1.GSM2443453.SRR5139368.rmdup.q30.hg38.stdchr.bedgraph'\n",
    "peak_file = 'GM12878_ChIA-PET_no-CTCF_yes-cohesin_yes-RNAPII.broadPeak_merge3kb.bed'"
   ]
  },
  {
   "cell_type": "code",
   "execution_count": 6,
   "metadata": {
    "collapsed": true
   },
   "outputs": [],
   "source": [
    "chromfile = read_cf(directory, 'hg38.chrom.sizes')"
   ]
  },
  {
   "cell_type": "code",
   "execution_count": 7,
   "metadata": {
    "collapsed": true
   },
   "outputs": [],
   "source": [
    "bgrnapii = BedGraph(directory+'hg38.chrom.sizes', directory+rnapii_cov)"
   ]
  },
  {
   "cell_type": "code",
   "execution_count": 9,
   "metadata": {
    "collapsed": true
   },
   "outputs": [],
   "source": [
    "for key,val in chromfile.items():\n",
    "    bgrnapii.load_chrom_data(key)"
   ]
  },
  {
   "cell_type": "code",
   "execution_count": 10,
   "metadata": {
    "collapsed": true
   },
   "outputs": [],
   "source": [
    "rnapii_binned = {}\n",
    "for key,val in chromfile.items():\n",
    "    bins_500bp = [[key, i, min(i+500, val-1)] for i in range(0, val, 500)]\n",
    "    rnapii_maxvals = bgrnapii.stats(stat = 'max', intervals = bins_500bp)\n",
    "    rnapii_binned[key] = rnapii_maxvals"
   ]
  },
  {
   "cell_type": "code",
   "execution_count": 12,
   "metadata": {
    "collapsed": true
   },
   "outputs": [],
   "source": [
    "rnapii_pooled = []\n",
    "for key,val in chromfile.items():\n",
    "    rnapii_pooled.extend(rnapii_binned[key])"
   ]
  },
  {
   "cell_type": "code",
   "execution_count": 13,
   "metadata": {},
   "outputs": [
    {
     "data": {
      "text/plain": [
       "15.330311372277432"
      ]
     },
     "execution_count": 13,
     "metadata": {},
     "output_type": "execute_result"
    }
   ],
   "source": [
    "np.mean([x for x in rnapii_pooled if x > 0])"
   ]
  },
  {
   "cell_type": "code",
   "execution_count": 14,
   "metadata": {},
   "outputs": [
    {
     "data": {
      "text/plain": [
       "13.217660514989566"
      ]
     },
     "execution_count": 14,
     "metadata": {},
     "output_type": "execute_result"
    }
   ],
   "source": [
    "np.mean(rnapii_binned['chr1'])"
   ]
  },
  {
   "cell_type": "code",
   "execution_count": 15,
   "metadata": {
    "collapsed": true
   },
   "outputs": [],
   "source": [
    "def get_peaks(chrom, chromfile, thresh, covarray, binsize):\n",
    "    res = [idx for idx, val in enumerate(list(covarray)) if val > thresh] \n",
    "    start = res[0]\n",
    "    prev = res[0]\n",
    "    tmpbed = []\n",
    "    bed = []\n",
    "    for i in range(1,len(res)):\n",
    "        curr = res[i]\n",
    "        if curr-prev > 1:\n",
    "            tmpbed.append([start,prev])\n",
    "            start = curr\n",
    "        prev = curr\n",
    "    for x in tmpbed:\n",
    "        bed.append([chrom, x[0]*binsize, min((x[1]+1)*binsize, chromfile[chrom])])\n",
    "    return bed"
   ]
  },
  {
   "cell_type": "code",
   "execution_count": 19,
   "metadata": {
    "collapsed": true
   },
   "outputs": [],
   "source": [
    "rnapii_bed = []\n",
    "for key,val in chromfile.items():\n",
    "    if key != 'chrY' and key != 'chrM':\n",
    "        rnapii_bed.extend(get_peaks(key, chromfile, 90, rnapii_binned[key], 500))"
   ]
  },
  {
   "cell_type": "code",
   "execution_count": 20,
   "metadata": {},
   "outputs": [
    {
     "name": "stdout",
     "output_type": "stream",
     "text": [
      "19651\n"
     ]
    }
   ],
   "source": [
    "print(str(len(rnapii_bed)))"
   ]
  },
  {
   "cell_type": "code",
   "execution_count": 21,
   "metadata": {
    "collapsed": true
   },
   "outputs": [],
   "source": [
    "write_result(directory, rnapii_bed, 'GM12878-RNAPII-pooledv2_comp_sing_FDR_0.2_PASS_thresh90_peaks.bed')"
   ]
  },
  {
   "cell_type": "code",
   "execution_count": null,
   "metadata": {
    "collapsed": true
   },
   "outputs": [],
   "source": []
  }
 ],
 "metadata": {
  "kernelspec": {
   "display_name": "Python 3",
   "language": "python",
   "name": "python3"
  },
  "language_info": {
   "codemirror_mode": {
    "name": "ipython",
    "version": 3
   },
   "file_extension": ".py",
   "mimetype": "text/x-python",
   "name": "python",
   "nbconvert_exporter": "python",
   "pygments_lexer": "ipython3",
   "version": "3.6.7"
  }
 },
 "nbformat": 4,
 "nbformat_minor": 2
}
