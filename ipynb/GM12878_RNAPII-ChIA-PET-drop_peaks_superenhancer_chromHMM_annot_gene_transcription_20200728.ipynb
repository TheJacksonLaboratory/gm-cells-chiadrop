{
 "cells": [
  {
   "cell_type": "code",
   "execution_count": 1,
   "metadata": {
    "collapsed": true
   },
   "outputs": [],
   "source": [
    "import pandas as pd\n",
    "import numpy as np\n",
    "import matplotlib.pyplot as plt\n",
    "import random\n",
    "from pyBedGraph import BedGraph\n",
    "from pybedtools import BedTool\n",
    "import scipy.stats\n",
    "from collections import Counter"
   ]
  },
  {
   "cell_type": "code",
   "execution_count": 46,
   "metadata": {
    "collapsed": true
   },
   "outputs": [],
   "source": [
    "def read_peakfile(directory, file_name):\n",
    "    with open(directory + file_name) as f:\n",
    "        crnpk = {}\n",
    "        #next(f)\n",
    "        for line in f:\n",
    "            tmp = line.strip().split(\"\\t\")[:-1]\n",
    "            region = tmp[0]+\",\"+tmp[1]+\",\"+tmp[2] +','+ tmp[3]+','+tmp[4]+','+tmp[5] +\";\" + tmp[9]\n",
    "            tmp[1] = int(tmp[1]) # peak start\n",
    "            tmp[2] = int(tmp[2]) # peak end\n",
    "            tmp[7] = int(tmp[7]) # gene start\n",
    "            tmp[8] = int(tmp[8]) # gene end\n",
    "            tmp[13] = float(tmp[13]) # TPM\n",
    "            tmp[14] = float(tmp[14]) # RPKM\n",
    "            strand = tmp[9]\n",
    "            if strand == '+': # positive strand\n",
    "                if tmp[7] > tmp[1] and tmp[7] < tmp[2]:\n",
    "                    dist = 0\n",
    "                else:\n",
    "                    dist = min(abs(tmp[7]-tmp[2]), abs(tmp[7]-tmp[1]))\n",
    "            else: # negative strand\n",
    "                if tmp[8] > tmp[1] and tmp[8] < tmp[2]:\n",
    "                    dist = 0\n",
    "                else:\n",
    "                    dist = min(abs(tmp[8]-tmp[2]), abs(tmp[8]-tmp[1]))\n",
    "            tmp.append(dist) #distance to promoter;  tmp[15]\n",
    "            tmp.append(tmp[8]-tmp[7]) # gene length; tmp[16]\n",
    "            #if 'UBE4B' in tmp and tmp[15] < 5000 and tmp[13] > 0.5 and tmp[16] > 5000:\n",
    "                #print(tmp)\n",
    "            if tmp[15] < 5000 and tmp[13] > 0.5 and tmp[16]>3000: # distance to promoter < 5kb and TMP > 0.5 and gene length > 3000\n",
    "                if region not in crnpk.keys():\n",
    "                    crnpk[region] = [tmp]\n",
    "                else:\n",
    "                    crnpk[region].append(tmp)\n",
    "            else:\n",
    "                tmp = [tmp[0], tmp[1], tmp[2], tmp[3], tmp[4], tmp[5],'.', 0, 0, '.', '.', '.', '.', 0, 0, 0, 0]\n",
    "                if region not in crnpk.keys():\n",
    "                    crnpk[region] = [tmp]\n",
    "                else:\n",
    "                    if tmp not in crnpk[region]:\n",
    "                        crnpk[region].append(tmp)\n",
    "    return crnpk"
   ]
  },
  {
   "cell_type": "code",
   "execution_count": 47,
   "metadata": {
    "collapsed": true
   },
   "outputs": [],
   "source": [
    "def write_result(directory, out_list, out_name):\n",
    "    with open(directory+out_name, 'a') as file1:\n",
    "        for i in range(len(out_list)):\n",
    "            file1.write('\\t'.join(map(str, out_list[i])) + '\\n')\n",
    "    file1.close()"
   ]
  },
  {
   "cell_type": "code",
   "execution_count": 48,
   "metadata": {
    "collapsed": true
   },
   "outputs": [],
   "source": [
    "directory = '/Users/kimm/Desktop/GM12878_files/'\n",
    "peak_file = 'RNAPII-ChIA-PET-drop_peaks_merge500bp-superenhancer_const_chromHMM_all_annot_ENCFF879KFK_20200728.bed'"
   ]
  },
  {
   "cell_type": "code",
   "execution_count": 49,
   "metadata": {
    "collapsed": true
   },
   "outputs": [],
   "source": [
    "peak = read_peakfile(directory, peak_file)"
   ]
  },
  {
   "cell_type": "code",
   "execution_count": 50,
   "metadata": {},
   "outputs": [
    {
     "data": {
      "text/plain": [
       "34107"
      ]
     },
     "execution_count": 50,
     "metadata": {},
     "output_type": "execute_result"
    }
   ],
   "source": [
    "len(Counter([x.split(\";\")[0] for x in peak.keys()]).keys())"
   ]
  },
  {
   "cell_type": "code",
   "execution_count": 51,
   "metadata": {},
   "outputs": [
    {
     "name": "stdout",
     "output_type": "stream",
     "text": [
      "final is: \n",
      "['chr1', 10032500, 10035000, '.', '.', 'RAP40', 'chr1', 10032958, 10181239, '+', 'ENST00000343090', 'ENSG00000130939', 'UBE4B', 2.59, 1.99, 0, 148281]\n"
     ]
    }
   ],
   "source": [
    "filtered = {}\n",
    "for key, val in peak.items():\n",
    "    final = val[0]\n",
    "    for x in val:\n",
    "        if x[13] > final[13]: ## tpm\n",
    "            if x[11] == final[11]: ## gene id same\n",
    "                if x[16] > final[16]: # max length of gene \n",
    "                    final = x\n",
    "                else: \n",
    "                    final[13] = x[13]\n",
    "            else: \n",
    "                final = x\n",
    "    if key ==','.join(['chr1', '10032500', '10035000', '.', '.', 'RAP40'])+';'+'+':\n",
    "        print(\"final is: \")\n",
    "        print(final)\n",
    "    if key.split(';')[0] not in filtered.keys():\n",
    "        filtered[key.split(';')[0]] = [[],[]]\n",
    "    if final[9] == '+':\n",
    "        filtered[key.split(';')[0]][0] = final\n",
    "    elif final[9] == '-':\n",
    "        filtered[key.split(';')[0]][1] = final"
   ]
  },
  {
   "cell_type": "code",
   "execution_count": 53,
   "metadata": {
    "collapsed": true
   },
   "outputs": [],
   "source": [
    "cnts = [str(len(x[0]))+','+str(len(x[1])) for x in filtered.values()]"
   ]
  },
  {
   "cell_type": "code",
   "execution_count": 54,
   "metadata": {},
   "outputs": [
    {
     "data": {
      "text/plain": [
       "Counter({'0,0': 19989, '17,17': 1903, '17,0': 6181, '0,17': 6034})"
      ]
     },
     "execution_count": 54,
     "metadata": {},
     "output_type": "execute_result"
    }
   ],
   "source": [
    "Counter(cnts)"
   ]
  },
  {
   "cell_type": "code",
   "execution_count": 61,
   "metadata": {},
   "outputs": [
    {
     "data": {
      "text/plain": [
       "34107"
      ]
     },
     "execution_count": 61,
     "metadata": {},
     "output_type": "execute_result"
    }
   ],
   "source": [
    "sum(Counter(cnts).values())"
   ]
  },
  {
   "cell_type": "code",
   "execution_count": 65,
   "metadata": {},
   "outputs": [
    {
     "data": {
      "text/plain": [
       "Counter({'ROT': 6080, 'REN': 11867, 'RWP': 929, 'RPE': 296, 'RAP': 817})"
      ]
     },
     "execution_count": 65,
     "metadata": {},
     "output_type": "execute_result"
    }
   ],
   "source": [
    "Counter([key.split(\",\")[-1][0:3] for key, val in filtered.items() if len(val[0])==0 and len(val[1])==0])"
   ]
  },
  {
   "cell_type": "code",
   "execution_count": 66,
   "metadata": {
    "collapsed": true
   },
   "outputs": [],
   "source": [
    "towrite = []\n",
    "for key, val in filtered.items():\n",
    "    bed = key.split(',')\n",
    "    #print(bed)\n",
    "    if len(val[0]) == 0 :\n",
    "        if len(val[1]) == 0: # no gene transcription\n",
    "            bed.extend(['.', '.', '.','.','.','.','.','.'])\n",
    "        else: # reverse transcription\n",
    "            bed.extend(val[1][6:14])\n",
    "    else:\n",
    "        if len(val[1]) == 0: # forward transcription\n",
    "            bed.extend(val[0][6:14])\n",
    "        else: # both transcription\n",
    "            if val[0][13] > val[1][13]: # TPM of forward > TPM of reverse\n",
    "                bed.extend(val[0][6:14]) # forward\n",
    "            else:\n",
    "                bed.extend(val[1][6:14]) # reverse\n",
    "    towrite.append(bed)\n",
    "    del bed"
   ]
  },
  {
   "cell_type": "code",
   "execution_count": 71,
   "metadata": {
    "collapsed": true
   },
   "outputs": [],
   "source": [
    "write_result(directory, towrite, 'RNAPII-ChIA-PET-drop_peaks_merge500bp-superenhancer_const_chromHMM_ENCFF879KFK_20200729.bed')"
   ]
  },
  {
   "cell_type": "code",
   "execution_count": null,
   "metadata": {
    "collapsed": true
   },
   "outputs": [],
   "source": []
  },
  {
   "cell_type": "code",
   "execution_count": null,
   "metadata": {
    "collapsed": true
   },
   "outputs": [],
   "source": []
  },
  {
   "cell_type": "code",
   "execution_count": null,
   "metadata": {
    "collapsed": true
   },
   "outputs": [],
   "source": []
  },
  {
   "cell_type": "code",
   "execution_count": null,
   "metadata": {
    "collapsed": true
   },
   "outputs": [],
   "source": []
  }
 ],
 "metadata": {
  "kernelspec": {
   "display_name": "Python 3",
   "language": "python",
   "name": "python3"
  },
  "language_info": {
   "codemirror_mode": {
    "name": "ipython",
    "version": 3
   },
   "file_extension": ".py",
   "mimetype": "text/x-python",
   "name": "python",
   "nbconvert_exporter": "python",
   "pygments_lexer": "ipython3",
   "version": "3.6.7"
  }
 },
 "nbformat": 4,
 "nbformat_minor": 2
}
