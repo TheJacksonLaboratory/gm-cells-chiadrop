{
 "cells": [
  {
   "cell_type": "code",
   "execution_count": 1,
   "metadata": {
    "collapsed": true
   },
   "outputs": [],
   "source": [
    "import pandas as pd\n",
    "import numpy as np\n",
    "import matplotlib.pyplot as plt\n",
    "import random\n",
    "from pyBedGraph import BedGraph\n",
    "from pybedtools import BedTool\n",
    "import scipy.stats\n",
    "from scipy.stats import gaussian_kde as kde\n",
    "from matplotlib.colors import Normalize\n",
    "from matplotlib import cm\n",
    "from collections import Counter\n",
    "import networkx as nx"
   ]
  },
  {
   "cell_type": "code",
   "execution_count": 2,
   "metadata": {
    "collapsed": true
   },
   "outputs": [],
   "source": [
    "def modLog(num, denom):\n",
    "    if num==0 or denom==0:\n",
    "        return 0\n",
    "    else:\n",
    "        return float(format(np.log2(num/denom), '.4f'))\n",
    "\n",
    "def ShannonEnt(probList):\n",
    "    \"\"\"Compute entropy for a list of probabilities.\"\"\"\n",
    "    if sum(probList)!=1:  ## input is count or frequency instead of probability\n",
    "        probList = [i/sum(probList) for i in probList]\n",
    "    entropy = sum([x*modLog(1,x) for x in probList])\n",
    "    return float(format(entropy, '.6f'))\n",
    "\n",
    "def normShannonEnt(probList):\n",
    "    \"\"\"Compute normalized entropy for a list of probabilities.\"\"\"\n",
    "    if sum(probList) != 1:   ## input is count or frequency instead of probability\n",
    "        probList = [i/sum(probList) for i in probList]\n",
    "    entropy = sum([x*modLog(1,x) for x in probList])/np.log2(len(probList))\n",
    "    if len(probList) == 1:\n",
    "        entropy = 0\n",
    "    return float(format(entropy, '.6f'))"
   ]
  },
  {
   "cell_type": "code",
   "execution_count": 3,
   "metadata": {
    "collapsed": true
   },
   "outputs": [],
   "source": [
    "def read_regionfile(directory, file_name):\n",
    "    with open(directory + file_name) as f:\n",
    "        gems = {}\n",
    "        for line in f:\n",
    "            tmp = line.strip().split(\"\\t\")\n",
    "            gemid = tmp[4]\n",
    "            if gemid in gems.keys():\n",
    "                gems[gemid].append(tmp[5:])\n",
    "            else:\n",
    "                gems[gemid] = [tmp[5:]]\n",
    "    return gems # all fragments within a complex w/ same GEM ID"
   ]
  },
  {
   "cell_type": "code",
   "execution_count": 4,
   "metadata": {
    "collapsed": true
   },
   "outputs": [],
   "source": [
    "def read_raidfile(directory, file_name):\n",
    "    with open(directory + file_name) as f:\n",
    "        raids = {}\n",
    "        for line in f:\n",
    "            tmp = line.strip().split(\"\\t\")\n",
    "            tmp[1] = int(tmp[1])\n",
    "            tmp[2] = int(tmp[2])\n",
    "            raids[tmp[3]] = tmp[0:3]\n",
    "    return raids"
   ]
  },
  {
   "cell_type": "code",
   "execution_count": 5,
   "metadata": {
    "collapsed": true
   },
   "outputs": [],
   "source": [
    "def read_elementsfile(directory, file_name):\n",
    "    with open(directory + file_name) as f:\n",
    "        elements = {}\n",
    "        ebyraid = {}\n",
    "        for line in f:\n",
    "            tmp = line.strip().split(\"\\t\")\n",
    "            eid = tmp[5]\n",
    "            raidid = tmp[17]\n",
    "            tmp[1] = int(tmp[1])\n",
    "            tmp[2] = int(tmp[2])\n",
    "            if tmp[4] != \".\":\n",
    "                tmp.append(tmp[4]) # super-enhancer\n",
    "                tmp.append('SE')\n",
    "            else:\n",
    "                if tmp[12] != '.' and float(tmp[13])>1: # active promoter\n",
    "                    tmp.append(tmp[12]) # add gene name\n",
    "                    tmp.append('P')\n",
    "                else:\n",
    "                    tmp.append('E')\n",
    "                    tmp.append('E')\n",
    "            if eid in elements.keys():\n",
    "                elements[eid].append(tmp)\n",
    "            else:\n",
    "                elements[eid] = tmp\n",
    "            if raidid in ebyraid.keys():\n",
    "                ebyraid[raidid].append(eid)\n",
    "            else:\n",
    "                ebyraid[raidid] = [eid]\n",
    "        sebyraid = dict([(key, list(dict.fromkeys([elements[x][4] for x in val if elements[x][4]!=\".\"]))) for key, val in ebyraid.items()])\n",
    "    elements_se = {}\n",
    "    for k,v in elements.items():\n",
    "        if v[3] != \".\":\n",
    "            if v[4] in elements_se.keys():\n",
    "                elements_se[v[4]].append(v[5])\n",
    "            else:\n",
    "                elements_se[v[4]] = [v[5]]\n",
    "    return elements, ebyraid, sebyraid, elements_se"
   ]
  },
  {
   "cell_type": "code",
   "execution_count": 6,
   "metadata": {
    "collapsed": true
   },
   "outputs": [],
   "source": [
    "def read_loopfile(directory, file_name):\n",
    "    with open(directory + file_name) as f:\n",
    "        loops = {}\n",
    "        for line in f:\n",
    "            tmp = line.strip().split(\"\\t\")\n",
    "            lid = tmp[10]\n",
    "            rid = tmp[16]\n",
    "            petcnt = int(tmp[6])\n",
    "            lpair = lid+\",\"+rid\n",
    "            if lpair in loops.keys():\n",
    "                loops[lpair] += petcnt\n",
    "            else:\n",
    "                loops[lpair] = petcnt\n",
    "    return loops"
   ]
  },
  {
   "cell_type": "code",
   "execution_count": 7,
   "metadata": {
    "collapsed": true
   },
   "outputs": [],
   "source": [
    "def get_lpbyse(loops, elements):\n",
    "    lpby1se = {}\n",
    "    lpby2se = {}\n",
    "    for key, val in loops.items():\n",
    "        lanc = key.split(\",\")[0]\n",
    "        lse = elements[lanc][4]\n",
    "        lgene = elements[lanc][12]\n",
    "        ltpm = elements[lanc][13]\n",
    "        ranc = key.split(\",\")[1]\n",
    "        rse = elements[ranc][4]\n",
    "        rgene = elements[ranc][12]\n",
    "        rtpm = elements[ranc][13]\n",
    "        dist = elements[ranc][1]-elements[lanc][2]\n",
    "        list2add = [lanc, lse, lgene, ltpm, ranc, rse, rgene, rtpm, val, dist]\n",
    "        if lse=='.' and rse != \".\": # only 1 se; Right anchor overlaps SE\n",
    "            if rse in lpby1se.keys(): \n",
    "                lpby1se[rse].append(list2add)\n",
    "            else:\n",
    "                lpby1se[rse] = [list2add]\n",
    "        if lse!='.' and rse==\".\": # only 1 se; Left anchor overlaps SE\n",
    "            if lse in lpby1se.keys(): \n",
    "                lpby1se[lse].append(list2add)\n",
    "            else:\n",
    "                lpby1se[lse] = [list2add]\n",
    "        if lse!='.' and rse!='.' and lse != rse: # 2 se\n",
    "            concat = lse+';'+rse\n",
    "            if concat in lpby2se.keys(): \n",
    "                lpby2se[concat].append(list2add)\n",
    "            else:\n",
    "                lpby2se[concat] = [list2add]\n",
    "    return lpby1se, lpby2se"
   ]
  },
  {
   "cell_type": "code",
   "execution_count": 8,
   "metadata": {
    "collapsed": true
   },
   "outputs": [],
   "source": [
    "def plot_boxplot(dataset, dlabel, clr, tit, ylab, fig_name):\n",
    "    fig = plt.figure(figsize = (8,6))\n",
    "    medianprops = dict(linewidth = 3, color=clr)\n",
    "    i=0\n",
    "    boxprops = dict(linewidth = 1.5)\n",
    "    toplot = [np.asarray([]) for i in range(len(dataset))]\n",
    "    for d in dataset:\n",
    "        #medianprops = dict(linewidth = 3, color=colcode[i])\n",
    "        datax = toplot\n",
    "        datax[i] = np.asarray(dataset[i])\n",
    "        plt.boxplot(datax, widths = 0.6, medianprops = medianprops, boxprops = boxprops)\n",
    "        i +=1\n",
    "    plt.xticks([i for i in range(1, len(dataset)+1)], dlabel, fontsize = 18)\n",
    "    plt.yticks(fontsize = 18)\n",
    "    plt.ylabel(ylab, fontsize = 18)\n",
    "    #plt.ylim(bottom=2.5)\n",
    "    plt.title(tit, fontsize = 18)\n",
    "    plt.savefig(fig_name+'.pdf', dpi=150, bbox_inches=\"tight\")\n",
    "    plt.show()\n",
    "    plt.close()"
   ]
  },
  {
   "cell_type": "code",
   "execution_count": 9,
   "metadata": {
    "collapsed": true
   },
   "outputs": [],
   "source": [
    "def get_nodes(cldict):\n",
    "    nodes = list(dict.fromkeys(list(cldict.values())))\n",
    "    nodecolors = []\n",
    "    nodecoldict = {}\n",
    "    for x in nodes:\n",
    "        if x.split(\"-\")[1][0] == \"S\": # is super-enhancer\n",
    "            nodecolors.append(\"darkorchid\")\n",
    "            nodecoldict[x] = \"darkorchid\"\n",
    "        elif x.split(\"-\")[1][0] == \"E\": # is intermediate element and is enhancer\n",
    "            nodecolors.append(\"orange\")\n",
    "            nodecoldict[x] = \"orange\"\n",
    "        elif x.split(\"-\")[1][0] == \"G\": # is target gene\n",
    "            nodecolors.append(\"green\")\n",
    "            nodecoldict[x] = \"green\"\n",
    "        elif x.split(\"-\")[1][0] == \"O\": # is intermediate element and is other super-enhancer \n",
    "            nodecolors.append(\"darkorchid\")\n",
    "            nodecoldict[x] = \"darkorchid\"\n",
    "        elif x.split(\"-\")[1][0] == \"P\": # is intermediate element and is promoter\n",
    "            nodecolors.append(\"green\")\n",
    "            nodecoldict[x] = \"green\"\n",
    "    return nodes, nodecolors, nodecoldict"
   ]
  },
  {
   "cell_type": "code",
   "execution_count": 10,
   "metadata": {
    "collapsed": true
   },
   "outputs": [],
   "source": [
    "def get_graph(cldict, compbycl):\n",
    "    G = nx.Graph()\n",
    "    nodes, nodecolors, nodecoldict = get_nodes(cldict)\n",
    "    G.add_nodes_from(nodes)\n",
    "    compbyclpair = {}\n",
    "    edgetriplet = []\n",
    "    for key, val in compbycl.items():\n",
    "        vert = key.split(\",\")\n",
    "        left = vert[0]\n",
    "        right = vert[-1]\n",
    "        edgetriplet.append([left, right, val])\n",
    "        if left != right: # exclude self-loops\n",
    "            pair = left+\",\"+right\n",
    "            if pair in compbyclpair.keys():\n",
    "                compbyclpair[pair] += val\n",
    "            else:\n",
    "                compbyclpair[pair] = val\n",
    "    for k,v in compbyclpair.items():\n",
    "        l = k.split(\",\")[0]\n",
    "        r = k.split(\",\")[1]\n",
    "        G.add_weighted_edges_from([(l,r,v)])\n",
    "    return nodes, nodecolors, nodecoldict, G, edgetriplet"
   ]
  },
  {
   "cell_type": "code",
   "execution_count": 11,
   "metadata": {
    "collapsed": true
   },
   "outputs": [],
   "source": [
    "def get_compbychr(rnapiir):\n",
    "    compbychr = {}\n",
    "    for k, v in rnapiir.items():\n",
    "        tmp = [x[5] for x in v if x[5] != \".\"]\n",
    "        chrom = [x[0] for x in v if x[5] != \".\"]\n",
    "        if len(tmp) > 1: # at least 2 fragments overlapping elements\n",
    "            if chrom[0] in compbychr.keys():\n",
    "                compbychr[chrom[0]].append(tmp)\n",
    "            else:\n",
    "                compbychr[chrom[0]] = [tmp]\n",
    "    return compbychr"
   ]
  },
  {
   "cell_type": "code",
   "execution_count": 12,
   "metadata": {
    "collapsed": true
   },
   "outputs": [],
   "source": [
    "def get_compcnt(se, target, elements_se, elements, compbychr):\n",
    "    cnt = 0\n",
    "    selist = elements_se[se]\n",
    "    sedict = dict.fromkeys(selist, 0)\n",
    "    chrom = elements[target][0]\n",
    "    for x in compbychr[chrom]:\n",
    "        if target in x:\n",
    "            for y in selist:\n",
    "                if y in x:\n",
    "                    cnt += 1\n",
    "                    sedict[y] += 1\n",
    "    return cnt, sedict"
   ]
  },
  {
   "cell_type": "code",
   "execution_count": 13,
   "metadata": {
    "collapsed": true
   },
   "outputs": [],
   "source": [
    "def get_target(lpby1se, elements_se, elements, rnapiicompbychr):\n",
    "    setarget = {}\n",
    "    for k, v in lpby1se.items():\n",
    "        for x in v:\n",
    "            if x[1] == \".\" and x[3] != \".\" or x[5] == \".\" and x[7] != \".\":\n",
    "                if x[1] == \".\":\n",
    "                    target = x[0]\n",
    "                    tpm = float(x[3])\n",
    "                elif x[5] == \".\":\n",
    "                    target = x[4]\n",
    "                    tpm = float(x[7])\n",
    "                cmpcnt, sedict = get_compcnt(k, target, elements_se, elements, rnapiicompbychr)\n",
    "                if x[9] > 150000 and x[9] < 6000000 and cmpcnt > 0 and tpm > 1: # distance > 150 kb & < 6 Mbps\n",
    "                    if k in setarget.keys():\n",
    "                        if setarget[k][0][1] == \".\":\n",
    "                            currtpm = float(setarget[k][0][3])\n",
    "                        else:\n",
    "                            currtpm = float(setarget[k][0][7])\n",
    "                        if currtpm < tpm: # if expression is lower, replace\n",
    "                            setarget[k] = [x]\n",
    "                    else:\n",
    "                        setarget[k] = [x]\n",
    "    return setarget"
   ]
  },
  {
   "cell_type": "code",
   "execution_count": 14,
   "metadata": {
    "collapsed": true
   },
   "outputs": [],
   "source": [
    "def se2target_elements(setarget, elements, elements_se, cohesincompbychr):\n",
    "    elist = list(elements.keys())\n",
    "    for k, v in setarget.items():\n",
    "        if v[0][1] == \".\": # right super enhancer\n",
    "            end = elements_se[v[0][5]][-1]\n",
    "            start = v[0][0]\n",
    "            target = start\n",
    "        elif v[0][5] == \".\": # left super enhancer\n",
    "            start = elements_se[v[0][1]][0]\n",
    "            end = v[0][4]\n",
    "            target = end\n",
    "        startindx = elist.index(start)\n",
    "        endindx = elist.index(end)\n",
    "        path = []\n",
    "        for i in range(startindx, endindx+1):\n",
    "            tmp = elements[elist[i]]\n",
    "            if tmp[4] != \".\" or tmp[2]-tmp[1] > 628: # either super-enhancer constituents or peak > 628 bp\n",
    "                path.append(elist[i])\n",
    "        clusters = []\n",
    "        dum = [path[0]]\n",
    "        for j in range(len(path)-1):\n",
    "            nextstart = elements[path[j+1]][1]\n",
    "            currend = elements[path[j]][2]\n",
    "            nextse = elements[path[j+1]][4]\n",
    "            currse = elements[path[j]][4]\n",
    "            if nextstart-currend < 3000 or currse == nextse and currse != \".\": # either nearby or same SE ID\n",
    "                dum.append(path[j+1])\n",
    "            else:\n",
    "                clusters.append(dum)\n",
    "                dum = [path[j+1]]\n",
    "        clusters.append(dum)\n",
    "        cnt, sedict = get_compcnt(k, target, elements_se, elements, cohesincompbychr)\n",
    "        setarget[k].append(path)\n",
    "        setarget[k].append(clusters)\n",
    "        setarget[k].append(sedict)\n",
    "        setarget[k].append(cnt)\n",
    "    return setarget"
   ]
  },
  {
   "cell_type": "code",
   "execution_count": 15,
   "metadata": {
    "collapsed": true
   },
   "outputs": [],
   "source": [
    "def extract_compbyelm(tlist, elements, compbychr):\n",
    "    extracted = []\n",
    "    chrom = elements[tlist[0]][0]\n",
    "    for x in compbychr[chrom]:\n",
    "        boolean = [i in tlist for i in x] # for each fragment, indicate if overlaps with elements of interest\n",
    "        true_elm = [x[j] for j in range(len(boolean)) if boolean[j]==True]\n",
    "        if len(true_elm) > 1:\n",
    "            extracted.append(\",\".join(true_elm))\n",
    "    return extracted"
   ]
  },
  {
   "cell_type": "code",
   "execution_count": 16,
   "metadata": {
    "collapsed": true
   },
   "outputs": [],
   "source": [
    "def get_compcntedges(G):\n",
    "    alledges = list(G.edges.data())\n",
    "    se2gene = 0\n",
    "    se2enh = 0\n",
    "    se2prom = 0\n",
    "    enh2gene = 0\n",
    "    enh2enh = 0\n",
    "    enh2prom = 0\n",
    "    prom2prom = 0\n",
    "    prom2gene = 0\n",
    "    for x in alledges:\n",
    "        left = x[0].split(\"-\")[1][0]\n",
    "        right = x[1].split(\"-\")[1][0]\n",
    "        pair = [left, right]\n",
    "        if \"S\" in pair and \"E\" in pair:\n",
    "            se2enh += x[2]['weight']\n",
    "        elif \"S\" in pair and \"G\" in pair:\n",
    "            se2gene += x[2]['weight']\n",
    "        elif \"S\" in pair and \"P\" in pair:\n",
    "            se2prom += x[2]['weight']\n",
    "        elif \"G\" in pair and \"E\" in pair:\n",
    "            enh2gene += x[2]['weight']\n",
    "        elif pair[0]==\"E\" and pair[1]==\"E\":\n",
    "            enh2enh += x[2]['weight']\n",
    "        elif \"E\" in pair and \"P\" in pair:\n",
    "            enh2prom += x[2]['weight']\n",
    "        elif pair[0]==\"P\" and pair[1]==\"P\":\n",
    "            prom2prom += x[2]['weight']\n",
    "        elif \"P\" in pair and \"G\" in pair:\n",
    "            prom2gene += x[2]['weight']\n",
    "    tot = sum([x[2]['weight'] for x in alledges])\n",
    "    return se2gene, se2enh, se2prom, enh2gene, enh2enh, enh2prom, prom2prom, prom2gene, tot"
   ]
  },
  {
   "cell_type": "code",
   "execution_count": 17,
   "metadata": {
    "collapsed": true
   },
   "outputs": [],
   "source": [
    "def get_cldict(test, elements): # test is one of setarget\n",
    "    if test[0][1] != \".\": # SE on left\n",
    "        sepos = \"L\"\n",
    "        gene = test[0][6]+\"; \"+test[0][7]+\"; \" + str(test[0][9])\n",
    "        seid = test[0][1]\n",
    "    elif test[0][5] != \".\": # SE on right\n",
    "        sepos = \"R\"\n",
    "        gene = test[0][2] + \"; \" + test[0][3] + \"; \" + str(test[0][9])\n",
    "        seid = test[0][5]\n",
    "    cldict = {}\n",
    "    for i in range(len(test[2])):\n",
    "        #print(i)\n",
    "        states = [elements[y][19] for y in test[2][i]]\n",
    "        if 'SE' in states:\n",
    "            label = 'OSE'\n",
    "        elif 'P' in states:\n",
    "            label = 'P'\n",
    "        else: \n",
    "            label = 'E'\n",
    "        for x in test[2][i]:\n",
    "            if sepos == \"L\" and i == 0: # left-most element & super-enhancer\n",
    "                cldict[x] = \"CL\" + str(i) + \"-\" + seid\n",
    "            if sepos == \"L\" and i == len(test[2])-1: # left-most element & target gene\n",
    "                cldict[x] = \"CL\" + str(i) + \"-G; \" + gene\n",
    "            if sepos == \"R\" and i == len(test[2])-1: # right-most element & super-enhancer\n",
    "                cldict[x] = \"CL\" + str(i) + \"-\" + seid\n",
    "            if sepos == \"R\" and i == 0: # right-most element & target gene\n",
    "                cldict[x] = \"CL\" + str(i) + \"-G; \" + gene\n",
    "            elif i != 0 and i != len(test[2])-1: ## intermediate elements\n",
    "                cldict[x] = \"CL\" + str(i) + \"-\" + label + str(i-1)\n",
    "    return cldict"
   ]
  },
  {
   "cell_type": "code",
   "execution_count": 18,
   "metadata": {
    "collapsed": true
   },
   "outputs": [],
   "source": [
    "def get_summ_se2otherfrags(compbycl_dict):\n",
    "    se2g_summ = [] # 1 frag in  SE, 2, 3, 4, 5 to target gene\n",
    "    se2p_summ = [] # 1 frag in  SE, 2, 3, 4, 5 to promoter (intermediate element)\n",
    "    se2e_summ = [] # 1 frag in  SE, 2, 3, 4, 5 to enhancer (intermediate element)\n",
    "    se2o_summ = [] # 1 frag in  SE, 2, 3, 4, 5 to other super-enhancer (intermediate element)\n",
    "    for key, val in compbycl_dict.items():\n",
    "        tcounts = val\n",
    "        secntlistg = [0, 0, 0, 0, 0]\n",
    "        secntlistp = [0, 0, 0, 0, 0]\n",
    "        secntliste = [0, 0, 0, 0, 0]\n",
    "        secntlisto = [0, 0, 0, 0, 0]\n",
    "        for k, v in tcounts.items():\n",
    "            frags = k.split(\",\")\n",
    "            fannot = [x.split(\"-\")[1][0] for x in frags]\n",
    "            #print(fannot)\n",
    "            secnt = len([x for x in fannot if x=='S'])\n",
    "            gcnt = len([x for x in fannot if x=='G'])\n",
    "            ecnt = len([x for x in fannot if x=='E'])\n",
    "            pcnt = len([x for x in fannot if x=='P'])\n",
    "            ocnt = len([x for x in fannot if x=='O'])\n",
    "            if secnt > 0:\n",
    "                if gcnt > 0:\n",
    "                    secntlistg[secnt-1] += v\n",
    "                if pcnt > 0:\n",
    "                    secntlistp[secnt-1] += v\n",
    "                if ecnt > 0:\n",
    "                    secntliste[secnt-1] += v\n",
    "                if ocnt > 0:\n",
    "                    secntlisto[secnt-1] += v\n",
    "        if sum(secntlistg)>0:\n",
    "            se2g_summ.append([x/sum(secntlistg) for x in secntlistg])\n",
    "        if sum(secntlistp)>0:\n",
    "            se2p_summ.append([x/sum(secntlistp) for x in secntlistp])\n",
    "        if sum(secntliste)>0:\n",
    "            se2e_summ.append([x/sum(secntliste) for x in secntliste])\n",
    "        if sum(secntlisto)>0:\n",
    "            se2o_summ.append([x/sum(secntlisto) for x in secntlisto])\n",
    "    return se2g_summ, se2p_summ, se2e_summ, se2o_summ"
   ]
  },
  {
   "cell_type": "code",
   "execution_count": 19,
   "metadata": {
    "collapsed": true
   },
   "outputs": [],
   "source": [
    "def plot_graph(nodes, nodecolors, G, ind, seid, coord, sedict, dist, cntse2g):\n",
    "    se2gene, se2enh, se2prom, enh2gene, enh2enh, enh2prom, prom2prom, prom2gene, tot = get_compcntedges(G)\n",
    "    plt.figure(figsize=(12, 12))\n",
    "    #colors = range(len(list(G.edges)))\n",
    "    edges,weights = zip(*nx.get_edge_attributes(G,'weight').items())\n",
    "    nx.draw_circular(G, nodelist = nodes, with_labels=True, font_weight='bold', node_color=nodecolors, edge_color=weights, edge_cmap = plt.cm.Reds, width = 3)\n",
    "    tit = \"super-enhancer_graphs_plot\"+str(ind) +\"_\"+ coord.split(\":\")[0]+\"-\"+coord.split(\":\")[1] + \"_\"+seid + \"_\" + str(len(nodes)) + \"nodes\"\n",
    "    plt.title(seid+\"; \"+str(len(nodes)) + \" nodes; \" +\"\\n\"+ coord + \" (\" + str(dist) + \" bps)\" +\n",
    "              \"\\n\" + str(cntse2g) + \" complexes from SE to gene \\n\"+ str(sedict) + \"\\n\" + \n",
    "              \"SE to gene: \" + str(se2gene)+ \" complexes \\n\" +\n",
    "              \"SE to enhancer: \" + str(se2enh) + \" complexes \\n\" + \n",
    "              \"SE to prom: \" + str(se2prom)+ \" complexes \\n\" +\n",
    "              \"Enhancer to gene: \" + str(enh2gene) + \" complexes \\n\" + \n",
    "              \"Enh to Enh: \" + str(enh2enh) + \" complexes \\n\" + \n",
    "              \"Enh to prom: \" + str(enh2prom) + \" complexes \\n\" +\n",
    "              \"Prom to prom: \" + str(prom2prom) + \" complexes \\n\" +\n",
    "              \"Prom to gene: \" + str(prom2gene) + \" complexes \\n\" +\n",
    "              \"Total: \" + str(tot) +\" complexes\", fontsize=14)\n",
    "    plt.savefig(directory+tit+'.png', dpi=300, bbox_inches='tight')\n",
    "    #plt.show()\n",
    "    plt.close()"
   ]
  },
  {
   "cell_type": "code",
   "execution_count": 20,
   "metadata": {
    "collapsed": true
   },
   "outputs": [],
   "source": [
    "def position_MultiPartiteGraph( Graph, Parts , n_enh):\n",
    "  # Graph is a networkX Graph object, where the nodes have attribute 'agentType' with part name as a value\n",
    "  # Parts is a list of names for the parts (to be shown as columns)\n",
    "  # returns list of dictionaries with keys being networkX Nodes, values being x,y coordinates for plottingxPos = {}\n",
    "    xPos = {}\n",
    "    yPos = {}\n",
    "    for index1, agentType in enumerate(Parts):\n",
    "        if agentType == 'SE':\n",
    "            xPos[agentType] = index1\n",
    "            yPos[agentType] = int(n_enh/2)\n",
    "        elif agentType == 'Target':\n",
    "            xPos[agentType] = index1\n",
    "            yPos[agentType] = int(n_enh/2)\n",
    "        else:\n",
    "            xPos[agentType] = index1\n",
    "            yPos[agentType] = 0\n",
    "\n",
    "    pos = {}\n",
    "    for node, attrDict in Graph.nodes(data=True):\n",
    "        agentType = attrDict['agentType']\n",
    "        # print ('node: %s\\tagentType: %s' % (node, agentType))\n",
    "        # print ('\\t(x,y): (%d,%d)' % (xPos[agentType], yPos[agentType]))\n",
    "        pos[node] = (xPos[agentType], yPos[agentType])\n",
    "        yPos[agentType] += 1\n",
    "\n",
    "    return pos"
   ]
  },
  {
   "cell_type": "code",
   "execution_count": 21,
   "metadata": {
    "collapsed": true
   },
   "outputs": [],
   "source": [
    "def plot_tripartite(G, nodes, tit):\n",
    "    TG = nx.Graph()\n",
    "    TG.add_nodes_from([x for x in nodes if x.split(\"-\")[1][0]==\"S\"], agentType='SE') # Add the node attribute   \"bipartite\"\n",
    "    TG.add_nodes_from([x for x in nodes if x.split(\"-\")[1][0]!=\"S\" and x.split(\"-\")[1][0]!=\"G\"], agentType='Enh')\n",
    "    TG.add_nodes_from([x for x in nodes if x.split(\"-\")[1][0]==\"G\"], agentType='Target')\n",
    "\n",
    "    for x in G.edges.data():\n",
    "        TG.add_weighted_edges_from([(x[0], x[1], x[2]['weight'])])\n",
    "    edges,weights = zip(*nx.get_edge_attributes(TG,'weight').items())\n",
    "    nx.draw(TG,pos=position_MultiPartiteGraph(TG, ['SE', 'Enh', 'Target'], len(nodes)-2), nodelist = nodes, with_labels=True, font_weight='bold', node_color=nodecolors, edge_color=weights, edge_cmap = plt.cm.Reds, width = 3)\n",
    "    plt.savefig(directory+tit+'.png', dpi=300, bbox_inches='tight')\n",
    "    #plt.show()\n",
    "    plt.close()"
   ]
  },
  {
   "cell_type": "code",
   "execution_count": 22,
   "metadata": {
    "collapsed": true
   },
   "outputs": [],
   "source": [
    "def get_clbed(cllist, cldict, elements): # cllist is setarget[k][2]\n",
    "    bed = []\n",
    "    for x in cllist:\n",
    "        chrom = elements[x[0]][0]\n",
    "        start = elements[x[0]][1]\n",
    "        end = elements[x[-1]][2]\n",
    "        eid = cldict[x[0]]\n",
    "        bed.append([chrom, start, end, eid])\n",
    "    return bed"
   ]
  },
  {
   "cell_type": "code",
   "execution_count": 23,
   "metadata": {
    "collapsed": true
   },
   "outputs": [],
   "source": [
    "def plot_barchart(x, y, ylab, clr, tit, fig_name):\n",
    "    fig = plt.figure(figsize = (18,6))\n",
    "    plt.bar(x, y, width = 0.7, color = clr)\n",
    "    plt.xticks(fontsize = 18)\n",
    "    plt.yticks(fontsize = 18)\n",
    "    plt.ylabel(ylab, fontsize = 18)\n",
    "    plt.title(tit, fontsize = 18)\n",
    "    plt.savefig(fig_name+'.png', dpi=150, bbox_inches=\"tight\")\n",
    "    #plt.show()\n",
    "    plt.close()"
   ]
  },
  {
   "cell_type": "code",
   "execution_count": 24,
   "metadata": {
    "collapsed": true
   },
   "outputs": [],
   "source": [
    "def plot_aggregate(obsProb, xlimit, obsCol, obsColDark, fig_title, fig_name):\n",
    "    obsProb_adj = obsProb\n",
    "    obsProbMean = list(np.average(np.array(obsProb_adj), axis = 0))\n",
    "    print([round(x,3) for x in obsProbMean])\n",
    "    ## plotting begins\n",
    "    x = np.arange(0,xlimit)\n",
    "    fig = plt.figure(figsize = (10,5))\n",
    "    ax = fig.add_subplot(111)\n",
    "    std1 = np.std(np.array([x[:xlimit] for x in obsProb_adj]), axis = 0)\n",
    "    #rects1 = ax.bar(x, obsProbMean[:xlimit], width = 0.35, color = obsCol, align = 'center', yerr = std1)\n",
    "    rects1 = ax.bar(x, obsProbMean[:xlimit], width = 0.6, color = obsCol, align = 'center')\n",
    "    plt.title(fig_title + \"\\n\"+\"Prob: \"+ \", \".join([str(round(x,3)) for x in obsProbMean]), fontsize = 17)\n",
    "    plt.xlabel(\"Categories\", fontsize = 16)\n",
    "    plt.ylabel(\"Proportion of \\n RNAPII ChIA-Drop complexes\", fontsize = 16)\n",
    "    plt.xticks(np.arange(9),[\"SS\", \"ES\",\"PS\", \"GS\", \"EP\", \"PP\", \"GP\", \"EG\", \"EE\"], fontsize=16)\n",
    "    plt.yticks(fontsize = 15)\n",
    "    plt.savefig(directory+fig_name+'.png', dpi=300, bbox_inches='tight')\n",
    "    plt.show()\n",
    "    plt.close()"
   ]
  },
  {
   "cell_type": "code",
   "execution_count": 25,
   "metadata": {
    "collapsed": true
   },
   "outputs": [],
   "source": [
    "def get_summ_9categories(edgetrip_dict): \n",
    "    summ_raw = {} # 0: within SE, 1: SE2enh, 2: Enh2Enh, 3: Enh2Gene, 4: SE2gene\n",
    "    for k, v in edgetrip_dict.items():\n",
    "        tmpdict = dict.fromkeys([\"SS\",\"ES\", \"PS\", \"GS\", \"EP\", \"PP\", \"GP\", \"EG\", \"EE\"], 0)\n",
    "        for x in v:\n",
    "            e1 = x[0].split(\"-\")[1][0]\n",
    "            e2 = x[1].split(\"-\")[1][0]\n",
    "            tstr = ''.join(sorted([e1, e2]))\n",
    "            if tstr in tmpdict.keys():\n",
    "                tmpdict[tstr] += x[2]\n",
    "        summ_raw[k] = list(tmpdict.values())\n",
    "    summ_normalized = []\n",
    "    for x in list(summ_raw.values()):\n",
    "        tot = sum(x)\n",
    "        if tot > 0:\n",
    "            summ_normalized.append([y/tot for y in x])\n",
    "    return summ_raw, summ_normalized"
   ]
  },
  {
   "cell_type": "code",
   "execution_count": 26,
   "metadata": {
    "collapsed": true
   },
   "outputs": [],
   "source": [
    "def compute_degree_cent(g_dict):\n",
    "    ## compute degree centrality \n",
    "    se_deg = []\n",
    "    tg_deg = []\n",
    "    enh_deg = []\n",
    "    prom_deg = []\n",
    "    ose_deg = []\n",
    "    for k, v in g_dict.items():\n",
    "        G = v\n",
    "        degrees = G.degree(weight = 'weight')\n",
    "        tot = sum([d for n,d in degrees])\n",
    "        N = len(degrees)\n",
    "        if tot > 0:\n",
    "            for n,d in degrees:\n",
    "                if n.split(\"-\")[1][0] == \"S\": # is super-enhancer\n",
    "                    #se_deg.append(d/(N-1))\n",
    "                    se_deg.append(d/(tot))\n",
    "                elif n.split(\"-\")[1][0] == \"E\": # is enhancer\n",
    "                    #enh_deg.append(d/(N-1))\n",
    "                    enh_deg.append(d/(tot))\n",
    "                elif n.split(\"-\")[1][0] == \"G\": # is target gene\n",
    "                    #tg_deg.append(d/(N-1))\n",
    "                    tg_deg.append(d/(tot))\n",
    "                elif n.split(\"-\")[1][0] == \"P\": # is promoter\n",
    "                    #prom_deg.append(d/(N-1))\n",
    "                    prom_deg.append(d/(tot))\n",
    "                elif n.split(\"-\")[1][0] == \"O\": # is other super-enhancer\n",
    "                    #ose_deg.append(d/(N-1))\n",
    "                    ose_deg.append(d/(tot))\n",
    "    return se_deg, ose_deg, enh_deg, prom_deg, tg_deg"
   ]
  },
  {
   "cell_type": "code",
   "execution_count": 27,
   "metadata": {
    "collapsed": true
   },
   "outputs": [],
   "source": [
    "def get_clcoord(cldict, elements):\n",
    "    clcoord = {}\n",
    "    for k,v in cldict.items():\n",
    "        chrom = elements[k][0]\n",
    "        start = elements[k][1]\n",
    "        end = elements[k][2]\n",
    "        if v in clcoord.keys():\n",
    "            if clcoord[v][1] > start:\n",
    "                clcoord[v][1] = start\n",
    "            if clcoord[v][2] < end:\n",
    "                clcoord[v][2] = end\n",
    "        else:\n",
    "            clcoord[v] = [chrom, start, end]\n",
    "    return clcoord"
   ]
  },
  {
   "cell_type": "code",
   "execution_count": 28,
   "metadata": {
    "collapsed": true
   },
   "outputs": [],
   "source": [
    "def plot_1hist(x1,bin_lims, lab1, clr1, tit, xlab, fig_name):\n",
    "    bin_centers = 0.5*(bin_lims[:-1]+bin_lims[1:])\n",
    "    bin_widths = bin_lims[1:]-bin_lims[:-1]\n",
    "    hist1, _ = np.histogram(x1, bins=bin_lims)\n",
    "\n",
    "    ##normalizing\n",
    "    hist1b = hist1/np.max(hist1)\n",
    "\n",
    "    fig, (ax2) = plt.subplots(nrows = 1, ncols = 1, figsize=(8, 6))\n",
    "    ax2.bar(bin_centers, hist1b, width = bin_widths, align = 'center', label = lab1, color = clr1, alpha = 0.2)\n",
    "    ax2.legend(loc = 'upper right', fontsize = 18)    \n",
    "    plt.title(tit, fontsize = 18)\n",
    "    plt.xlabel(xlab, fontsize = 18)\n",
    "    plt.ylabel(\"Relative Proportion\", fontsize = 18)\n",
    "    plt.savefig(fig_name+'.pdf', dpi=300)\n",
    "    plt.show()"
   ]
  },
  {
   "cell_type": "code",
   "execution_count": 29,
   "metadata": {
    "collapsed": true
   },
   "outputs": [],
   "source": [
    "#plot_linear(G, nodes, cldict, ind, seid, coord, sedict, dist, cntse2g)"
   ]
  },
  {
   "cell_type": "code",
   "execution_count": 30,
   "metadata": {
    "collapsed": true
   },
   "outputs": [],
   "source": [
    "def get_linear_positions(clcoord):\n",
    "    left = min([x[1] for x in list(clcoord.values())])\n",
    "    right = max([x[2] for x in list(clcoord.values())])\n",
    "    span = right - left\n",
    "    positions = {}\n",
    "    for k,v in clcoord.items():\n",
    "        positions[k] = [int((v[1]+v[2])/2)-left, 0]\n",
    "    return positions "
   ]
  },
  {
   "cell_type": "code",
   "execution_count": 31,
   "metadata": {
    "collapsed": true
   },
   "outputs": [],
   "source": [
    "def plot_linear(G, nodes, cldict, ind, seid, coord, sedict, dist, cntse2g):\n",
    "    clcoord = get_clcoord(cldict, elements)\n",
    "    positions = get_linear_positions(clcoord)\n",
    "    maxdeg = max([d[1] for d in G.degree(weight = 'weight')])\n",
    "    nodesizes = [int(d[1]*1000/maxdeg) for d in G.degree(weight = 'weight')]\n",
    "    LG = nx.MultiDiGraph()\n",
    "    LG.add_nodes_from(nodes)\n",
    "    maxweight = max([x[2]['weight'] for x in G.edges.data()])\n",
    "    #Reds = cm.get_cmap('Reds', maxweight)\n",
    "    for x in G.edges.data():\n",
    "        radius = (int(x[1].split(\"-\")[0].split(\"CL\")[1])-int(x[0].split(\"-\")[0].split(\"CL\")[1]))/(3*len(nodes))\n",
    "        #ecol = Reds(x[2]['weight'])\n",
    "        ecol = 'navy'\n",
    "        #if x[2]['weight'] >= 1 and x[2]['weight'] <= 20: # 1-20 complexes\n",
    "        #    width = x[2]['weight']/4\n",
    "        #elif x[2]['weight'] >= 21 and x[2]['weight'] <= 30: #21-30 complexes\n",
    "        #    width = 6\n",
    "        #elif x[2]['weight'] >= 31: # >= 31 complexes\n",
    "        #    width = 7\n",
    "        #width = x[2]['weight']*5/maxweight\n",
    "        width = min(x[2]['weight']*8/maxweight, 7)\n",
    "        if x[0].split(\"-\")[1][0] == \"S\" or x[1].split(\"-\")[1][0] == \"S\":\n",
    "            radius = -radius\n",
    "        LG.add_edge(x[0], x[1], weight = x[2]['weight'], rad=radius, width = width, col = ecol)\n",
    "\n",
    "    plt.figure(figsize=(15, 18))\n",
    "    edges,weights = zip(*nx.get_edge_attributes(LG,'weight').items())\n",
    "    nx.draw_networkx_nodes(LG, pos = positions, nodelist = nodes, node_size = nodesizes, node_shape='o', with_labels=True, font_weight='bold', node_color=nodecolors)\n",
    "    #nx.draw_networkx_labels(LG,pos,font_size=16)\n",
    "    \n",
    "    for edge in LG.edges(data=True):\n",
    "        nx.draw_networkx_edges(LG, positions, edge_color = edge[2][\"col\"], arrowstyle=\"-\", width = edge[2][\"width\"], edgelist=[(edge[0],edge[1])], connectionstyle=f'arc3, rad = {edge[2][\"rad\"]}')\n",
    "    \n",
    "    se2gene, se2enh, se2prom, enh2gene, enh2enh, enh2prom, prom2prom, prom2gene, tot = get_compcntedges(G)\n",
    "    \n",
    "    tit = \"GM12878-cohesin-pooled_super-enhancer_linear-graphs_plot\"+str(ind) +\"_\"+ coord.split(\":\")[0]+\"-\"+coord.split(\":\")[1] + \"_\"+seid + \"_\" + str(len(nodes)) + \"nodes\"\n",
    "    plt.title(seid+\"; \"+str(len(nodes)) + \" nodes; \" +\"\\n\"+ coord + \" (\" + str(dist) + \" bps)\" +\n",
    "              \"\\n\" + \"Color bar max: \" + str(maxweight) + \"\\n\" + nodes[0] +\"\\n\" +nodes[-1] +\n",
    "              \"\\n\" + str(cntse2g) + \" complexes from SE to gene \\n\"+ str(sedict) + \"\\n\" + \n",
    "              \"SE to gene: \" + str(se2gene)+ \" complexes \\n\" +\n",
    "              \"SE to enhancer: \" + str(se2enh) + \" complexes \\n\" + \n",
    "              \"SE to prom: \" + str(se2prom)+ \" complexes \\n\" +\n",
    "              \"Enhancer to gene: \" + str(enh2gene) + \" complexes \\n\" + \n",
    "              \"Enh to Enh: \" + str(enh2enh) + \" complexes \\n\" + \n",
    "              \"Enh to prom: \" + str(enh2prom) + \" complexes \\n\" +\n",
    "              \"Prom to prom: \" + str(prom2prom) + \" complexes \\n\" +\n",
    "              \"Prom to gene: \" + str(prom2gene) + \" complexes \\n\" +\n",
    "              \"Total: \" + str(tot) +\" complexes\", fontsize=14)\n",
    "    plt.savefig(directory+tit+'.png', dpi=300, bbox_inches='tight')\n",
    "    #plt.show()\n",
    "    plt.close()"
   ]
  },
  {
   "cell_type": "code",
   "execution_count": 32,
   "metadata": {
    "collapsed": true
   },
   "outputs": [],
   "source": [
    "def write_result(directory, out_list, out_name):\n",
    "    with open(directory+out_name, 'a') as file1:\n",
    "        for i in range(len(out_list)):\n",
    "            file1.write('\\t'.join(map(str, out_list[i])) + '\\n')\n",
    "    file1.close()"
   ]
  },
  {
   "cell_type": "code",
   "execution_count": 33,
   "metadata": {
    "collapsed": true
   },
   "outputs": [],
   "source": [
    "directory='/Users/kimm/Desktop/GM12878_files/'\n",
    "cohesin_rfile='GM12878-cohesin-pooled_comp_FDR_0.2_PASS.RNAPII-peaksoverlap.region'\n",
    "rnapii_rfile='GM12878-RNAPII-pooledv2_comp_FDR_0.2_PASS.RNAPII-peaksoverlap.region'\n",
    "elements_file='RNAPII-ChIA-PET-drop_peaks_merge500bp-superenhancer_const_chromHMM_ENCFF879KFK_RAID_20200729.bed'\n",
    "loop_file='LHG0035N_0035V_0045V.e500.clusters.cis.BE5.RNAPIIpeak.bothpksupport.bedpe'\n",
    "raid_file='GM12878_RAID_20200627.bed'"
   ]
  },
  {
   "cell_type": "code",
   "execution_count": 34,
   "metadata": {
    "collapsed": true
   },
   "outputs": [],
   "source": [
    "raids = read_raidfile(directory, raid_file)"
   ]
  },
  {
   "cell_type": "code",
   "execution_count": 35,
   "metadata": {
    "collapsed": true
   },
   "outputs": [],
   "source": [
    "loops = read_loopfile(directory, loop_file)"
   ]
  },
  {
   "cell_type": "code",
   "execution_count": 36,
   "metadata": {
    "collapsed": true
   },
   "outputs": [],
   "source": [
    "cohesinr = read_regionfile(directory, cohesin_rfile)"
   ]
  },
  {
   "cell_type": "code",
   "execution_count": 37,
   "metadata": {
    "collapsed": true
   },
   "outputs": [],
   "source": [
    "cohesincompbychr = get_compbychr(cohesinr)"
   ]
  },
  {
   "cell_type": "code",
   "execution_count": 38,
   "metadata": {
    "collapsed": true
   },
   "outputs": [],
   "source": [
    "rnapiir = read_regionfile(directory, rnapii_rfile)"
   ]
  },
  {
   "cell_type": "code",
   "execution_count": 39,
   "metadata": {
    "collapsed": true
   },
   "outputs": [],
   "source": [
    "rnapiicompbychr = get_compbychr(rnapiir)"
   ]
  },
  {
   "cell_type": "code",
   "execution_count": 40,
   "metadata": {
    "collapsed": true
   },
   "outputs": [],
   "source": [
    "elements, ebyraid, sebyraid, elements_se = read_elementsfile(directory, elements_file) # elements, elem. by RAID, super-enh by RAID"
   ]
  },
  {
   "cell_type": "code",
   "execution_count": 41,
   "metadata": {
    "collapsed": true
   },
   "outputs": [],
   "source": [
    "lpby1se, lpby2se = get_lpbyse(loops, elements)"
   ]
  },
  {
   "cell_type": "code",
   "execution_count": 42,
   "metadata": {
    "collapsed": true
   },
   "outputs": [],
   "source": [
    "setarget = get_target(lpby1se, elements_se, elements, rnapiicompbychr)"
   ]
  },
  {
   "cell_type": "code",
   "execution_count": 43,
   "metadata": {},
   "outputs": [
    {
     "data": {
      "text/plain": [
       "188"
      ]
     },
     "execution_count": 43,
     "metadata": {},
     "output_type": "execute_result"
    }
   ],
   "source": [
    "len(setarget)"
   ]
  },
  {
   "cell_type": "code",
   "execution_count": 44,
   "metadata": {
    "collapsed": true
   },
   "outputs": [],
   "source": [
    "setarget = se2target_elements(setarget, elements, elements_se, cohesincompbychr)"
   ]
  },
  {
   "cell_type": "code",
   "execution_count": 45,
   "metadata": {
    "collapsed": true
   },
   "outputs": [],
   "source": [
    "ind = 0\n",
    "summ_dict = {}\n",
    "edgetrip_dict = {}\n",
    "g_dict = {}\n",
    "compbycl_dict = {}\n",
    "intermprom = []\n",
    "bed = []\n",
    "table = [] # SE ID, target, TPM, span, coord,  # interm. P, # interm. E, # interm. OSE, \n",
    "           # se2gene, se2enh, se2prom, enh2gene, enh2enh, enh2prom, prom2prom, prom2gene, tot\n",
    "for k, v in setarget.items():\n",
    "    #print(k)\n",
    "    if v[0][5] == k: # left target\n",
    "        gene = v[0][2]\n",
    "        tpm = float(v[0][3])\n",
    "    elif v[0][1] == k: # right target\n",
    "        gene = v[0][6]\n",
    "        tpm = float(v[0][7])\n",
    "    extracted = Counter(extract_compbyelm(v[1], elements, cohesincompbychr))\n",
    "    cldict = get_cldict(v, elements)\n",
    "    compbycl = {}\n",
    "    for k2, v2 in extracted.items():\n",
    "        klist = k2.split(\",\")\n",
    "        cstr = \",\".join([cldict[x] for x in klist])\n",
    "        if cstr in compbycl.keys():\n",
    "            compbycl[cstr] += v2\n",
    "        else:\n",
    "            compbycl[cstr] = v2\n",
    "    bed.extend(get_clbed(v[2], cldict, elements))\n",
    "    nodes, nodecolors, nodecoldict, G, edgetriplet = get_graph(cldict, compbycl)\n",
    "    se2gene, se2enh, se2prom, enh2gene, enh2enh, enh2prom, prom2prom, prom2gene, tot = get_compcntedges(G)\n",
    "    summ_dict[k] = [se2gene, se2enh, se2prom, enh2gene, enh2enh, enh2prom, prom2prom, prom2gene]\n",
    "    edgetrip_dict[k] = edgetriplet\n",
    "    g_dict[k] = G\n",
    "    compbycl_dict[k] = compbycl\n",
    "    chrom = elements[v[1][0]][0]\n",
    "    start = elements[v[1][0]][1]\n",
    "    end = elements[v[1][-1]][2]\n",
    "    dist = end-start\n",
    "    seid = k\n",
    "    sedict = v[3]\n",
    "    cntse2g = v[4]\n",
    "    coord = chrom +\":\" + str(start)+\"-\"+str(end)\n",
    "    elmstates = [x.split(\"-\")[1][0] for x in nodes]\n",
    "    genelist = []\n",
    "    for i in range(1,len(v[2])-1):\n",
    "        genelist.extend([elements[y][12] for y in v[2][i] if elements[y][19]==\"P\"])\n",
    "    genelistp = list(dict.fromkeys(sorted(genelist))) # list of intermediary promoter gene names\n",
    "    for x in genelistp:\n",
    "        intermprom.append([k, gene, tpm, dist, coord, x])\n",
    "    tmptable = [k, gene, tpm, dist, coord] \n",
    "    tmptable.append(len([x for x in elmstates if x==\"P\"]))\n",
    "    tmptable.append(len([x for x in elmstates if x==\"E\"]))\n",
    "    tmptable.append(len([x for x in elmstates if x==\"O\"]))\n",
    "    tmptable.extend([se2gene, se2enh, se2prom, enh2gene, enh2enh, enh2prom, prom2prom, prom2gene, tot])\n",
    "    table.append(tmptable)\n",
    "    del tmptable\n",
    "    if tot > 0:\n",
    "        #plot_graph(nodes, nodecolors, G, ind, seid, coord, sedict, dist, cntse2g)\n",
    "        tit = \"super-enhancer_tripartite_graphs_plot\"+str(ind) +\"_\"+ coord.split(\":\")[0]+\"-\"+coord.split(\":\")[1] + \"_\"+seid + \"_\" + str(len(nodes)) + \"nodes\"\n",
    "        #plot_tripartite(G, nodes, tit)\n",
    "        plot_linear(G, nodes, cldict, ind, seid, coord, sedict, dist, cntse2g)\n",
    "    ind += 1\n",
    "    del G"
   ]
  },
  {
   "cell_type": "code",
   "execution_count": 49,
   "metadata": {
    "collapsed": true
   },
   "outputs": [],
   "source": [
    "write_result(directory, table, \"GM12878_cohesin_superenhancer_summarytable_20200902.txt\")"
   ]
  },
  {
   "cell_type": "code",
   "execution_count": null,
   "metadata": {
    "collapsed": true
   },
   "outputs": [],
   "source": []
  },
  {
   "cell_type": "code",
   "execution_count": 50,
   "metadata": {
    "collapsed": true
   },
   "outputs": [],
   "source": [
    "# check weight counts\n",
    "for k in edgetrip_dict.keys():\n",
    "    edgedict_sum = sum([x[2] for x in edgetrip_dict[k] if x[0] != x[1]])\n",
    "    graph_sum = sum([y['weight'] for y in [x[2] for x in g_dict[k].edges.data()]])\n",
    "    if edgedict_sum != graph_sum:\n",
    "        print(k)"
   ]
  },
  {
   "cell_type": "code",
   "execution_count": 46,
   "metadata": {
    "collapsed": true
   },
   "outputs": [],
   "source": [
    "se2g_summ, se2p_summ, se2e_summ, se2o_summ = get_summ_se2otherfrags(compbycl_dict)"
   ]
  },
  {
   "cell_type": "code",
   "execution_count": 47,
   "metadata": {},
   "outputs": [
    {
     "name": "stdout",
     "output_type": "stream",
     "text": [
      "SE to other SE:\n",
      "1 frag in SE: 96.694 %\n",
      "2 frag in SE: 3.114 %\n",
      "3 frag in SE: 0.192 %\n",
      "4 frag in SE: 0.0 %\n",
      "5 frag in SE: 0.0 %\n"
     ]
    }
   ],
   "source": [
    "print(\"SE to other SE:\")\n",
    "for i in range(5):\n",
    "    print(str(i+1)+ \" frag in SE: \" + str(round(np.mean([x[i] for x in se2p_summ])*100, 3))+ \" %\")"
   ]
  },
  {
   "cell_type": "code",
   "execution_count": 48,
   "metadata": {
    "collapsed": true
   },
   "outputs": [],
   "source": [
    "se2f_summ = se2g_summ\n",
    "se2f_summ.extend(se2p_summ)\n",
    "se2f_summ.extend(se2e_summ)\n",
    "se2f_summ.extend(se2o_summ)"
   ]
  },
  {
   "cell_type": "code",
   "execution_count": 49,
   "metadata": {},
   "outputs": [
    {
     "data": {
      "text/plain": [
       "529"
      ]
     },
     "execution_count": 49,
     "metadata": {},
     "output_type": "execute_result"
    }
   ],
   "source": [
    "len(se2f_summ)"
   ]
  },
  {
   "cell_type": "code",
   "execution_count": 50,
   "metadata": {},
   "outputs": [
    {
     "name": "stdout",
     "output_type": "stream",
     "text": [
      "SE to other functional elements:\n",
      "1 frag in SE: 96.911 %\n",
      "2 frag in SE: 2.996 %\n",
      "3 frag in SE: 0.091 %\n",
      "4 frag in SE: 0.001 %\n",
      "5 frag in SE: 0.0 %\n"
     ]
    }
   ],
   "source": [
    "print(\"SE to other functional elements:\")\n",
    "for i in range(5):\n",
    "    print(str(i+1)+ \" frag in SE: \" + str(round(np.mean([x[i] for x in se2f_summ])*100, 3))+ \" %\")"
   ]
  },
  {
   "cell_type": "code",
   "execution_count": null,
   "metadata": {
    "collapsed": true
   },
   "outputs": [],
   "source": []
  },
  {
   "cell_type": "code",
   "execution_count": 51,
   "metadata": {
    "collapsed": true
   },
   "outputs": [],
   "source": [
    "se2f_raw = [0,0,0,0] # 1 frag in  SE, 2, 3, 4, 5 to target gene\n",
    "for key, val in compbycl_dict.items():\n",
    "    tcounts = val\n",
    "    for k, v in tcounts.items():\n",
    "        frags = k.split(\",\")\n",
    "        fannot = [x.split(\"-\")[1][0] for x in frags]\n",
    "        #print(fannot)\n",
    "        secnt = len([x for x in fannot if x=='S'])\n",
    "        gcnt = len([x for x in fannot if x=='G'])\n",
    "        ecnt = len([x for x in fannot if x=='E'])\n",
    "        pcnt = len([x for x in fannot if x=='P'])\n",
    "        ocnt = len([x for x in fannot if x=='O'])\n",
    "        fcnt = gcnt + ecnt + pcnt + ocnt\n",
    "        if fcnt > 0:\n",
    "            if secnt == 1:\n",
    "                se2f_raw[0] += v\n",
    "            elif secnt == 2:\n",
    "                se2f_raw[1] += v\n",
    "            elif secnt == 3:\n",
    "                se2f_raw[2] += v\n",
    "            elif secnt > 3:\n",
    "                se2f_raw[3] += v"
   ]
  },
  {
   "cell_type": "code",
   "execution_count": 52,
   "metadata": {},
   "outputs": [
    {
     "data": {
      "text/plain": [
       "[24386, 929, 40, 1]"
      ]
     },
     "execution_count": 52,
     "metadata": {},
     "output_type": "execute_result"
    }
   ],
   "source": [
    "se2f_raw"
   ]
  },
  {
   "cell_type": "code",
   "execution_count": 53,
   "metadata": {},
   "outputs": [
    {
     "data": {
      "text/plain": [
       "25356"
      ]
     },
     "execution_count": 53,
     "metadata": {},
     "output_type": "execute_result"
    }
   ],
   "source": [
    "sum(se2f_raw)"
   ]
  },
  {
   "cell_type": "code",
   "execution_count": null,
   "metadata": {
    "collapsed": true
   },
   "outputs": [],
   "source": []
  },
  {
   "cell_type": "code",
   "execution_count": null,
   "metadata": {
    "collapsed": true
   },
   "outputs": [],
   "source": []
  },
  {
   "cell_type": "code",
   "execution_count": 71,
   "metadata": {
    "collapsed": true
   },
   "outputs": [],
   "source": [
    "## plot degrees for each SE \n",
    "for k, v in g_dict.items():\n",
    "    G = v\n",
    "    degrees = G.degree(weight = 'weight')\n",
    "    degpair = sorted([[n,d] for n,d in degrees], key=lambda x: int(x[0].split(\"-\")[0].split(\"CL\")[1]))\n",
    "    plot_barchart([x[0].split(\"-\")[1] for x in degpair], [x[1] for x in degpair], \"Degrees\", \"#590059\", k + \": degrees\", directory+k+\"_degrees_barchart_20200820\")"
   ]
  },
  {
   "cell_type": "code",
   "execution_count": 58,
   "metadata": {
    "collapsed": true
   },
   "outputs": [],
   "source": [
    "se_deg, ose_deg, enh_deg, prom_deg, tg_deg = compute_degree_cent(g_dict)"
   ]
  },
  {
   "cell_type": "code",
   "execution_count": 59,
   "metadata": {
    "collapsed": true
   },
   "outputs": [],
   "source": [
    "tit = \"Normalized degrees Cohesin ChIA-Drop \\n\" + \\\n",
    "\"SE: n = \" + str(len(se_deg))+ \"; mean = \" + str(round(np.mean(se_deg), 2)) + \"; median = \" + str(round(np.median(se_deg), 2)) + \"\\n\" \\\n",
    "\"Other SE: n = \" + str(len(ose_deg))+ \"; mean = \" + str(round(np.mean(ose_deg), 2)) + \"; median = \" + str(round(np.median(ose_deg), 2)) + \"\\n\" \\\n",
    "\"Enhancers: n = \" + str(len(enh_deg))+ \"; mean = \" + str(round(np.mean(enh_deg), 2)) + \"; median = \" + str(round(np.median(enh_deg), 2)) + \"\\n\" \\\n",
    "\"Promoters: n = \" + str(len(prom_deg))+ \"; mean = \" + str(round(np.mean(prom_deg), 2)) + \"; median = \" + str(round(np.median(prom_deg), 2)) + \"\\n\" \\\n",
    "\"Target gene: n = \" + str(len(tg_deg))+ \"; mean = \" + str(round(np.mean(tg_deg), 2)) + \"; median = \" + str(round(np.median(tg_deg), 2)) + \"\\n\" \\"
   ]
  },
  {
   "cell_type": "code",
   "execution_count": 60,
   "metadata": {},
   "outputs": [
    {
     "data": {
      "image/png": "[encoded data removed]",
      "text/plain": [
       "<Figure size 576x432 with 1 Axes>"
      ]
     },
     "metadata": {
      "needs_background": "light"
     },
     "output_type": "display_data"
    }
   ],
   "source": [
    "plot_boxplot([se_deg, ose_deg, enh_deg, prom_deg, tg_deg], [\"SE\", \"Other SE\", \"Enh\", \"Prom\", \"Target Gene\"], \"#005900\", tit, \"Normalized degrees\", \"GM12878_Cohesin_SE_degree_centrality_normby-nEdges_boxplot_20200901\")"
   ]
  },
  {
   "cell_type": "code",
   "execution_count": null,
   "metadata": {
    "collapsed": true
   },
   "outputs": [],
   "source": []
  },
  {
   "cell_type": "code",
   "execution_count": null,
   "metadata": {
    "collapsed": true
   },
   "outputs": [],
   "source": []
  },
  {
   "cell_type": "code",
   "execution_count": null,
   "metadata": {
    "collapsed": true
   },
   "outputs": [],
   "source": []
  },
  {
   "cell_type": "code",
   "execution_count": null,
   "metadata": {
    "collapsed": true
   },
   "outputs": [],
   "source": []
  }
 ],
 "metadata": {
  "kernelspec": {
   "display_name": "Python 3",
   "language": "python",
   "name": "python3"
  },
  "language_info": {
   "codemirror_mode": {
    "name": "ipython",
    "version": 3
   },
   "file_extension": ".py",
   "mimetype": "text/x-python",
   "name": "python",
   "nbconvert_exporter": "python",
   "pygments_lexer": "ipython3",
   "version": "3.6.7"
  }
 },
 "nbformat": 4,
 "nbformat_minor": 2
}
