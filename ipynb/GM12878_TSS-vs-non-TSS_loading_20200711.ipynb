{
 "cells": [
  {
   "cell_type": "code",
   "execution_count": 11,
   "metadata": {
    "collapsed": true
   },
   "outputs": [],
   "source": [
    "import pandas as pd\n",
    "import numpy as np\n",
    "import matplotlib.pyplot as plt\n",
    "import random\n",
    "#import statsmodels.api as sm\n",
    "#import itertools as it\n",
    "#from statsmodels.sandbox.stats.multicomp import multipletests\n",
    "#from itertools import compress\n",
    "from pyBedGraph import BedGraph\n",
    "from pybedtools import BedTool\n",
    "import scipy.stats\n",
    "from collections import Counter"
   ]
  },
  {
   "cell_type": "code",
   "execution_count": 12,
   "metadata": {
    "collapsed": true
   },
   "outputs": [],
   "source": [
    "def read_loadingfile(directory, file_name):\n",
    "    with open(directory + file_name) as f:\n",
    "        crnpk = {}\n",
    "        #next(f)\n",
    "        for line in f:\n",
    "            tmp = line.strip().split(\"\\t\")[:-1]\n",
    "            region = tmp[0]+\":\"+tmp[1]+\"-\"+tmp[2] + \";\" + tmp[6]\n",
    "            tmp[1] = int(tmp[1]) # peak start\n",
    "            tmp[2] = int(tmp[2]) # peak end\n",
    "            tmp[4] = int(tmp[4]) # gene start\n",
    "            tmp[5] = int(tmp[5]) # gene end\n",
    "            tmp[10] = float(tmp[10]) # TPM\n",
    "            tmp[11] = float(tmp[11]) # RPKM\n",
    "            strand = tmp[6]\n",
    "            if strand == '+': # positive strand\n",
    "                dist = min(abs(tmp[4]-tmp[2]), abs(tmp[4]-tmp[1]))\n",
    "            else: # negative strand\n",
    "                dist = min(abs(tmp[5]-tmp[2]), abs(tmp[5]-tmp[1]))\n",
    "            tmp.append(dist) #distance to promoter;  tmp[12]\n",
    "            tmp.append(tmp[5]-tmp[4]) # gene length; tmp[13]\n",
    "            if tmp[12] < 5000 and tmp[10] > 0.5 and tmp[13] > 5000: # distance to promoter < 5kb and TMP > 0.5 & length > 5kb\n",
    "                if region not in crnpk.keys():\n",
    "                    crnpk[region] = [tmp]\n",
    "                else:\n",
    "                    crnpk[region].append(tmp)\n",
    "            else:\n",
    "                tmp = [tmp[0], tmp[1], tmp[2], '.', 0, 0, '.', '.', '.', '.', 0, 0, 0, 0]\n",
    "                if region not in crnpk.keys():\n",
    "                    crnpk[region] = [tmp]\n",
    "                else:\n",
    "                    if tmp not in crnpk[region]:\n",
    "                        crnpk[region].append(tmp)\n",
    "    return crnpk"
   ]
  },
  {
   "cell_type": "code",
   "execution_count": 13,
   "metadata": {
    "collapsed": true
   },
   "outputs": [],
   "source": [
    "def write_result(directory, out_list, out_name):\n",
    "    with open(directory+out_name, 'a') as file1:\n",
    "        for i in range(len(out_list)):\n",
    "            file1.write('\\t'.join(map(str, out_list[i])) + '\\n')\n",
    "    file1.close()"
   ]
  },
  {
   "cell_type": "code",
   "execution_count": 14,
   "metadata": {
    "collapsed": true
   },
   "outputs": [],
   "source": [
    "directory = '/Users/kimm/Desktop/GM12878_files/'\n",
    "#gtf_file='hg38.ensGene.gtf'\n",
    "#gtf_file = 'Homo_sapiens.GRCh38.100.gtf'\n",
    "anchor_file = 'RNAPII-peaks-overlap_CTCF_motif_cohesin_annot_ENCFF879FKF_20200711.bed'\n",
    "loading_file = 'RNAPII-peaks-overlap_NIPBL_cohesin-notoverlap_CTCF_motif_annot_ENCFF879FKF_20200711.bed'\n",
    "#comp_file='Cohesin_0.2Pass_List1.txt'\n",
    "#comp_file='Cohesin_All_20200512_List1.txt'"
   ]
  },
  {
   "cell_type": "code",
   "execution_count": 15,
   "metadata": {
    "collapsed": true
   },
   "outputs": [],
   "source": [
    "loading = read_loadingfile(directory, loading_file)"
   ]
  },
  {
   "cell_type": "code",
   "execution_count": 16,
   "metadata": {},
   "outputs": [
    {
     "data": {
      "text/plain": [
       "3638"
      ]
     },
     "execution_count": 16,
     "metadata": {},
     "output_type": "execute_result"
    }
   ],
   "source": [
    "len(Counter([x.split(\";\")[0] for x in loading.keys()]).keys())"
   ]
  },
  {
   "cell_type": "code",
   "execution_count": 17,
   "metadata": {
    "collapsed": true
   },
   "outputs": [],
   "source": [
    "filtered = {}\n",
    "for key, val in loading.items():\n",
    "    #print(key)\n",
    "    #print(val)\n",
    "    #maxtpm = val[0][11]\n",
    "    #maxlength = val[0][14]\n",
    "    #geneid = val[0][9]\n",
    "    final = val[0]\n",
    "    for x in val:\n",
    "        if x[10] > 1.5*final[10]: ## tpm\n",
    "            if x[8] == final[8]: ## gene id same\n",
    "                if x[13] > final[13]: # max length of gene \n",
    "                    final = x\n",
    "                else: \n",
    "                    final[10] = x[10]\n",
    "            else: \n",
    "                final = x\n",
    "    #print(\"final is: \")\n",
    "    #print(final)\n",
    "    #print(\"\\n\")\n",
    "    #bed = [final[0], ]\n",
    "    if key.split(';')[0] not in filtered.keys():\n",
    "        filtered[key.split(';')[0]] = [[],[]]\n",
    "    if x[6] == '+':\n",
    "        filtered[key.split(';')[0]][0] = final\n",
    "    elif x[6] == '-':\n",
    "        filtered[key.split(';')[0]][1] = final\n",
    "    #crnpk[key] = final\n",
    "    #print(\"=====\")"
   ]
  },
  {
   "cell_type": "code",
   "execution_count": 18,
   "metadata": {
    "collapsed": true
   },
   "outputs": [],
   "source": [
    "cnts = [str(len(x[0]))+','+str(len(x[1])) for x in filtered.values()]"
   ]
  },
  {
   "cell_type": "code",
   "execution_count": 19,
   "metadata": {},
   "outputs": [
    {
     "data": {
      "text/plain": [
       "Counter({'14,0': 527, '0,0': 2640, '0,14': 408, '14,14': 63})"
      ]
     },
     "execution_count": 19,
     "metadata": {},
     "output_type": "execute_result"
    }
   ],
   "source": [
    "Counter(cnts)"
   ]
  },
  {
   "cell_type": "code",
   "execution_count": 20,
   "metadata": {},
   "outputs": [
    {
     "data": {
      "text/plain": [
       "3638"
      ]
     },
     "execution_count": 20,
     "metadata": {},
     "output_type": "execute_result"
    }
   ],
   "source": [
    "sum(Counter(cnts).values())"
   ]
  },
  {
   "cell_type": "code",
   "execution_count": 21,
   "metadata": {
    "collapsed": true
   },
   "outputs": [],
   "source": [
    "#### Gene body length ####\n",
    "forward = []\n",
    "reverse = []\n",
    "none = []\n",
    "region_size = []\n",
    "cnt = 0\n",
    "for key, val in filtered.items():\n",
    "    if len(val[1]) == 0 and len(val[0]) > 0: # forward direction\n",
    "        #print(\"forward\")\n",
    "        x = val[0]\n",
    "        start = x[4]\n",
    "        end = x[5]\n",
    "        dist = end - start\n",
    "        bed = [x[0], start-dist, end, x[6], x[7], x[8], x[9], x[10], x[13], '.', '.', '.', '.', '.', '.']\n",
    "        forward.append(bed)\n",
    "    elif len(val[0]) == 0 and len(val[1]) > 0: # reverse direction\n",
    "        #print(\"reverse\")\n",
    "        x = val[1]\n",
    "        start = x[4]\n",
    "        end = x[5]\n",
    "        dist = end - start\n",
    "        bed = [x[0], start, end + dist, '.', '.', '.', '.', '.', '.', x[6], x[7], x[8], x[9], x[10], x[13]]\n",
    "        reverse.append(bed)\n",
    "    elif len(val[0]) > 0 and len(val[1]) > 0:  # could be both \n",
    "        if val[0][10] > 2*val[1][10]: # forward\n",
    "            #print(\"forward\")\n",
    "            x = val[0]\n",
    "            start = x[4]\n",
    "            end = x[5]\n",
    "            dist = end - start\n",
    "            bed = [x[0], start-dist, end, x[6], x[7], x[8], x[9], x[10], x[13], '.', '.', '.', '.', '.', '.']\n",
    "            forward.append(bed)\n",
    "        elif val[1][10] > 2*val[0][10]: # reverse\n",
    "            #print(\"reverse\")\n",
    "            x = val[1]\n",
    "            start = x[4]\n",
    "            end = x[5]\n",
    "            dist = end - start\n",
    "            bed = [x[0], start, end + dist, '.', '.', '.', '.', '.', '.', x[6], x[7], x[8], x[9], x[10], x[13]]\n",
    "            reverse.append(bed)\n",
    "        else:\n",
    "            cnt += 1\n",
    "    else: # none\n",
    "        chrom = key.split(':')[0]\n",
    "        start = int(key.split(':')[1].split(\"-\")[0])\n",
    "        end = int(key.split(':')[1].split(\"-\")[1])\n",
    "        mid = int((start+end)/2)\n",
    "        bed = [chrom, mid-150000, mid+150000, '.', '.', '.', '.', '.', '.', '.', '.', '.', '.', '.', '.']\n",
    "        none.append(bed)\n",
    "    region_size.append(bed[2]-bed[1])"
   ]
  },
  {
   "cell_type": "code",
   "execution_count": 22,
   "metadata": {},
   "outputs": [
    {
     "name": "stdout",
     "output_type": "stream",
     "text": [
      "forward : 556\n",
      "reverse : 423\n",
      "none : 2640\n"
     ]
    }
   ],
   "source": [
    "print(\"forward : \" + str(len(forward)))\n",
    "print(\"reverse : \" + str(len(reverse)))\n",
    "print(\"none : \" + str(len(none)))"
   ]
  },
  {
   "cell_type": "code",
   "execution_count": 43,
   "metadata": {},
   "outputs": [
    {
     "data": {
      "text/plain": [
       "3638"
      ]
     },
     "execution_count": 43,
     "metadata": {},
     "output_type": "execute_result"
    }
   ],
   "source": [
    "len(forward) + len(reverse) + len(none) + cnt"
   ]
  },
  {
   "cell_type": "code",
   "execution_count": 47,
   "metadata": {
    "collapsed": true
   },
   "outputs": [],
   "source": [
    "write_result(directory, forward, 'RNAPII-peaks-loading_TSS-forward_genebodylen_20200711.bed')\n",
    "write_result(directory, reverse, 'RNAPII-peaks-loading_TSS-reverse_genebodylen_20200711.bed')\n",
    "write_result(directory, none, 'RNAPII-peaks-loading_non-TSS_genebodylen_20200711.bed')"
   ]
  },
  {
   "cell_type": "code",
   "execution_count": null,
   "metadata": {
    "collapsed": true
   },
   "outputs": [],
   "source": []
  },
  {
   "cell_type": "code",
   "execution_count": null,
   "metadata": {
    "collapsed": true
   },
   "outputs": [],
   "source": []
  },
  {
   "cell_type": "code",
   "execution_count": null,
   "metadata": {
    "collapsed": true
   },
   "outputs": [],
   "source": []
  }
 ],
 "metadata": {
  "kernelspec": {
   "display_name": "Python 3",
   "language": "python",
   "name": "python3"
  },
  "language_info": {
   "codemirror_mode": {
    "name": "ipython",
    "version": 3
   },
   "file_extension": ".py",
   "mimetype": "text/x-python",
   "name": "python",
   "nbconvert_exporter": "python",
   "pygments_lexer": "ipython3",
   "version": "3.6.7"
  }
 },
 "nbformat": 4,
 "nbformat_minor": 2
}
