{
 "cells": [
  {
   "cell_type": "code",
   "execution_count": 1,
   "metadata": {
    "collapsed": true
   },
   "outputs": [],
   "source": [
    "import pandas as pd\n",
    "import numpy as np\n",
    "import matplotlib.pyplot as plt\n",
    "import random\n",
    "from pyBedGraph import BedGraph\n",
    "from pybedtools import BedTool\n",
    "import itertools"
   ]
  },
  {
   "cell_type": "code",
   "execution_count": 2,
   "metadata": {
    "collapsed": true
   },
   "outputs": [],
   "source": [
    "def read_left(directory, file_name):\n",
    "    with open(directory + file_name) as f:\n",
    "        counts = {}\n",
    "        for line in f:\n",
    "            tmp = line.strip().split(\"\\t\")\n",
    "            if tmp[0] != 'left_count':\n",
    "                counts[tmp[5]] = [int(tmp[0])+int(tmp[1]), int(tmp[2])]\n",
    "    return counts"
   ]
  },
  {
   "cell_type": "code",
   "execution_count": 3,
   "metadata": {
    "collapsed": true
   },
   "outputs": [],
   "source": [
    "def read_right(directory, file_name):\n",
    "    with open(directory + file_name) as f:\n",
    "        counts = {}\n",
    "        for line in f:\n",
    "            tmp = line.strip().split(\"\\t\")\n",
    "            if tmp[0] != 'left_count':\n",
    "                counts[tmp[5]] = [int(tmp[3])+int(tmp[4]), int(tmp[2])]\n",
    "    return counts"
   ]
  },
  {
   "cell_type": "code",
   "execution_count": 4,
   "metadata": {
    "collapsed": true
   },
   "outputs": [],
   "source": [
    "def read_loops(directory, file_name):\n",
    "    with open(directory + file_name) as f:\n",
    "        loops = []\n",
    "        for line in f:\n",
    "            tmp = line.strip().split(\"\\t\")\n",
    "            tmp[1] = int(tmp[1])\n",
    "            tmp[2] = int(tmp[2])\n",
    "            tmp[4] = int(tmp[4])\n",
    "            tmp[5] = int(tmp[5])\n",
    "            loops.append(tmp)\n",
    "    return loops"
   ]
  },
  {
   "cell_type": "code",
   "execution_count": 5,
   "metadata": {
    "collapsed": true
   },
   "outputs": [],
   "source": [
    "def write_result(directory, out_list, out_name):\n",
    "    with open(directory+out_name, 'a') as file1:\n",
    "        for i in range(len(out_list)):\n",
    "            file1.write('\\t'.join(map(str, out_list[i])) + '\\n')\n",
    "    file1.close()"
   ]
  },
  {
   "cell_type": "code",
   "execution_count": 6,
   "metadata": {
    "collapsed": true
   },
   "outputs": [],
   "source": [
    "directory='/Users/kimm/Desktop/GM12878_files/'\n",
    "loop_file='LHG0052H.e500.clusters.cis.bothanchint_G250.PETcnt_G9.motifannot.sorted.loops'\n",
    "left_file='mid_left_gem_count_matrix_convergent_loops.txt'\n",
    "right_file='mid_right_gem_count_matrix_convergent_loops.txt'"
   ]
  },
  {
   "cell_type": "code",
   "execution_count": 7,
   "metadata": {
    "collapsed": true
   },
   "outputs": [],
   "source": [
    "loops = read_loops(directory, loop_file)\n",
    "leftcnt = read_left(directory, left_file)\n",
    "rightcnt = read_right(directory, right_file)"
   ]
  },
  {
   "cell_type": "code",
   "execution_count": 21,
   "metadata": {
    "collapsed": true
   },
   "outputs": [],
   "source": [
    "conv_loops = [x for x in loops if x[15]=='+' and x[20]=='-']"
   ]
  },
  {
   "cell_type": "code",
   "execution_count": 22,
   "metadata": {
    "collapsed": true
   },
   "outputs": [],
   "source": [
    "def motifoverlap_left(motif, loop_id, loops):\n",
    "    overlapped = []\n",
    "    for x in loops:\n",
    "        rightmotif = [x[17], x[18], x[19], x[20]]\n",
    "        if motif == rightmotif and x[11] != loop_id:\n",
    "            overlapped.append(x)\n",
    "    return overlapped"
   ]
  },
  {
   "cell_type": "code",
   "execution_count": 23,
   "metadata": {
    "collapsed": true
   },
   "outputs": [],
   "source": [
    "def motifoverlap_right(motif, loop_id, loops):\n",
    "    overlapped = []\n",
    "    for x in loops:\n",
    "        leftmotif = [x[12], x[13], x[14], x[15]]\n",
    "        if motif == leftmotif and x[11] != loop_id:\n",
    "            overlapped.append(x)\n",
    "    return overlapped"
   ]
  },
  {
   "cell_type": "code",
   "execution_count": 24,
   "metadata": {},
   "outputs": [
    {
     "data": {
      "text/plain": [
       "6385"
      ]
     },
     "execution_count": 24,
     "metadata": {},
     "output_type": "execute_result"
    }
   ],
   "source": [
    "len(conv_loops)"
   ]
  },
  {
   "cell_type": "code",
   "execution_count": 90,
   "metadata": {
    "collapsed": true
   },
   "outputs": [],
   "source": [
    "left_kept = []\n",
    "left_removed = []\n",
    "ratiolist = []\n",
    "middlelist = []\n",
    "spanlist = []\n",
    "overlaplist = []\n",
    "for x in conv_loops:\n",
    "    span = x[4]-x[2]\n",
    "    spanlist.append(span)\n",
    "    left = leftcnt[x[11]][0]\n",
    "    middle = leftcnt[x[11]][1]\n",
    "    ratiolist.append((middle+1)/(left+1))\n",
    "    middlelist.append(middle)\n",
    "    leftmotif = [x[12], x[13], x[14], x[15]]\n",
    "    overlapped = motifoverlap_left(leftmotif, x[11], loops)\n",
    "    overlaplist.append(len(overlapped))\n",
    "    if span > 150000 and middle > 50: \n",
    "        if len(overlapped) == 0:\n",
    "            left_kept.append([x[11], left, middle])\n",
    "        else:\n",
    "            left_removed.append([x[11], left, middle])\n",
    "    else:\n",
    "        left_removed.append([x[11], left, middle])"
   ]
  },
  {
   "cell_type": "code",
   "execution_count": 236,
   "metadata": {
    "collapsed": true
   },
   "outputs": [],
   "source": [
    "write_result(directory, left_kept, \"convergent_loops_filtered_span_G150kb_middle_G35comp_nooverlap_left.bed\")"
   ]
  },
  {
   "cell_type": "code",
   "execution_count": 86,
   "metadata": {
    "collapsed": true
   },
   "outputs": [],
   "source": [
    "right_kept = []\n",
    "right_removed = []\n",
    "for x in conv_loops:\n",
    "    span = x[4]-x[2]\n",
    "    right = rightcnt[x[11]][0]\n",
    "    middle = rightcnt[x[11]][1]\n",
    "    rightmotif = [x[17], x[18], x[19], x[20]]\n",
    "    overlapped = motifoverlap_right(rightmotif, x[11], loops)\n",
    "    if span > 150000 and middle > 50: \n",
    "        if len(overlapped) == 0:\n",
    "            right_kept.append([x[11], right, middle])\n",
    "        else:\n",
    "            right_removed.append([x[11], right, middle])\n",
    "    else:\n",
    "        right_removed.append([x[11], right, middle])"
   ]
  },
  {
   "cell_type": "code",
   "execution_count": 292,
   "metadata": {
    "collapsed": true
   },
   "outputs": [],
   "source": [
    "write_result(directory, right_kept, \"convergent_loops_filtered_span_G150kb_middle_G50comp_nooverlap_right.txt\")"
   ]
  },
  {
   "cell_type": "code",
   "execution_count": null,
   "metadata": {
    "collapsed": true
   },
   "outputs": [],
   "source": []
  }
 ],
 "metadata": {
  "kernelspec": {
   "display_name": "Python 3",
   "language": "python",
   "name": "python3"
  },
  "language_info": {
   "codemirror_mode": {
    "name": "ipython",
    "version": 3
   },
   "file_extension": ".py",
   "mimetype": "text/x-python",
   "name": "python",
   "nbconvert_exporter": "python",
   "pygments_lexer": "ipython3",
   "version": "3.6.7"
  }
 },
 "nbformat": 4,
 "nbformat_minor": 2
}
