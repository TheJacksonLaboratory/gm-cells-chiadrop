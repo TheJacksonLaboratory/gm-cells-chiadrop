{
 "cells": [
  {
   "cell_type": "code",
   "execution_count": 1,
   "metadata": {
    "collapsed": true
   },
   "outputs": [],
   "source": [
    "import pandas as pd\n",
    "import numpy as np\n",
    "import matplotlib.pyplot as plt\n",
    "import random\n",
    "from pyBedGraph import BedGraph\n",
    "from pybedtools import BedTool\n",
    "import scipy.stats\n",
    "from scipy.stats import gaussian_kde as kde\n",
    "from matplotlib.colors import Normalize\n",
    "from matplotlib import cm\n",
    "from collections import Counter\n",
    "import networkx as nx\n",
    "from math import cos, sin, radians\n",
    "from natsort import natsorted"
   ]
  },
  {
   "cell_type": "code",
   "execution_count": 2,
   "metadata": {
    "collapsed": true
   },
   "outputs": [],
   "source": [
    "def read_regionfile(directory, file_name):\n",
    "    with open(directory + file_name) as f:\n",
    "        gems = {}\n",
    "        for line in f:\n",
    "            tmp = line.strip().split(\"\\t\")\n",
    "            gemid = tmp[4]\n",
    "            if gemid in gems.keys():\n",
    "                gems[gemid].append(tmp[5:])\n",
    "            else:\n",
    "                gems[gemid] = [tmp[5:]]\n",
    "    return gems"
   ]
  },
  {
   "cell_type": "code",
   "execution_count": 3,
   "metadata": {
    "collapsed": true
   },
   "outputs": [],
   "source": [
    "def read_raidfile(directory, file_name):\n",
    "    with open(directory + file_name) as f:\n",
    "        raids = {}\n",
    "        for line in f:\n",
    "            tmp = line.strip().split(\"\\t\")\n",
    "            tmp[1] = int(tmp[1])\n",
    "            tmp[2] = int(tmp[2])\n",
    "            raids[tmp[3]] = tmp[0:3]\n",
    "    return raids"
   ]
  },
  {
   "cell_type": "code",
   "execution_count": 4,
   "metadata": {
    "collapsed": true
   },
   "outputs": [],
   "source": [
    "def read_elementsfile(directory, file_name):\n",
    "    with open(directory + file_name) as f:\n",
    "        elements = {}\n",
    "        ebyraid = {}\n",
    "        for line in f:\n",
    "            tmp = line.strip().split(\"\\t\")\n",
    "            eid = tmp[5]\n",
    "            raidid = tmp[17]\n",
    "            tmp[1] = int(tmp[1])\n",
    "            tmp[2] = int(tmp[2])\n",
    "            if tmp[4] != \".\":\n",
    "                tmp.append(tmp[4]) # super-enhancer\n",
    "                tmp.append('SE')\n",
    "            else:\n",
    "                if tmp[12] != '.' and float(tmp[13])>1: # active promoter\n",
    "                    tmp.append(tmp[12]) # add gene name\n",
    "                    tmp.append('P')\n",
    "                else:\n",
    "                    tmp.append('E')\n",
    "                    tmp.append('E')\n",
    "            if eid in elements.keys():\n",
    "                elements[eid].append(tmp)\n",
    "            else:\n",
    "                elements[eid] = tmp\n",
    "            if raidid in ebyraid.keys():\n",
    "                ebyraid[raidid].append(eid)\n",
    "            else:\n",
    "                ebyraid[raidid] = [eid]\n",
    "        sebyraid = dict([(key, list(dict.fromkeys([elements[x][4] for x in val if elements[x][4]!=\".\"]))) for key, val in ebyraid.items()])\n",
    "    elements_se = {}\n",
    "    for k,v in elements.items():\n",
    "        if v[3] != \".\":\n",
    "            if v[4] in elements_se.keys():\n",
    "                elements_se[v[4]].append(v[5])\n",
    "            else:\n",
    "                elements_se[v[4]] = [v[5]]\n",
    "    return elements, ebyraid, sebyraid, elements_se"
   ]
  },
  {
   "cell_type": "code",
   "execution_count": 5,
   "metadata": {
    "collapsed": true
   },
   "outputs": [],
   "source": [
    "def read_loopfile(directory, file_name):\n",
    "    with open(directory + file_name) as f:\n",
    "        loops = {}\n",
    "        for line in f:\n",
    "            tmp = line.strip().split(\"\\t\")\n",
    "            lid = tmp[10]\n",
    "            rid = tmp[16]\n",
    "            petcnt = int(tmp[6])\n",
    "            lpair = lid+\",\"+rid\n",
    "            if lpair in loops.keys():\n",
    "                loops[lpair] += petcnt\n",
    "            else:\n",
    "                loops[lpair] = petcnt\n",
    "    return loops"
   ]
  },
  {
   "cell_type": "code",
   "execution_count": 6,
   "metadata": {
    "collapsed": true
   },
   "outputs": [],
   "source": [
    "def get_lpbyse(loops, elements):\n",
    "    lpby1se = {}\n",
    "    lpby2se = {}\n",
    "    for key, val in loops.items():\n",
    "        lanc = key.split(\",\")[0]\n",
    "        lse = elements[lanc][4]\n",
    "        lgene = elements[lanc][12]\n",
    "        ltpm = elements[lanc][13]\n",
    "        ranc = key.split(\",\")[1]\n",
    "        rse = elements[ranc][4]\n",
    "        rgene = elements[ranc][12]\n",
    "        rtpm = elements[ranc][13]\n",
    "        dist = elements[ranc][1]-elements[lanc][2]\n",
    "        list2add = [lanc, lse, lgene, ltpm, ranc, rse, rgene, rtpm, val, dist]\n",
    "        if lse=='.' and rse != \".\": # only 1 se; Right SE\n",
    "            if rse in lpby1se.keys(): \n",
    "                lpby1se[rse].append(list2add)\n",
    "            else:\n",
    "                lpby1se[rse] = [list2add]\n",
    "        if lse!='.' and rse==\".\": # only 1 se; Left SE\n",
    "            if lse in lpby1se.keys(): \n",
    "                lpby1se[lse].append(list2add)\n",
    "            else:\n",
    "                lpby1se[lse] = [list2add]\n",
    "        if lse!='.' and rse!='.' and lse != rse: # 2 se\n",
    "            concat = lse+';'+rse\n",
    "            if concat in lpby2se.keys(): \n",
    "                lpby2se[concat].append(list2add)\n",
    "            else:\n",
    "                lpby2se[concat] = [list2add]\n",
    "    return lpby1se, lpby2se"
   ]
  },
  {
   "cell_type": "code",
   "execution_count": 7,
   "metadata": {
    "collapsed": true
   },
   "outputs": [],
   "source": [
    "def get_nodes(cldict):\n",
    "    nodes = list(dict.fromkeys(list(cldict.values())))\n",
    "    nodecolors = []\n",
    "    nodecoldict = {}\n",
    "    for x in nodes:\n",
    "        if x.split(\"-\")[1][0] == \"S\": # is super-enhancer\n",
    "            nodecolors.append(\"darkorchid\")\n",
    "            nodecoldict[x] = \"darkorchid\"\n",
    "        elif x.split(\"-\")[1][0] == \"E\": # is intermediate element and is enhancer\n",
    "            nodecolors.append(\"orange\")\n",
    "            nodecoldict[x] = \"orange\"\n",
    "        elif x.split(\"-\")[1][0] == \"G\": # is target gene\n",
    "            nodecolors.append(\"green\")\n",
    "            nodecoldict[x] = \"green\"\n",
    "        elif x.split(\"-\")[1][0] == \"O\": # is intermediate element and is other super-enhancer \n",
    "            nodecolors.append(\"darkorchid\")\n",
    "            nodecoldict[x] = \"darkorchid\"\n",
    "        elif x.split(\"-\")[1][0] == \"P\": # is intermediate element and is promoter\n",
    "            nodecolors.append(\"green\")\n",
    "            nodecoldict[x] = \"green\"\n",
    "    return nodes, nodecolors, nodecoldict"
   ]
  },
  {
   "cell_type": "code",
   "execution_count": 8,
   "metadata": {
    "collapsed": true
   },
   "outputs": [],
   "source": [
    "def get_graph(cldict, compbycl):\n",
    "    G = nx.Graph()\n",
    "    nodes, nodecolors, nodecoldict = get_nodes(cldict)\n",
    "    G.add_nodes_from(nodes)\n",
    "    compbyclpair = {}\n",
    "    edgetriplet = []\n",
    "    for key, val in compbycl.items():\n",
    "        vert = key.split(\",\")\n",
    "        left = vert[0]\n",
    "        right = vert[-1]\n",
    "        edgetriplet.append([left, right, val])\n",
    "        if left != right: # exclude self-loops\n",
    "            pair = left+\",\"+right\n",
    "            if pair in compbyclpair.keys():\n",
    "                compbyclpair[pair] += val\n",
    "            else:\n",
    "                compbyclpair[pair] = val\n",
    "    for k,v in compbyclpair.items():\n",
    "        l = k.split(\",\")[0]\n",
    "        r = k.split(\",\")[1]\n",
    "        G.add_weighted_edges_from([(l,r,v)])\n",
    "    return nodes, nodecolors, nodecoldict, G, edgetriplet"
   ]
  },
  {
   "cell_type": "code",
   "execution_count": 9,
   "metadata": {
    "collapsed": true
   },
   "outputs": [],
   "source": [
    "def get_compbychr(rnapiir):\n",
    "    compbychr = {}\n",
    "    for k, v in rnapiir.items():\n",
    "        tmp = [x[5] for x in v if x[5] != \".\"]\n",
    "        chrom = [x[0] for x in v if x[5] != \".\"]\n",
    "        if len(tmp) > 1: # at least 2 fragments overlapping elements\n",
    "            if chrom[0] in compbychr.keys():\n",
    "                compbychr[chrom[0]].append(tmp)\n",
    "            else:\n",
    "                compbychr[chrom[0]] = [tmp]\n",
    "    return compbychr"
   ]
  },
  {
   "cell_type": "code",
   "execution_count": 10,
   "metadata": {
    "collapsed": true
   },
   "outputs": [],
   "source": [
    "def get_compcnt(se, target, elements_se, elements, compbychr):\n",
    "    cnt = 0\n",
    "    selist = elements_se[se]\n",
    "    sedict = dict.fromkeys(selist, 0)\n",
    "    chrom = elements[target][0]\n",
    "    for x in compbychr[chrom]:\n",
    "        if target in x:\n",
    "            for y in selist:\n",
    "                if y in x:\n",
    "                    cnt += 1\n",
    "                    sedict[y] += 1\n",
    "    return cnt, sedict"
   ]
  },
  {
   "cell_type": "code",
   "execution_count": 11,
   "metadata": {
    "collapsed": true
   },
   "outputs": [],
   "source": [
    "def get_target(lpby1se, elements_se, elements, rnapiicompbychr):\n",
    "    setarget = {}\n",
    "    for k, v in lpby1se.items():\n",
    "        for x in v:\n",
    "            if x[1] == \".\" and x[3] != \".\" or x[5] == \".\" and x[7] != \".\":\n",
    "                if x[1] == \".\":\n",
    "                    target = x[0]\n",
    "                    tpm = float(x[3])\n",
    "                elif x[5] == \".\":\n",
    "                    target = x[4]\n",
    "                    tpm = float(x[7])\n",
    "                cmpcnt, sedict = get_compcnt(k, target, elements_se, elements, rnapiicompbychr)\n",
    "                if x[9] > 150000 and x[9] < 6000000 and cmpcnt > 0 and tpm > 1: # distance > 150 kb & < 6 Mbps\n",
    "                    if k in setarget.keys():\n",
    "                        if setarget[k][0][1] == \".\":\n",
    "                            currtpm = float(setarget[k][0][3])\n",
    "                        else:\n",
    "                            currtpm = float(setarget[k][0][7])\n",
    "                        if currtpm < tpm: # if expression is lower, replace\n",
    "                            setarget[k] = [x]\n",
    "                    else:\n",
    "                        setarget[k] = [x]\n",
    "    return setarget"
   ]
  },
  {
   "cell_type": "code",
   "execution_count": 13,
   "metadata": {
    "collapsed": true
   },
   "outputs": [],
   "source": [
    "def se2target_elements(setarget, elements, elements_se, cohesincompbychr):\n",
    "    elist = list(elements.keys())\n",
    "    for k, v in setarget.items():\n",
    "        if v[0][1] == \".\": # right super enhancer\n",
    "            end = elements_se[v[0][5]][-1]\n",
    "            start = v[0][0]\n",
    "            target = start\n",
    "        elif v[0][5] == \".\": # left super enhancer\n",
    "            start = elements_se[v[0][1]][0]\n",
    "            end = v[0][4]\n",
    "            target = end\n",
    "        startindx = elist.index(start)\n",
    "        endindx = elist.index(end)\n",
    "        path = []\n",
    "        for i in range(startindx, endindx+1):\n",
    "            tmp = elements[elist[i]]\n",
    "            if tmp[4] != \".\" or tmp[2]-tmp[1] > 628: # either super-enhancer constituents or peak > 628 bp\n",
    "                path.append(elist[i])\n",
    "        clusters = []\n",
    "        dum = [path[0]]\n",
    "        for j in range(len(path)-1):\n",
    "            nextstart = elements[path[j+1]][1]\n",
    "            currend = elements[path[j]][2]\n",
    "            currse = elements[path[j]][4]\n",
    "            nextse = elements[path[j+1]][4]\n",
    "            if nextstart-currend < 3000 or currse == nextse and currse != \".\": # either closeby or same SE ID\n",
    "                dum.append(path[j+1])\n",
    "            else:\n",
    "                clusters.append(dum)\n",
    "                dum = [path[j+1]]\n",
    "        clusters.append(dum)\n",
    "        cnt, sedict = get_compcnt(k, target, elements_se, elements, cohesincompbychr)\n",
    "        setarget[k].append(path)\n",
    "        setarget[k].append(clusters)\n",
    "        setarget[k].append(sedict)\n",
    "        setarget[k].append(cnt)\n",
    "    return setarget"
   ]
  },
  {
   "cell_type": "code",
   "execution_count": 14,
   "metadata": {
    "collapsed": true
   },
   "outputs": [],
   "source": [
    "def extract_compbyelm(tlist, elements, compbychr):\n",
    "    extracted = []\n",
    "    chrom = elements[tlist[0]][0]\n",
    "    for x in compbychr[chrom]:\n",
    "        boolean = [i in tlist for i in x] # for each fragment, indicate if overlaps with elements of interest\n",
    "        true_elm = [x[j] for j in range(len(boolean)) if boolean[j]==True]\n",
    "        if len(true_elm) > 1:\n",
    "            extracted.append(\",\".join(true_elm))\n",
    "    return extracted"
   ]
  },
  {
   "cell_type": "code",
   "execution_count": 15,
   "metadata": {
    "collapsed": true
   },
   "outputs": [],
   "source": [
    "def get_cldict(test, elements): # test is one of the setarget dictionary element\n",
    "    if test[0][1] != \".\": # SE on left\n",
    "        sepos = \"L\"\n",
    "        gene = test[0][6]+\"; \"+test[0][7]+\"; \" + str(test[0][9])\n",
    "        seid = test[0][1]\n",
    "    elif test[0][5] != \".\": # SE on right\n",
    "        sepos = \"R\"\n",
    "        gene = test[0][2] + \"; \" + test[0][3] + \"; \" + str(test[0][9])\n",
    "        seid = test[0][5]\n",
    "    cldict = {}\n",
    "    for i in range(len(test[2])):\n",
    "        states = [elements[y][19] for y in test[2][i]]\n",
    "        if 'SE' in states:\n",
    "            label = 'OSE'\n",
    "        elif 'P' in states:\n",
    "            label = 'P'\n",
    "        else: \n",
    "            label = 'E'\n",
    "        for x in test[2][i]:\n",
    "            if sepos == \"L\" and i == 0: # left-most element & super-enhancer\n",
    "                cldict[x] = \"CL\" + str(i) + \"-\" + seid\n",
    "            if sepos == \"L\" and i == len(test[2])-1: # left-most element & target gene\n",
    "                cldict[x] = \"CL\" + str(i) + \"-G; \" + gene\n",
    "            if sepos == \"R\" and i == len(test[2])-1: # right-most element & super-enhancer\n",
    "                cldict[x] = \"CL\" + str(i) + \"-\" + seid\n",
    "            if sepos == \"R\" and i == 0: # right-most element & target gene\n",
    "                cldict[x] = \"CL\" + str(i) + \"-G; \" + gene\n",
    "            elif i != 0 and i != len(test[2])-1: ## intermediate elements\n",
    "                cldict[x] = \"CL\" + str(i) + \"-\" + label + str(i-1)\n",
    "    return cldict"
   ]
  },
  {
   "cell_type": "code",
   "execution_count": 16,
   "metadata": {
    "collapsed": true
   },
   "outputs": [],
   "source": [
    "def get_clcoord(cldict, elements):\n",
    "    clcoord = {}\n",
    "    for k,v in cldict.items():\n",
    "        chrom = elements[k][0]\n",
    "        start = elements[k][1]\n",
    "        end = elements[k][2]\n",
    "        if v in clcoord.keys():\n",
    "            if clcoord[v][1] > start:\n",
    "                clcoord[v][1] = start\n",
    "            if clcoord[v][2] < end:\n",
    "                clcoord[v][2] = end\n",
    "        else:\n",
    "            clcoord[v] = [chrom, start, end]\n",
    "    return clcoord"
   ]
  },
  {
   "cell_type": "code",
   "execution_count": 17,
   "metadata": {
    "collapsed": true
   },
   "outputs": [],
   "source": [
    "def get_elm_linear_positions(clcoord, theta, maxspan): # theta: angle in degrees (not radians!)\n",
    "    mid = [(x[1]+x[2])/2 for x in list(clcoord.values())]\n",
    "    left = min(mid)\n",
    "    right = max(mid)\n",
    "    span = right - left\n",
    "    positions = {}\n",
    "    leftelm = [x.split(\"-\")[1][0] for x in list(clcoord.keys()) if x.split(\"-\")[0]==\"CL0\"][0]\n",
    "    for k,v in clcoord.items():\n",
    "        #r = 1-((v[1]+v[2])/2-left)*2/span # version 1, 2 with uniform distance between SE and target gene prom\n",
    "        r = (1-((v[1]+v[2])/2-left)*2/span)*span/maxspan # version 3 with variable distance\n",
    "        #print(r)\n",
    "        if leftelm == \"S\": #SE on the left\n",
    "            positions[k] = (r*cos(radians(theta)), r*sin(radians(theta)))\n",
    "        else: # SE on the right; Target gene on the left\n",
    "            positions[k] = ((-1)*r*cos(radians(theta)), (-1)*r*sin(radians(theta)))\n",
    "        #nodesizes.append(int((v[2]-v[1])/10))\n",
    "    return positions #, nodesizes"
   ]
  },
  {
   "cell_type": "code",
   "execution_count": 18,
   "metadata": {
    "collapsed": true
   },
   "outputs": [],
   "source": [
    "def write_result(directory, out_list, out_name):\n",
    "    with open(directory+out_name, 'a') as file1:\n",
    "        for i in range(len(out_list)):\n",
    "            file1.write('\\t'.join(map(str, out_list[i])) + '\\n')\n",
    "    file1.close()"
   ]
  },
  {
   "cell_type": "code",
   "execution_count": 19,
   "metadata": {
    "collapsed": true
   },
   "outputs": [],
   "source": [
    "directory='/Users/kimm/Desktop/GM12878_files/'\n",
    "cohesin_rfile='GM12878-cohesin-pooled_comp_FDR_0.2_PASS.RNAPII-peaksoverlap.region'\n",
    "rnapii_rfile='GM12878-RNAPII-pooledv2_comp_FDR_0.2_PASS.RNAPII-peaksoverlap.region'\n",
    "elements_file='RNAPII-ChIA-PET-drop_peaks_merge500bp-superenhancer_const_chromHMM_ENCFF879KFK_RAID_20200729.bed'\n",
    "loop_file='LHG0035N_0035V_0045V.e500.clusters.cis.BE5.RNAPIIpeak.bothpksupport.bedpe'\n",
    "raid_file='GM12878_RAID_20200627.bed'"
   ]
  },
  {
   "cell_type": "code",
   "execution_count": 20,
   "metadata": {
    "collapsed": true
   },
   "outputs": [],
   "source": [
    "raids = read_raidfile(directory, raid_file)"
   ]
  },
  {
   "cell_type": "code",
   "execution_count": 21,
   "metadata": {
    "collapsed": true
   },
   "outputs": [],
   "source": [
    "loops = read_loopfile(directory, loop_file)"
   ]
  },
  {
   "cell_type": "code",
   "execution_count": 22,
   "metadata": {
    "collapsed": true
   },
   "outputs": [],
   "source": [
    "cohesinr = read_regionfile(directory, cohesin_rfile)"
   ]
  },
  {
   "cell_type": "code",
   "execution_count": 23,
   "metadata": {
    "collapsed": true
   },
   "outputs": [],
   "source": [
    "cohesincompbychr = get_compbychr(cohesinr)"
   ]
  },
  {
   "cell_type": "code",
   "execution_count": 24,
   "metadata": {
    "collapsed": true
   },
   "outputs": [],
   "source": [
    "rnapiir = read_regionfile(directory, rnapii_rfile)"
   ]
  },
  {
   "cell_type": "code",
   "execution_count": 25,
   "metadata": {
    "collapsed": true
   },
   "outputs": [],
   "source": [
    "rnapiicompbychr = get_compbychr(rnapiir)"
   ]
  },
  {
   "cell_type": "code",
   "execution_count": 26,
   "metadata": {
    "collapsed": true
   },
   "outputs": [],
   "source": [
    "elements, ebyraid, sebyraid, elements_se = read_elementsfile(directory, elements_file) # elements, elem. by RAID, super-enh by RAID"
   ]
  },
  {
   "cell_type": "code",
   "execution_count": 27,
   "metadata": {
    "collapsed": true
   },
   "outputs": [],
   "source": [
    "lpby1se, lpby2se = get_lpbyse(loops, elements)"
   ]
  },
  {
   "cell_type": "code",
   "execution_count": 28,
   "metadata": {
    "collapsed": true
   },
   "outputs": [],
   "source": [
    "setarget = get_target(lpby1se, elements_se, elements, rnapiicompbychr)"
   ]
  },
  {
   "cell_type": "code",
   "execution_count": 29,
   "metadata": {},
   "outputs": [
    {
     "data": {
      "text/plain": [
       "188"
      ]
     },
     "execution_count": 29,
     "metadata": {},
     "output_type": "execute_result"
    }
   ],
   "source": [
    "len(setarget)"
   ]
  },
  {
   "cell_type": "code",
   "execution_count": 30,
   "metadata": {
    "collapsed": true
   },
   "outputs": [],
   "source": [
    "setarget = se2target_elements(setarget, elements, elements_se, cohesincompbychr)"
   ]
  },
  {
   "cell_type": "code",
   "execution_count": 31,
   "metadata": {
    "collapsed": true
   },
   "outputs": [],
   "source": [
    "spanlist = []\n",
    "for k, v in setarget.items():\n",
    "    cldict = get_cldict(v, elements)\n",
    "    chrom = elements[v[1][0]][0]\n",
    "    start = elements[v[1][0]][1]\n",
    "    clcoord = get_clcoord(cldict, elements)\n",
    "    mid = [(x[1]+x[2])/2 for x in clcoord.values()]\n",
    "    span = max(mid)-min(mid)\n",
    "    spanlist.append(span)\n",
    "    v.append(span)\n",
    "    v.append(chrom)\n",
    "    v.append(start)"
   ]
  },
  {
   "cell_type": "code",
   "execution_count": 32,
   "metadata": {},
   "outputs": [
    {
     "data": {
      "text/plain": [
       "5132831.5"
      ]
     },
     "execution_count": 32,
     "metadata": {},
     "output_type": "execute_result"
    }
   ],
   "source": [
    "max(spanlist)"
   ]
  },
  {
   "cell_type": "code",
   "execution_count": 48,
   "metadata": {
    "collapsed": true
   },
   "outputs": [],
   "source": [
    "ind = 0\n",
    "edgetrip_dict = {}\n",
    "g_dict = {}\n",
    "compbycl_dict = {}\n",
    "MG = nx.Graph()\n",
    "#spanlist = []\n",
    "maxspan = max(spanlist)\n",
    "#for k, v in setarget.items(): # version 1,2,3 \n",
    "#for k, v in sorted(setarget.items(), key=lambda x: x[1][5], reverse=True): # version 4 longest to shortest\n",
    "for k, v in natsorted(setarget.items(), key=lambda x: (x[1][6], x[1][7]), reverse=True): # version 8 by chromosome coord\n",
    "    if v[0][5] == k: # left target\n",
    "        gene = v[0][2]\n",
    "        tpm = float(v[0][3])\n",
    "    elif v[0][1] == k: # right target\n",
    "        gene = v[0][6]\n",
    "        tpm = float(v[0][7])\n",
    "    extracted = Counter(extract_compbyelm(v[1], elements, cohesincompbychr))\n",
    "    cldict = get_cldict(v, elements)\n",
    "    compbycl = {}\n",
    "    for k2, v2 in extracted.items():\n",
    "        klist = k2.split(\",\")\n",
    "        cstr = \",\".join([cldict[x] for x in klist])\n",
    "        if cstr in compbycl.keys():\n",
    "            compbycl[cstr] += v2\n",
    "        else:\n",
    "            compbycl[cstr] = v2\n",
    "    nodes, nodecolors, nodecoldict, G, edgetriplet = get_graph(cldict, compbycl)\n",
    "    edgetrip_dict[k] = edgetriplet\n",
    "    g_dict[k] = G\n",
    "    compbycl_dict[k] = compbycl\n",
    "    chrom = elements[v[1][0]][0]\n",
    "    start = elements[v[1][0]][1]\n",
    "    end = elements[v[1][-1]][2]\n",
    "    dist = end-start\n",
    "    seid = k\n",
    "    sedict = v[3]\n",
    "    cntse2g = v[4]\n",
    "    coord = chrom +\":\" + str(start)+\"-\"+str(end)\n",
    "    elmstates = [x.split(\"-\")[1][0] for x in nodes]\n",
    "    clcoord = get_clcoord(cldict, elements)\n",
    "    theta = ind*(90/188)\n",
    "    positions = get_elm_linear_positions(clcoord, theta, maxspan)\n",
    "    maxdeg = max([d[1] for d in G.degree(weight = 'weight')])\n",
    "    for k, v in positions.items():\n",
    "        MG.add_node(seid+\":\"+k, pos = positions[k], ncol = nodecoldict[k], ndeg = G.degree(weight = 'weight')[k])\n",
    "    # example of weight 1, 10, 50, 100, 1643\n",
    "    MG.add_node('ndeg1', pos = (0.4, -0.25), ncol = 'gray', ndeg = 1)\n",
    "    MG.add_node('ndeg10', pos = (0.4, -0.3), ncol = 'gray', ndeg = 10)\n",
    "    MG.add_node('ndeg50', pos = (0.4, -0.35), ncol = 'gray', ndeg = 50)\n",
    "    MG.add_node('ndeg100', pos = (0.4, -0.4), ncol = 'gray', ndeg = 100)\n",
    "    MG.add_node('ndeg500', pos = (0.4, -0.45), ncol = 'gray', ndeg = 500)\n",
    "    MG.add_node('ndeg898', pos = (0.4, -0.5), ncol = 'gray', ndeg = 898)\n",
    "    labels = {'ndeg1':'degree=1', 'ndeg10':'degree=10', 'ndeg50':'degree=50', 'ndeg100':'degree=100', 'ndeg500':'degree=500', 'ndeg898':'degree=898'}\n",
    "    maxweight = max([x[2]['weight'] for x in G.edges.data()])\n",
    "    for x in G.edges.data():\n",
    "        radius = (int(x[1].split(\"-\")[0].split(\"CL\")[1])-int(x[0].split(\"-\")[0].split(\"CL\")[1]))/len(nodes)\n",
    "        ecol = 'navy'\n",
    "        #width = x[2]['weight']*2/maxweight # version 1\n",
    "        width = 0.7 # version 2\n",
    "        if x[0].split(\"-\")[1][0] == \"S\" or x[1].split(\"-\")[1][0] == \"S\":\n",
    "            radius = -radius\n",
    "        MG.add_edge(seid+\":\"+x[0], seid+\":\"+x[1], weight = x[2]['weight'], rad=radius, width = width, col = ecol)\n",
    "    ind += 1\n",
    "    #del G"
   ]
  },
  {
   "cell_type": "code",
   "execution_count": 49,
   "metadata": {},
   "outputs": [
    {
     "data": {
      "text/plain": [
       "89.52127659574468"
      ]
     },
     "execution_count": 49,
     "metadata": {},
     "output_type": "execute_result"
    }
   ],
   "source": [
    "theta"
   ]
  },
  {
   "cell_type": "code",
   "execution_count": 50,
   "metadata": {},
   "outputs": [
    {
     "data": {
      "text/plain": [
       "5132831.5"
      ]
     },
     "execution_count": 50,
     "metadata": {},
     "output_type": "execute_result"
    }
   ],
   "source": [
    "max(spanlist)"
   ]
  },
  {
   "cell_type": "code",
   "execution_count": 51,
   "metadata": {
    "collapsed": true
   },
   "outputs": [],
   "source": [
    "pos=nx.get_node_attributes(MG,'pos')\n",
    "ncol=list(nx.get_node_attributes(MG,'ncol').values())\n",
    "nsize = [x/10 for x in list(nx.get_node_attributes(MG,'ndeg').values())]"
   ]
  },
  {
   "cell_type": "code",
   "execution_count": 54,
   "metadata": {
    "collapsed": true
   },
   "outputs": [],
   "source": [
    "from matplotlib.patches import Patch\n",
    "from matplotlib.lines import Line2D"
   ]
  },
  {
   "cell_type": "code",
   "execution_count": 57,
   "metadata": {
    "collapsed": true
   },
   "outputs": [],
   "source": [
    "degree_list = [[k,v] for k,v in nx.get_node_attributes(MG,'ndeg').items() if k[0]!=\"n\"]"
   ]
  },
  {
   "cell_type": "code",
   "execution_count": 58,
   "metadata": {
    "collapsed": true
   },
   "outputs": [],
   "source": [
    "write_result(directory, degree_list, \"GM12878-cohesin_SE_node-dgrees.txt\")"
   ]
  },
  {
   "cell_type": "code",
   "execution_count": 59,
   "metadata": {},
   "outputs": [
    {
     "data": {
      "text/plain": [
       "2014"
      ]
     },
     "execution_count": 59,
     "metadata": {},
     "output_type": "execute_result"
    }
   ],
   "source": [
    "len(nx.get_node_attributes(MG, 'ndeg'))"
   ]
  },
  {
   "cell_type": "code",
   "execution_count": 60,
   "metadata": {},
   "outputs": [
    {
     "data": {
      "image/png": "[encoded data removed]",
      "text/plain": [
       "<Figure size 864x864 with 1 Axes>"
      ]
     },
     "metadata": {
      "needs_background": "light"
     },
     "output_type": "display_data"
    }
   ],
   "source": [
    "#plt.figure(figsize=(12, 12))\n",
    "fig, ax = plt.subplots(figsize=(12, 12))\n",
    "legend_elements = [#Line2D([0], [0], color='b', lw=4, label='Line'),\n",
    "                   Line2D([0], [0], marker='o', color='w', label='Super-enhancer', \n",
    "                          markerfacecolor='darkorchid', markersize=10),\n",
    "                    Line2D([0], [0], marker='o', color='w', label='Gene promoter', \n",
    "                          markerfacecolor='green', markersize=10),\n",
    "                    Line2D([0], [0], marker='o', color='w', label='Enhancer', \n",
    "                          markerfacecolor='orange', markersize=10),\n",
    "                    #Line2D([0], [0], marker='o', color='w', label='Node Degree=80', \n",
    "                    #      markerfacecolor='grey', markersize=80),\n",
    "                   #Patch(facecolor='orange', edgecolor='r',\n",
    "                    #     label='Color Patch')\n",
    "                    ]\n",
    "nx.draw_networkx_nodes(MG, pos = pos, node_color = ncol, node_size = nsize, ax=ax)\n",
    "#nx.draw(G, pos, edges=G.edges(), width=10)\n",
    "pos['ndeg1'] = (0.7, -0.25)\n",
    "pos['ndeg10'] = (0.7, -0.3)\n",
    "pos['ndeg50'] = (0.7, -0.35)\n",
    "pos['ndeg100'] = (0.7, -0.4)\n",
    "pos['ndeg500'] = (0.7, -0.45)\n",
    "pos['ndeg898'] = (0.7, -0.5)\n",
    "nx.draw_networkx_labels(G,pos,labels,font_size=16)\n",
    "for edge in MG.edges(data=True):\n",
    "    nx.draw_networkx_edges(MG, pos, edge_color = edge[2][\"col\"], arrowstyle=\"-\", width = edge[2][\"width\"], edgelist=[(edge[0],edge[1])])\n",
    "maxndeg = max(list(nx.get_node_attributes(MG,'ndeg').values()))    \n",
    "plt.title(\"Cohesin 188 SEs connectivity map\" + \"\\n\" +\n",
    "          \"Number of nodes: \" + str(len(MG.nodes())-6) + \"\\n\" \n",
    "          + \"Number of edges: \" + str(len(MG.edges())) + \"\\n\"\n",
    "          + \"Maximum node degree: \" + str(maxndeg), fontsize = 14)\n",
    "plt.ylim((-1.1,1.1))\n",
    "plt.xlim((-1.1,1.1))\n",
    "ax.tick_params(left=True, bottom=True, labelleft=True, labelbottom=True)\n",
    "#plt.legend(loc='upper left')\n",
    "ax.legend(handles=legend_elements, loc='upper left')\n",
    "plt.savefig(directory+'GM12878_Cohesin_SE_master_v12.png', dpi=300, bbox_inches='tight')\n",
    "plt.savefig(directory+'GM12878_Cohesin_SE_master_v12.pdf', dpi=300, bbox_inches='tight')\n",
    "plt.show()"
   ]
  },
  {
   "cell_type": "code",
   "execution_count": 61,
   "metadata": {},
   "outputs": [
    {
     "data": {
      "text/plain": [
       "Counter({'S': 188, 'O': 40, 'E': 902, 'G': 188, 'P': 690})"
      ]
     },
     "execution_count": 61,
     "metadata": {},
     "output_type": "execute_result"
    }
   ],
   "source": [
    "Counter([x.split(\"-\")[1][0] for x in MG.nodes() if x[0]!=\"n\"])"
   ]
  },
  {
   "cell_type": "code",
   "execution_count": null,
   "metadata": {
    "collapsed": true
   },
   "outputs": [],
   "source": []
  },
  {
   "cell_type": "code",
   "execution_count": null,
   "metadata": {
    "collapsed": true
   },
   "outputs": [],
   "source": []
  },
  {
   "cell_type": "code",
   "execution_count": null,
   "metadata": {
    "collapsed": true
   },
   "outputs": [],
   "source": []
  },
  {
   "cell_type": "code",
   "execution_count": null,
   "metadata": {
    "collapsed": true
   },
   "outputs": [],
   "source": []
  }
 ],
 "metadata": {
  "kernelspec": {
   "display_name": "Python 3",
   "language": "python",
   "name": "python3"
  },
  "language_info": {
   "codemirror_mode": {
    "name": "ipython",
    "version": 3
   },
   "file_extension": ".py",
   "mimetype": "text/x-python",
   "name": "python",
   "nbconvert_exporter": "python",
   "pygments_lexer": "ipython3",
   "version": "3.6.7"
  }
 },
 "nbformat": 4,
 "nbformat_minor": 2
}
