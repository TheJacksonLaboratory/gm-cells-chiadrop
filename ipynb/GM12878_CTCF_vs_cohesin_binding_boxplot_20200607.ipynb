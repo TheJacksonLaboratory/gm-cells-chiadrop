{
 "cells": [
  {
   "cell_type": "code",
   "execution_count": 89,
   "metadata": {
    "collapsed": true
   },
   "outputs": [],
   "source": [
    "import pandas as pd\n",
    "import numpy as np\n",
    "import matplotlib.pyplot as plt\n",
    "import random\n",
    "from pyBedGraph import BedGraph\n",
    "from pybedtools import BedTool\n",
    "import scipy.stats"
   ]
  },
  {
   "cell_type": "code",
   "execution_count": 2,
   "metadata": {
    "collapsed": true
   },
   "outputs": [],
   "source": [
    "def read_cf(directory, file_name):\n",
    "    with open(directory + file_name) as f:\n",
    "        chrom = {}\n",
    "        for line in f:\n",
    "            tmp = line.strip().split(\"\\t\")\n",
    "            if tmp[0] != 'chrM':\n",
    "                chrom[tmp[0]] = int(tmp[1])\n",
    "    return chrom"
   ]
  },
  {
   "cell_type": "code",
   "execution_count": 11,
   "metadata": {
    "collapsed": true
   },
   "outputs": [],
   "source": [
    "def read_peak(directory, file_name):\n",
    "    with open(directory + file_name) as f:\n",
    "        seen = {}\n",
    "        specific = []\n",
    "        common = []\n",
    "        for line in f:\n",
    "            tmp = line.strip().split(\"\\t\")\n",
    "            region = ','.join([tmp[0], tmp[1], tmp[2]])\n",
    "            if region not in seen.keys():\n",
    "                if tmp[3] != '.':\n",
    "                    common.append([tmp[0], int(tmp[1]), int(tmp[2])])\n",
    "                else:\n",
    "                    specific.append([tmp[0], int(tmp[1]), int(tmp[2])])\n",
    "                seen[region] = 1 # add region to seen list\n",
    "    return specific, common"
   ]
  },
  {
   "cell_type": "code",
   "execution_count": 139,
   "metadata": {
    "collapsed": true
   },
   "outputs": [],
   "source": [
    "def plot_boxplot(dataset, dlabel, clr, tit, ylab, fig_name):\n",
    "    fig = plt.figure(figsize = (8,6))\n",
    "    medianprops = dict(linewidth = 3, color=clr)\n",
    "    i=0\n",
    "    boxprops = dict(linewidth = 1.5)\n",
    "    toplot = [np.asarray([]) for i in range(len(dataset))]\n",
    "    for d in dataset:\n",
    "        #medianprops = dict(linewidth = 3, color=colcode[i])\n",
    "        datax = toplot\n",
    "        datax[i] = np.asarray(dataset[i])\n",
    "        plt.boxplot(datax, widths = 0.6, medianprops = medianprops, boxprops = boxprops)\n",
    "        i +=1\n",
    "    plt.xticks([i for i in range(1, len(dataset)+1)], dlabel, fontsize = 18)\n",
    "    plt.yticks(fontsize = 18)\n",
    "    plt.ylabel(ylab, fontsize = 18)\n",
    "    #plt.ylim(bottom=2.5)\n",
    "    plt.title(tit, fontsize = 18)\n",
    "    plt.savefig(fig_name+'.pdf', dpi=150, bbox_inches=\"tight\")\n",
    "    plt.show()\n",
    "    plt.close()"
   ]
  },
  {
   "cell_type": "code",
   "execution_count": 57,
   "metadata": {
    "collapsed": true
   },
   "outputs": [],
   "source": [
    "def get_cov(interval_list, bgobj):\n",
    "    tmpvals = []\n",
    "    for x in interval_list:\n",
    "        value = list(bgobj.stats(stat = 'max', intervals = [x]))\n",
    "        tmpvals.append(value[0])\n",
    "    return tmpvals"
   ]
  },
  {
   "cell_type": "code",
   "execution_count": 3,
   "metadata": {
    "collapsed": true
   },
   "outputs": [],
   "source": [
    "def write_result(directory, out_list, out_name):\n",
    "    with open(directory+out_name, 'a') as file1:\n",
    "        for i in range(len(out_list)):\n",
    "            file1.write('\\t'.join(map(str, out_list[i])) + '\\n')\n",
    "    file1.close()"
   ]
  },
  {
   "cell_type": "code",
   "execution_count": 12,
   "metadata": {
    "collapsed": true
   },
   "outputs": [],
   "source": [
    "directory='/Users/kimm/Desktop/GM12878_files/'\n",
    "#ctcf_cov='CDH0002NR_hg38_CTCF_FDR_0.1_pseudoGEM_5000_enrichTest_master_PASS.bedgraph'\n",
    "ctcf_cov='GM12878-CTCF-pooled_comp_sing_FDR_0.2_PASS.bedgraph'\n",
    "ctcf_peak='GM12878-CTCF-pooled_comp_sing_FDR_0.2_PASS_thresh70_merge3kb_peaks_GM12878-cohesin-pooled_comp_sing_FDR_0.2_PASS_thresh400_merge3kb_peaks_intersect_wao.bed'\n",
    "#cohesin_cov='SHG0180-181-182NR_hg38_cohesin_FDR_0.1_pseudoGEM_5000_enrichTest_master_PASS.bedgraph'\n",
    "cohesin_cov='GM12878-cohesin-pooled_comp_sing_FDR_0.2_PASS.bedgraph'\n",
    "cohesin_peak='GM12878-cohesin-pooled_comp_sing_FDR_0.2_PASS_thresh400_merge3kb_peaks_GM12878-CTCF-pooled_comp_sing_FDR_0.2_PASS_thresh70_merge3kb_peaks_intersect_wao.bed'"
   ]
  },
  {
   "cell_type": "code",
   "execution_count": 5,
   "metadata": {
    "collapsed": true
   },
   "outputs": [],
   "source": [
    "chromfile = read_cf(directory, 'hg38.chrom.sizes')\n",
    "#repet = BedTool(directory+'hg38PAM.sameChr.tx.sorted.legal.6To12Copies.within5kb_col1-4.bed')"
   ]
  },
  {
   "cell_type": "code",
   "execution_count": 6,
   "metadata": {
    "collapsed": true
   },
   "outputs": [],
   "source": [
    "bgctcf = BedGraph(directory+'hg38.chrom.sizes', directory+ctcf_cov)"
   ]
  },
  {
   "cell_type": "code",
   "execution_count": 7,
   "metadata": {
    "collapsed": true
   },
   "outputs": [],
   "source": [
    "bgcohesin = BedGraph(directory+'hg38.chrom.sizes', directory+cohesin_cov)"
   ]
  },
  {
   "cell_type": "code",
   "execution_count": 8,
   "metadata": {
    "collapsed": true
   },
   "outputs": [],
   "source": [
    "for key,val in chromfile.items():\n",
    "    bgctcf.load_chrom_data(key)\n",
    "    bgcohesin.load_chrom_data(key)"
   ]
  },
  {
   "cell_type": "code",
   "execution_count": 13,
   "metadata": {
    "collapsed": true
   },
   "outputs": [],
   "source": [
    "cohesin_spec, cohesin_comm = read_peak(directory, cohesin_peak)"
   ]
  },
  {
   "cell_type": "code",
   "execution_count": 16,
   "metadata": {
    "collapsed": true
   },
   "outputs": [],
   "source": [
    "ctcf_spec, ctcf_comm = read_peak(directory, ctcf_peak)"
   ]
  },
  {
   "cell_type": "code",
   "execution_count": 40,
   "metadata": {},
   "outputs": [
    {
     "data": {
      "text/plain": [
       "16413"
      ]
     },
     "execution_count": 40,
     "metadata": {},
     "output_type": "execute_result"
    }
   ],
   "source": [
    "len(cohesin_comm)"
   ]
  },
  {
   "cell_type": "code",
   "execution_count": 41,
   "metadata": {},
   "outputs": [
    {
     "data": {
      "text/plain": [
       "10239"
      ]
     },
     "execution_count": 41,
     "metadata": {},
     "output_type": "execute_result"
    }
   ],
   "source": [
    "len(cohesin_spec)"
   ]
  },
  {
   "cell_type": "code",
   "execution_count": 42,
   "metadata": {},
   "outputs": [
    {
     "data": {
      "text/plain": [
       "16499"
      ]
     },
     "execution_count": 42,
     "metadata": {},
     "output_type": "execute_result"
    }
   ],
   "source": [
    "len(ctcf_comm)"
   ]
  },
  {
   "cell_type": "code",
   "execution_count": 43,
   "metadata": {},
   "outputs": [
    {
     "data": {
      "text/plain": [
       "2618"
      ]
     },
     "execution_count": 43,
     "metadata": {},
     "output_type": "execute_result"
    }
   ],
   "source": [
    "len(ctcf_spec)"
   ]
  },
  {
   "cell_type": "code",
   "execution_count": 23,
   "metadata": {
    "collapsed": true
   },
   "outputs": [],
   "source": [
    "cohesin_comm_vals = list(bgcohesin.stats(stat = 'max', intervals = cohesin_comm))\n",
    "cohesin_spec_vals = list(bgcohesin.stats(stat = 'max', intervals = cohesin_spec))\n",
    "ctcf_comm_vals = list(bgctcf.stats(stat = 'max', intervals = ctcf_comm))\n",
    "ctcf_spec_vals = list(bgctcf.stats(stat = 'max', intervals = ctcf_spec))"
   ]
  },
  {
   "cell_type": "code",
   "execution_count": 61,
   "metadata": {
    "collapsed": true
   },
   "outputs": [],
   "source": [
    "cohesin_comm_vals = get_cov(cohesin_comm, bgcohesin)\n",
    "cohesin_spec_vals = get_cov(cohesin_spec, bgcohesin)\n",
    "ctcf_comm_vals = get_cov(ctcf_comm, bgctcf)\n",
    "ctcf_spec_vals = get_cov(ctcf_spec, bgctcf)"
   ]
  },
  {
   "cell_type": "code",
   "execution_count": 119,
   "metadata": {
    "collapsed": true
   },
   "outputs": [],
   "source": [
    "cohesin_stat = scipy.stats.mannwhitneyu([np.log10(x) for x in cohesin_comm_vals], [np.log10(x) for x in cohesin_spec_vals])"
   ]
  },
  {
   "cell_type": "code",
   "execution_count": 120,
   "metadata": {
    "collapsed": true
   },
   "outputs": [],
   "source": [
    "cohesin_title = \"Cohesin \\n  Common: median = \" + str(int(np.median(cohesin_comm_vals))) + \"; n = \" + str(len(cohesin_comm_vals)) + \"\\n\" + \"Specific: median = \" + str(int(np.median(cohesin_spec_vals))) + \"; n = \" + str(len(cohesin_spec_vals)) + \"\\n\" + \"Mann-Whitney stat = \" + str(cohesin_stat[0]) + \"; pval = \" + str(cohesin_stat[1]) "
   ]
  },
  {
   "cell_type": "code",
   "execution_count": 140,
   "metadata": {},
   "outputs": [
    {
     "data": {
      "image/png": "[encoded data removed]",
      "text/plain": [
       "<Figure size 576x432 with 1 Axes>"
      ]
     },
     "metadata": {
      "needs_background": "light"
     },
     "output_type": "display_data"
    }
   ],
   "source": [
    "plot_boxplot([[np.log10(x) for x in cohesin_comm_vals], [np.log10(x) for x in cohesin_spec_vals]], ['Cohesin common', 'Cohesin specific'], '#006600', cohesin_title, 'log10(Binding intensity)', 'cohesin_common_vs_spec_boxplot')"
   ]
  },
  {
   "cell_type": "code",
   "execution_count": 131,
   "metadata": {},
   "outputs": [
    {
     "data": {
      "text/plain": [
       "2.6020599913279625"
      ]
     },
     "execution_count": 131,
     "metadata": {},
     "output_type": "execute_result"
    }
   ],
   "source": [
    "np.log10(400)"
   ]
  },
  {
   "cell_type": "code",
   "execution_count": 125,
   "metadata": {
    "collapsed": true
   },
   "outputs": [],
   "source": [
    "ctcf_stat = scipy.stats.mannwhitneyu([np.log10(x) for x in ctcf_spec_vals], [np.log10(x) for x in ctcf_comm_vals])"
   ]
  },
  {
   "cell_type": "code",
   "execution_count": 126,
   "metadata": {
    "collapsed": true
   },
   "outputs": [],
   "source": [
    "ctcf_title = \"CTCF \\n  Common: median = \" + str(int(np.median(ctcf_comm_vals))) + \"; n = \" + str(len(ctcf_comm_vals)) + \"\\n\" + \"Specific: median = \" + str(int(np.median(ctcf_spec_vals))) + \"; n = \" + str(len(ctcf_spec_vals)) + \"\\n\" + \"Mann-Whitney stat = \" + str(ctcf_stat[0]) + \"; pval = \" + str(ctcf_stat[1]) "
   ]
  },
  {
   "cell_type": "code",
   "execution_count": 141,
   "metadata": {},
   "outputs": [
    {
     "data": {
      "image/png": "[encoded data removed]",
      "text/plain": [
       "<Figure size 576x432 with 1 Axes>"
      ]
     },
     "metadata": {
      "needs_background": "light"
     },
     "output_type": "display_data"
    }
   ],
   "source": [
    "plot_boxplot([[np.log10(x) for x in ctcf_spec_vals], [np.log10(x) for x in ctcf_comm_vals]], ['CTCF specific', 'CTCF common'], '#0000B2', ctcf_title, 'log10(Binding intensity)', 'ctcf_common_vs_spec_boxplot')"
   ]
  },
  {
   "cell_type": "code",
   "execution_count": null,
   "metadata": {
    "collapsed": true
   },
   "outputs": [],
   "source": []
  },
  {
   "cell_type": "code",
   "execution_count": null,
   "metadata": {
    "collapsed": true
   },
   "outputs": [],
   "source": []
  }
 ],
 "metadata": {
  "kernelspec": {
   "display_name": "Python 3",
   "language": "python",
   "name": "python3"
  },
  "language_info": {
   "codemirror_mode": {
    "name": "ipython",
    "version": 3
   },
   "file_extension": ".py",
   "mimetype": "text/x-python",
   "name": "python",
   "nbconvert_exporter": "python",
   "pygments_lexer": "ipython3",
   "version": "3.6.7"
  }
 },
 "nbformat": 4,
 "nbformat_minor": 2
}
