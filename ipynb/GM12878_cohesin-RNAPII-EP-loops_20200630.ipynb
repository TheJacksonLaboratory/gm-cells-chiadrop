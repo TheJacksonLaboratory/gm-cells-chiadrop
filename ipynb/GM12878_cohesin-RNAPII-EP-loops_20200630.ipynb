{
 "cells": [
  {
   "cell_type": "code",
   "execution_count": 1,
   "metadata": {
    "collapsed": true
   },
   "outputs": [],
   "source": [
    "import os\n",
    "import pandas as pd\n",
    "import numpy as np\n",
    "import random\n",
    "import matplotlib.pyplot as plt\n",
    "import statsmodels.api as sm\n",
    "import itertools as it\n",
    "import re\n",
    "from collections import Counter\n",
    "from statsmodels.sandbox.stats.multicomp import multipletests\n",
    "from itertools import compress\n",
    "from scipy.stats.kde import gaussian_kde\n",
    "from numpy import linspace\n",
    "import scipy\n",
    "from scipy import stats"
   ]
  },
  {
   "cell_type": "code",
   "execution_count": 2,
   "metadata": {
    "collapsed": true
   },
   "outputs": [],
   "source": [
    "def read_epfile(directory, file_name):\n",
    "    with open(directory + file_name) as f:\n",
    "        crnannot = []\n",
    "        for line in f:\n",
    "            tmp = line.strip().split(\"\\t\")\n",
    "            tmp[1] = int(tmp[1])\n",
    "            tmp[2]= int(tmp[2])\n",
    "            crnannot.append(tmp)\n",
    "            #if tmp[5] not in sraid.keys():\n",
    "               # sraid[tmp[5]] = [tmp[3]]\n",
    "            #else:\n",
    "            #    sraid[tmp[5]].append(tmp[3])\n",
    "    return crnannot"
   ]
  },
  {
   "cell_type": "code",
   "execution_count": 3,
   "metadata": {
    "collapsed": true
   },
   "outputs": [],
   "source": [
    "def write_result(directory, out_list, out_name):\n",
    "    with open(directory+out_name, 'a') as file1:\n",
    "        for i in range(len(out_list)):\n",
    "            file1.write('\\t'.join(map(str, out_list[i])) + '\\n')\n",
    "    file1.close()"
   ]
  },
  {
   "cell_type": "code",
   "execution_count": 4,
   "metadata": {
    "collapsed": true
   },
   "outputs": [],
   "source": [
    "def plot_ecdf(x1, x2, dlab, clr1, clr2, tit, xlab, fig_name):\n",
    "    fig, ax = plt.subplots(figsize=(8, 7))\n",
    "    \n",
    "    n1, bins1, patches1 = ax.hist(x1, bins = 1000, normed=1, histtype='step', cumulative=True, label=dlab[0], color = clr1, linewidth = 4)\n",
    "    n2, bins2, patches2 = ax.hist(x2, bins = 1000, normed=1, histtype='step', cumulative=True, label=dlab[1], color = clr2, linewidth = 4)\n",
    "    patches1[0].set_xy(patches1[0].get_xy()[:-1])\n",
    "    patches2[0].set_xy(patches2[0].get_xy()[:-1])\n",
    "    ax.legend(loc = 'lower right', fontsize = 18)\n",
    "    plt.title(tit, fontsize = 18)\n",
    "    plt.xlabel(xlab, fontsize = 18)\n",
    "    plt.ylabel(\"Empirical Cum. Dist. Func. (ECDF)\", fontsize = 18)\n",
    "    plt.xticks(fontsize = 16)\n",
    "    plt.yticks(fontsize = 18)\n",
    "    plt.title(tit, fontsize = 18)\n",
    "    #plt.savefig(fig_name+'.pdf', dpi=300, bbox_inches=\"tight\")\n",
    "    plt.show()\n",
    "    plt.close()   "
   ]
  },
  {
   "cell_type": "code",
   "execution_count": 5,
   "metadata": {
    "collapsed": true
   },
   "outputs": [],
   "source": [
    "def plot_2hist(x1, x2, bin_lims, lab1, lab2, clr1, clr2, tit, xlab, fig_name):\n",
    "    bin_centers = 0.5*(bin_lims[:-1]+bin_lims[1:])\n",
    "    bin_widths = bin_lims[1:]-bin_lims[:-1]\n",
    "    hist1, _ = np.histogram(x1, bins=bin_lims)\n",
    "    hist2, _ = np.histogram(x2, bins=bin_lims)\n",
    "    \n",
    "    ##normalizing\n",
    "    hist1b = hist1/np.max(hist1)\n",
    "    hist2b = hist2/np.max(hist2)\n",
    "\n",
    "    fig, (ax2) = plt.subplots(nrows = 1, ncols = 1, figsize=(8, 6))\n",
    "\n",
    "    ax2.bar(bin_centers, hist1b, width = bin_widths, align = 'center', label = lab1, color = clr1, alpha = 0.5)\n",
    "    ax2.bar(bin_centers, hist2b, width = bin_widths, align = 'center', label = lab2, color = clr2, alpha = 0.5)\n",
    "    ax2.legend(loc = 'upper right', fontsize = 18)    \n",
    "    plt.title(tit, fontsize = 18)\n",
    "    plt.xlabel(xlab, fontsize = 18)\n",
    "    plt.ylabel(\"Relative Proportion\", fontsize = 18)\n",
    "    #plt.savefig(fig_name+'.pdf', dpi=300)\n",
    "    plt.show()"
   ]
  },
  {
   "cell_type": "code",
   "execution_count": 6,
   "metadata": {
    "collapsed": true
   },
   "outputs": [],
   "source": [
    "def plot_boxplot(dataset, dlabel, clr, tit, ylab, fig_name):\n",
    "    fig = plt.figure(figsize = (4,6))\n",
    "    medianprops = dict(linewidth = 3, color=clr)\n",
    "    i=0\n",
    "    boxprops = dict(linewidth = 1.5)\n",
    "    toplot = [np.asarray([]) for i in range(len(dataset))]\n",
    "    for d in dataset:\n",
    "        #medianprops = dict(linewidth = 3, color=colcode[i])\n",
    "        datax = toplot\n",
    "        datax[i] = np.asarray(dataset[i])\n",
    "        plt.boxplot(datax, widths = 0.6, medianprops = medianprops, boxprops = boxprops)\n",
    "        i +=1\n",
    "    plt.xticks([i for i in range(1, len(dataset)+1)], dlabel, fontsize = 18)\n",
    "    plt.yticks(fontsize = 18)\n",
    "    plt.ylabel(ylab, fontsize = 18)\n",
    "    plt.title(tit, fontsize = 18)\n",
    "    #plt.savefig(fig_name+'.pdf', dpi=150, bbox_inches=\"tight\")\n",
    "    plt.show()\n",
    "    plt.close()"
   ]
  },
  {
   "cell_type": "code",
   "execution_count": 7,
   "metadata": {
    "collapsed": true
   },
   "outputs": [],
   "source": [
    "def plot_aggregate(cnt1, cnt2, xlab, xaxisl, figdim, col1, col2, fig_name):\n",
    "    ## plotting begins\n",
    "    xlimit = len(xlab)\n",
    "    x = np.arange(0,len(xlab))\n",
    "    #fig = plt.figure(figsize = (12,5))\n",
    "    fig = plt.figure(figsize = figdim)\n",
    "    ax = fig.add_subplot(111)\n",
    "    prob1 = [x/sum(cnt1) for x in cnt1]\n",
    "    prob2 = [x/sum(cnt2) for x in cnt2]\n",
    "    rects1 = ax.bar(x-0.2, prob1, width = 0.35, color = col1, align = 'center')\n",
    "    rects2 = ax.bar(x+0.2, prob2, width = 0.35, color = 'grey', align = 'center')\n",
    "    plt.plot(x, prob1, color = col2, marker = '^')\n",
    "    plt.plot(x, prob2, color = 'black', marker = 'o')\n",
    "    #plt.title(fig_title, fontsize = 17)\n",
    "    plt.xlabel(xaxisl, fontsize = 16)\n",
    "    plt.ylabel(\"Probability\", fontsize = 16)\n",
    "    plt.xticks(np.arange(0,xlimit, step = 1), xlab, fontsize = 15)\n",
    "    plt.yticks(fontsize = 15)\n",
    "    #plt.ylim(ymax=1)\n",
    "    plt.ylim(ymax=max(max(prob1), max(prob2))+0.05)\n",
    "    ax.legend((rects1[0], rects2[0]), ('Significant','Insignificant'), fontsize = 15)\n",
    "    #plt.show()\n",
    "    plt.savefig(fig_name+'.pdf', dpi=300, bbox_inches=\"tight\")\n",
    "    plt.close()"
   ]
  },
  {
   "cell_type": "code",
   "execution_count": 8,
   "metadata": {
    "collapsed": true
   },
   "outputs": [],
   "source": [
    "def read_bedfile(directory, file_name):\n",
    "    with open(directory + file_name) as f:\n",
    "        bed = {}\n",
    "        for line in f:\n",
    "            tmp = line.strip().split(\"\\t\")\n",
    "            lpid = tmp[4]\n",
    "            if lpid not in bed.keys():\n",
    "                bed[lpid] = tmp\n",
    "            else: # already seen\n",
    "                if int(bed[lpid][-1]) < int(tmp[-1]): # replace if current overlap is larger than older\n",
    "                    bed[lpid] =tmp\n",
    "    return bed"
   ]
  },
  {
   "cell_type": "code",
   "execution_count": 48,
   "metadata": {
    "collapsed": true
   },
   "outputs": [],
   "source": [
    "directory='/Users/kimm/Desktop/GM12878_files/'\n",
    "rnapii_linterf = 'LHG0035N_0035V_0045V.e500.clusters.cis.BE5.pksupport.bedpe.EP.linter.20200630.bed'\n",
    "rnapii_rinterf = 'LHG0035N_0035V_0045V.e500.clusters.cis.BE5.pksupport.bedpe.EP.rinter.20200630.bed'\n",
    "cohesin_linterf = 'LHG0051H_0104V.e500.clusters.cis.BE9.pksupport.bedpe.EP.linter.20200630.bed'\n",
    "cohesin_rinterf = 'LHG0051H_0104V.e500.clusters.cis.BE9.pksupport.bedpe.EP.rinter.20200630.bed'\n",
    "epfile = 'GM12878_ChIA-PET_no-CTCF_yes-cohesin_yes-RNAPII_yes-NIPBL_peaks_chromHMM_EP_RAIDannot_20200630.bed'"
   ]
  },
  {
   "cell_type": "code",
   "execution_count": 49,
   "metadata": {
    "collapsed": true
   },
   "outputs": [],
   "source": [
    "crnannot = read_epfile(directory, epfile)"
   ]
  },
  {
   "cell_type": "code",
   "execution_count": 50,
   "metadata": {
    "collapsed": true
   },
   "outputs": [],
   "source": [
    "rnapii_linter = read_bedfile(directory, rnapii_linterf)\n",
    "rnapii_rinter = read_bedfile(directory, rnapii_rinterf)\n",
    "cohesin_linter = read_bedfile(directory, cohesin_linterf)\n",
    "cohesin_rinter = read_bedfile(directory, cohesin_rinterf)"
   ]
  },
  {
   "cell_type": "code",
   "execution_count": 55,
   "metadata": {
    "collapsed": true
   },
   "outputs": [],
   "source": [
    "rnapii_orig_loops = []\n",
    "for key, val in rnapii_linter.items():\n",
    "    linter = val\n",
    "    rinter = rnapii_rinter[key]\n",
    "    tmp = [linter[0], int(linter[1]), int(linter[2])]\n",
    "    tmp.extend([rinter[0], int(rinter[1]), int(rinter[2]), int(rinter[3]), linter[4]])\n",
    "    tmp.extend([linter[8], linter[9], linter[10]])\n",
    "    tmp.extend([rinter[8], rinter[9], rinter[10]])\n",
    "    rnapii_orig_loops.append(tmp)"
   ]
  },
  {
   "cell_type": "code",
   "execution_count": 56,
   "metadata": {
    "collapsed": true
   },
   "outputs": [],
   "source": [
    "cohesin_orig_loops = []\n",
    "for key, val in cohesin_linter.items():\n",
    "    linter = val\n",
    "    rinter = cohesin_rinter[key]\n",
    "    tmp = [linter[0], int(linter[1]), int(linter[2])]\n",
    "    tmp.extend([rinter[0], int(rinter[1]), int(rinter[2]), int(rinter[3]), linter[4]])\n",
    "    tmp.extend([linter[8], linter[9], linter[10]])\n",
    "    tmp.extend([rinter[8], rinter[9], rinter[10]])\n",
    "    cohesin_orig_loops.append(tmp)"
   ]
  },
  {
   "cell_type": "code",
   "execution_count": 18,
   "metadata": {},
   "outputs": [
    {
     "name": "stdout",
     "output_type": "stream",
     "text": [
      "RNAPII original loops: 147737\n",
      "Cohesin original loops: 161911\n"
     ]
    }
   ],
   "source": [
    "print(\"RNAPII original loops: \" + str(len(rnapii_orig_loops)))\n",
    "print(\"Cohesin original loops: \" + str(len(cohesin_orig_loops)))"
   ]
  },
  {
   "cell_type": "code",
   "execution_count": 28,
   "metadata": {
    "collapsed": true
   },
   "outputs": [],
   "source": [
    "write_result(directory, rnapii_orig_loops, 'LHG0035N_0035V_0045V.e500.clusters.cis.BE5.pksupport.EPannot.20200630.bedpe')"
   ]
  },
  {
   "cell_type": "code",
   "execution_count": 29,
   "metadata": {
    "collapsed": true
   },
   "outputs": [],
   "source": [
    "write_result(directory, cohesin_orig_loops, 'LHG0051H_0104V.e500.clusters.cis.BE9.pksupport.EPannot.20200630.bedpe')"
   ]
  },
  {
   "cell_type": "code",
   "execution_count": 57,
   "metadata": {
    "collapsed": true
   },
   "outputs": [],
   "source": [
    "rnapii_adj_loops = []\n",
    "for key, val in rnapii_linter.items():\n",
    "    linter = val\n",
    "    rinter = rnapii_rinter[key]\n",
    "    if linter[5] != '.' and rinter[5] != '.': # both anchors overlap E or P\n",
    "        chrom = linter[0]\n",
    "        lstart = max(int(linter[1]), int(linter[6]))\n",
    "        lend = min(int(linter[2]), int(linter[7]))\n",
    "        rstart = max(int(rinter[1]), int(rinter[6]))\n",
    "        rend = min(int(rinter[2]), int(rinter[7]))\n",
    "        tmp = [chrom, lstart, lend, chrom, rstart, rend, int(linter[3]), linter[4]]\n",
    "        tmp.extend([linter[8], linter[9], linter[10]])\n",
    "        tmp.extend([rinter[8], rinter[9], rinter[10]])\n",
    "        rnapii_adj_loops.append(tmp)"
   ]
  },
  {
   "cell_type": "code",
   "execution_count": 58,
   "metadata": {
    "collapsed": true
   },
   "outputs": [],
   "source": [
    "cohesin_adj_loops = []\n",
    "for key, val in cohesin_linter.items():\n",
    "    linter = val\n",
    "    rinter = cohesin_rinter[key]\n",
    "    if linter[5] != '.' and rinter[5] != '.': # both anchors overlap E or P\n",
    "        chrom = linter[0]\n",
    "        lstart = max(int(linter[1]), int(linter[6]))\n",
    "        lend = min(int(linter[2]), int(linter[7]))\n",
    "        rstart = max(int(rinter[1]), int(rinter[6]))\n",
    "        rend = min(int(rinter[2]), int(rinter[7]))\n",
    "        tmp = [chrom, lstart, lend, chrom, rstart, rend, int(linter[3]), linter[4]]\n",
    "        tmp.extend([linter[8], linter[9], linter[10]])\n",
    "        tmp.extend([rinter[8], rinter[9], rinter[10]])\n",
    "        cohesin_adj_loops.append(tmp)"
   ]
  },
  {
   "cell_type": "code",
   "execution_count": 59,
   "metadata": {},
   "outputs": [
    {
     "name": "stdout",
     "output_type": "stream",
     "text": [
      "RNAPII filtered loops: 12654\n"
     ]
    }
   ],
   "source": [
    "print(\"RNAPII filtered loops: \" + str(len(rnapii_adj_loops)))"
   ]
  },
  {
   "cell_type": "code",
   "execution_count": 60,
   "metadata": {},
   "outputs": [
    {
     "name": "stdout",
     "output_type": "stream",
     "text": [
      "Cohesin filtered loops: 7978\n"
     ]
    }
   ],
   "source": [
    "print(\"Cohesin filtered loops: \" + str(len(cohesin_adj_loops)))"
   ]
  },
  {
   "cell_type": "code",
   "execution_count": 34,
   "metadata": {
    "collapsed": true
   },
   "outputs": [],
   "source": [
    "write_result(directory, rnapii_adj_loops, 'LHG0035N_0035V_0045V.e500.clusters.cis.BE5.pksupport.EPonly.20200630.bedpe')"
   ]
  },
  {
   "cell_type": "code",
   "execution_count": 35,
   "metadata": {
    "collapsed": true
   },
   "outputs": [],
   "source": [
    "write_result(directory, cohesin_adj_loops, 'LHG0051H_0104V.e500.clusters.cis.BE9.pksupport.EPonly.20200630.bedpe')"
   ]
  },
  {
   "cell_type": "code",
   "execution_count": 61,
   "metadata": {
    "collapsed": true
   },
   "outputs": [],
   "source": [
    "raidcnt = Counter([x[4] for x in crnannot])"
   ]
  },
  {
   "cell_type": "code",
   "execution_count": 62,
   "metadata": {
    "collapsed": true
   },
   "outputs": [],
   "source": [
    "lp_dict = {}\n",
    "for x in cohesin_adj_loops:\n",
    "    if x[9] != '.' and raidcnt[x[9]] > 1: # RAID has more than 1 EP\n",
    "        combid = x[9] + \";\" + x[8]+\",\"+x[11]\n",
    "        if x[9] == x[12]: # same RAID\n",
    "            if combid not in lp_dict.keys():\n",
    "                lp_dict[combid] = [[x[6]], []]\n",
    "            else:\n",
    "                lp_dict[combid][0].append(x[6])"
   ]
  },
  {
   "cell_type": "code",
   "execution_count": 63,
   "metadata": {
    "collapsed": true
   },
   "outputs": [],
   "source": [
    "for x in rnapii_adj_loops:\n",
    "    if x[9] != '.' and raidcnt[x[9]] > 1: # RAID has more than 1 EP\n",
    "        combid = x[9] + \";\" + x[8]+\",\"+x[11]\n",
    "        if x[9] == x[12]: # same RAID\n",
    "            if combid not in lp_dict.keys():\n",
    "                lp_dict[combid] = [[], [x[6]]]\n",
    "            else:\n",
    "                lp_dict[combid][1].append(x[6])"
   ]
  },
  {
   "cell_type": "code",
   "execution_count": 64,
   "metadata": {},
   "outputs": [
    {
     "data": {
      "text/plain": [
       "4838"
      ]
     },
     "execution_count": 64,
     "metadata": {},
     "output_type": "execute_result"
    }
   ],
   "source": [
    "len(lp_dict)"
   ]
  },
  {
   "cell_type": "code",
   "execution_count": 65,
   "metadata": {},
   "outputs": [
    {
     "data": {
      "text/plain": [
       "1548"
      ]
     },
     "execution_count": 65,
     "metadata": {},
     "output_type": "execute_result"
    }
   ],
   "source": [
    "len([x for x in lp_dict.values() if len(x[1]) == 0 or len(x[0])==0])"
   ]
  },
  {
   "cell_type": "code",
   "execution_count": 66,
   "metadata": {},
   "outputs": [
    {
     "data": {
      "text/plain": [
       "608"
      ]
     },
     "execution_count": 66,
     "metadata": {},
     "output_type": "execute_result"
    }
   ],
   "source": [
    "len([x for x in lp_dict.values() if len(x[1]) == 0])"
   ]
  },
  {
   "cell_type": "code",
   "execution_count": 67,
   "metadata": {},
   "outputs": [
    {
     "data": {
      "text/plain": [
       "36"
      ]
     },
     "execution_count": 67,
     "metadata": {},
     "output_type": "execute_result"
    }
   ],
   "source": [
    "max([len(x[0]) for x in lp_dict.values()])"
   ]
  },
  {
   "cell_type": "code",
   "execution_count": 88,
   "metadata": {
    "collapsed": true
   },
   "outputs": [],
   "source": [
    "lp_dict_raid = {}\n",
    "for key, val in lp_dict.items():\n",
    "    raidid = key.split(\";\")[0]\n",
    "    if raidid not in lp_dict_raid.keys():\n",
    "        lp_dict_raid[raidid] = [sum(val[0]), sum(val[1])] # cohesin, rnapii\n",
    "    else:\n",
    "        lp_dict_raid[raidid][0] += sum(val[0]) # cohesin\n",
    "        lp_dict_raid[raidid][1] += sum(val[1]) # rnapii"
   ]
  },
  {
   "cell_type": "code",
   "execution_count": 70,
   "metadata": {
    "collapsed": true
   },
   "outputs": [],
   "source": [
    "del cohesin_concat\n",
    "del rnapii_concat\n",
    "del cbed"
   ]
  },
  {
   "cell_type": "code",
   "execution_count": 71,
   "metadata": {
    "collapsed": true
   },
   "outputs": [],
   "source": [
    "cohesin_concat = []\n",
    "rnapii_concat = []\n",
    "cohesin_lpcnt = []\n",
    "cohesin_petcnt = []\n",
    "rnapii_lpcnt = []\n",
    "rnapii_petcnt = []\n",
    "for key,val in lp_dict.items():\n",
    "    #if len(val[0]) != 0 and len(val[1]) != 0:\n",
    "    cohesin_lpcnt.append(len(val[0]))\n",
    "    cohesin_petcnt.append(sum(val[0]))\n",
    "    rnapii_lpcnt.append(len(val[1]))\n",
    "    rnapii_petcnt.append(sum(val[1]))\n",
    "    lrid = key.split(\";\")[1].split(\",\")\n",
    "    left = [x for x in crnannot if x[3]==lrid[0]][0]\n",
    "    right = [x for x in crnannot if x[3]==lrid[1]][0]\n",
    "    cbed = [left[0], left[1], left[2]]\n",
    "    cbed.extend([right[0], right[1], right[2]])\n",
    "    cbed.append(sum(val[0]))\n",
    "    cbed.extend([left[3], left[4], left[5], right[3], right[4], right[5]])\n",
    "    if lrid[0] == lrid[1]: # if loop within same peak\n",
    "        midpoint = int((cbed[1]+cbed[2])/2)\n",
    "        cbed[2] = midpoint\n",
    "        cbed[4] = midpoint\n",
    "    cohesin_concat.append(cbed)\n",
    "    ## RNAPII\n",
    "    rbed = [left[0], left[1], left[2]]\n",
    "    rbed.extend([right[0], right[1], right[2]])\n",
    "    rbed.append(sum(val[1]))\n",
    "    rbed.extend([left[3], left[4], left[5], right[3], right[4], right[5]])\n",
    "    if lrid[0] == lrid[1]: # if loop within same peak\n",
    "        midpoint = int((rbed[1]+rbed[2])/2)\n",
    "        rbed[2] = midpoint\n",
    "        rbed[4] = midpoint\n",
    "    rnapii_concat.append(rbed)"
   ]
  },
  {
   "cell_type": "code",
   "execution_count": 72,
   "metadata": {},
   "outputs": [
    {
     "data": {
      "text/plain": [
       "4838"
      ]
     },
     "execution_count": 72,
     "metadata": {},
     "output_type": "execute_result"
    }
   ],
   "source": [
    "len(rnapii_concat)"
   ]
  },
  {
   "cell_type": "code",
   "execution_count": 73,
   "metadata": {},
   "outputs": [
    {
     "data": {
      "text/plain": [
       "4838"
      ]
     },
     "execution_count": 73,
     "metadata": {},
     "output_type": "execute_result"
    }
   ],
   "source": [
    "len(cohesin_concat)"
   ]
  },
  {
   "cell_type": "code",
   "execution_count": 53,
   "metadata": {
    "collapsed": true
   },
   "outputs": [],
   "source": [
    "write_result(directory, rnapii_concat, 'LHG0035N_0035V_0045V.e500.clusters.cis.BE5.pksupport.EPonly.inRAID.concat.20200630.bedpe')"
   ]
  },
  {
   "cell_type": "code",
   "execution_count": 54,
   "metadata": {
    "collapsed": true
   },
   "outputs": [],
   "source": [
    "write_result(directory, cohesin_concat, 'LHG0051H_0104V.e500.clusters.cis.BE9.pksupport.EPonly.inRAID.concat.20200630.bedpe')"
   ]
  },
  {
   "cell_type": "code",
   "execution_count": 74,
   "metadata": {
    "collapsed": true
   },
   "outputs": [],
   "source": [
    "comb_byraid = {}\n",
    "for x in rnapii_concat:\n",
    "    raidid = x[8]\n",
    "    if raidid not in comb_byraid.keys():\n",
    "        comb_byraid[raidid] = [x]\n",
    "    else:\n",
    "        comb_byraid[raidid].append(x)"
   ]
  },
  {
   "cell_type": "code",
   "execution_count": 75,
   "metadata": {},
   "outputs": [
    {
     "data": {
      "text/plain": [
       "609"
      ]
     },
     "execution_count": 75,
     "metadata": {},
     "output_type": "execute_result"
    }
   ],
   "source": [
    "len(comb_byraid)"
   ]
  },
  {
   "cell_type": "code",
   "execution_count": 76,
   "metadata": {},
   "outputs": [
    {
     "name": "stdout",
     "output_type": "stream",
     "text": [
      "4838\n"
     ]
    }
   ],
   "source": [
    "print(sum([len(val) for key, val in comb_byraid.items()]))"
   ]
  },
  {
   "cell_type": "code",
   "execution_count": 77,
   "metadata": {},
   "outputs": [
    {
     "name": "stdout",
     "output_type": "stream",
     "text": [
      "1706\n"
     ]
    }
   ],
   "source": [
    "print(len([x for x in rnapii_concat if (x[4]-x[2]) > 100000]))"
   ]
  },
  {
   "cell_type": "code",
   "execution_count": 78,
   "metadata": {
    "collapsed": true
   },
   "outputs": [],
   "source": [
    "comb_byraid_G100kb = {}\n",
    "comb_byraid_G50kb = {}\n",
    "raid_G100kb = []\n",
    "raid_G50kb = []\n",
    "for key, val in comb_byraid.items():\n",
    "    filtered100kb = []\n",
    "    filtered50kb = []\n",
    "    for x in val:\n",
    "        if x[4]-x[2] > 100000:\n",
    "            filtered100kb.append([x[0], x[1], x[2], x[3], x[4], x[5], x[7], x[10], x[8]+'-100kb'])\n",
    "        if x[4]-x[2] > 50000:\n",
    "            filtered50kb.append([x[0], x[1], x[2], x[3], x[4], x[5], x[7], x[10], x[8]+'-50kb'])\n",
    "    if len(filtered100kb) > 0:\n",
    "        comb_byraid_G100kb[key] = filtered100kb\n",
    "        start = min([x[1]-x[5]+x[2] for x in filtered100kb])\n",
    "        end = max([x[5]+x[4]-x[1] for x in filtered100kb])\n",
    "        raid_G100kb.append([x[0], start, end, key+'-100kb', len(filtered100kb)])\n",
    "    if len(filtered50kb) > 0:\n",
    "        comb_byraid_G50kb[key] = filtered50kb\n",
    "        start = min([x[1]-x[5]+x[2] for x in filtered50kb])\n",
    "        end = max([x[5]+x[4]-x[1] for x in filtered50kb])\n",
    "        raid_G50kb.append([x[0], start, end, key+'-50kb', len(filtered50kb)])"
   ]
  },
  {
   "cell_type": "code",
   "execution_count": 79,
   "metadata": {
    "collapsed": true
   },
   "outputs": [],
   "source": [
    "loops_G100kb = [item for sublist in comb_byraid_G100kb.values() for item in sublist]\n",
    "loops_G50kb = [item for sublist in comb_byraid_G50kb.values() for item in sublist]"
   ]
  },
  {
   "cell_type": "code",
   "execution_count": 80,
   "metadata": {},
   "outputs": [
    {
     "data": {
      "text/plain": [
       "1706"
      ]
     },
     "execution_count": 80,
     "metadata": {},
     "output_type": "execute_result"
    }
   ],
   "source": [
    "len(loops_G100kb)"
   ]
  },
  {
   "cell_type": "code",
   "execution_count": 81,
   "metadata": {},
   "outputs": [
    {
     "data": {
      "text/plain": [
       "2560"
      ]
     },
     "execution_count": 81,
     "metadata": {},
     "output_type": "execute_result"
    }
   ],
   "source": [
    "len(loops_G50kb)"
   ]
  },
  {
   "cell_type": "code",
   "execution_count": 82,
   "metadata": {
    "collapsed": true
   },
   "outputs": [],
   "source": [
    "write_result(directory, loops_G100kb, 'CRN-loops.G100kb.20200705.bedpe')"
   ]
  },
  {
   "cell_type": "code",
   "execution_count": 83,
   "metadata": {
    "collapsed": true
   },
   "outputs": [],
   "source": [
    "write_result(directory, loops_G50kb, 'CRN-loops.G50kb.20200705.bedpe')"
   ]
  },
  {
   "cell_type": "code",
   "execution_count": 84,
   "metadata": {
    "collapsed": true
   },
   "outputs": [],
   "source": [
    "write_result(directory, raid_G100kb, 'CRN-loops.G100kb.RAID-annot.20200705.bed')"
   ]
  },
  {
   "cell_type": "code",
   "execution_count": 85,
   "metadata": {
    "collapsed": true
   },
   "outputs": [],
   "source": [
    "write_result(directory, raid_G50kb, 'CRN-loops.G50kb.RAID-annot.20200705.bed')"
   ]
  },
  {
   "cell_type": "code",
   "execution_count": null,
   "metadata": {
    "collapsed": true
   },
   "outputs": [],
   "source": []
  },
  {
   "cell_type": "code",
   "execution_count": null,
   "metadata": {
    "collapsed": true
   },
   "outputs": [],
   "source": []
  },
  {
   "cell_type": "code",
   "execution_count": null,
   "metadata": {
    "collapsed": true
   },
   "outputs": [],
   "source": []
  }
 ],
 "metadata": {
  "kernelspec": {
   "display_name": "Python 3",
   "language": "python",
   "name": "python3"
  },
  "language_info": {
   "codemirror_mode": {
    "name": "ipython",
    "version": 3
   },
   "file_extension": ".py",
   "mimetype": "text/x-python",
   "name": "python",
   "nbconvert_exporter": "python",
   "pygments_lexer": "ipython3",
   "version": "3.6.7"
  }
 },
 "nbformat": 4,
 "nbformat_minor": 2
}
