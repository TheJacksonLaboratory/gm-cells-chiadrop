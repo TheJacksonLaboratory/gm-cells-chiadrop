{
 "cells": [
  {
   "cell_type": "code",
   "execution_count": 1,
   "metadata": {
    "collapsed": true
   },
   "outputs": [],
   "source": [
    "import pandas as pd\n",
    "import numpy as np\n",
    "import matplotlib.pyplot as plt\n",
    "import random\n",
    "#import statsmodels.api as sm\n",
    "#import itertools as it\n",
    "#from statsmodels.sandbox.stats.multicomp import multipletests\n",
    "#from itertools import compress\n",
    "from pyBedGraph import BedGraph\n",
    "from pybedtools import BedTool\n",
    "import scipy.stats\n",
    "from collections import Counter"
   ]
  },
  {
   "cell_type": "code",
   "execution_count": 2,
   "metadata": {
    "collapsed": true
   },
   "outputs": [],
   "source": [
    "def read_cf(directory, file_name):\n",
    "    with open(directory + file_name) as f:\n",
    "        chrom = {}\n",
    "        for line in f:\n",
    "            tmp = line.strip().split(\"\\t\")\n",
    "            if tmp[0] != 'chrM':\n",
    "                chrom[tmp[0]] = int(tmp[1])\n",
    "    return chrom"
   ]
  },
  {
   "cell_type": "code",
   "execution_count": 3,
   "metadata": {
    "collapsed": true
   },
   "outputs": [],
   "source": [
    "def read_anchorfile(directory, file_name):\n",
    "    with open(directory + file_name) as f:\n",
    "        crnpk = {}\n",
    "        #next(f)\n",
    "        for line in f:\n",
    "            tmp = line.strip().split(\"\\t\")[:-1]\n",
    "            region = tmp[0]+\":\"+tmp[1]+\"-\"+tmp[2] + \";\" + tmp[9]\n",
    "            tmp[1] = int(tmp[1]) # peak start\n",
    "            tmp[2] = int(tmp[2]) # peak end\n",
    "            tmp[7] = int(tmp[7]) # gene start\n",
    "            tmp[8] = int(tmp[8]) # gene end\n",
    "            tmp[13] = float(tmp[13]) # TPM\n",
    "            tmp[14] = float(tmp[14]) # RPKM\n",
    "            mtstrand = tmp[3]\n",
    "            gnstrand = tmp[9]\n",
    "            if gnstrand == '+': # positive strand\n",
    "                dist = min(abs(tmp[7]-tmp[2]), abs(tmp[7]-tmp[1]))\n",
    "            else: # negative strand\n",
    "                dist = min(abs(tmp[8]-tmp[2]), abs(tmp[8]-tmp[1]))\n",
    "            tmp.append(dist) #distance to promoter;  tmp[15]\n",
    "            tmp.append(tmp[8]-tmp[7]) # gene length; tmp[16]\n",
    "            if tmp[15] < 5000 and tmp[13] > 0.5 and tmp[16] > 5000: # distance to promoter < 5kb and TMP > 0.5 & length > 5kb\n",
    "                if region not in crnpk.keys():\n",
    "                    crnpk[region] = [tmp]\n",
    "                else:\n",
    "                    crnpk[region].append(tmp)\n",
    "            else:\n",
    "                tmp = [tmp[0], tmp[1], tmp[2], tmp[3], '.', '.', '.', 0, 0, '.', '.', '.', '.', 0, 0, 0, 0]\n",
    "                if region not in crnpk.keys():\n",
    "                    crnpk[region] = [tmp]\n",
    "                else:\n",
    "                    if tmp not in crnpk[region]:\n",
    "                        crnpk[region].append(tmp)\n",
    "    return crnpk"
   ]
  },
  {
   "cell_type": "code",
   "execution_count": 4,
   "metadata": {
    "collapsed": true
   },
   "outputs": [],
   "source": [
    "def write_result(directory, out_list, out_name):\n",
    "    with open(directory+out_name, 'a') as file1:\n",
    "        for i in range(len(out_list)):\n",
    "            file1.write('\\t'.join(map(str, out_list[i])) + '\\n')\n",
    "    file1.close()"
   ]
  },
  {
   "cell_type": "code",
   "execution_count": 5,
   "metadata": {
    "collapsed": true
   },
   "outputs": [],
   "source": [
    "directory = '/Users/kimm/Desktop/GM12878_files/'\n",
    "#gtf_file='hg38.ensGene.gtf'\n",
    "#gtf_file = 'Homo_sapiens.GRCh38.100.gtf'\n",
    "#anchor_file = 'RNAPII-peaks-overlap_CTCF_motif_cohesin_annot_ENCFF879FKF_20200711.bed'\n",
    "anchor_file = 'RNAPII-peaks-overlap_cohesin-within25kb_CTCF_motif_annot_ENCFF879FKF_20200713.bed'\n",
    "#loading_file = 'RNAPII-peaks-overlap_NIPBL_cohesin-notoverlap_CTCF_motif_annot_ENCFF879FKF_20200711.bed'\n",
    "#comp_file='Cohesin_0.2Pass_List1.txt'\n",
    "#comp_file='Cohesin_All_20200512_List1.txt'"
   ]
  },
  {
   "cell_type": "code",
   "execution_count": 6,
   "metadata": {
    "collapsed": true
   },
   "outputs": [],
   "source": [
    "chromsize = read_cf(directory, 'hg38.chrom.sizes')"
   ]
  },
  {
   "cell_type": "code",
   "execution_count": 7,
   "metadata": {
    "collapsed": true
   },
   "outputs": [],
   "source": [
    "anchor = read_anchorfile(directory, anchor_file)"
   ]
  },
  {
   "cell_type": "code",
   "execution_count": 8,
   "metadata": {},
   "outputs": [
    {
     "data": {
      "text/plain": [
       "5521"
      ]
     },
     "execution_count": 8,
     "metadata": {},
     "output_type": "execute_result"
    }
   ],
   "source": [
    "len(Counter([x.split(\";\")[0] for x in anchor.keys()]).keys())"
   ]
  },
  {
   "cell_type": "code",
   "execution_count": 9,
   "metadata": {
    "collapsed": true
   },
   "outputs": [],
   "source": [
    "filtered = {}\n",
    "for key, val in anchor.items():\n",
    "    #print(key)\n",
    "    #print(val)\n",
    "    #maxtpm = val[0][11]\n",
    "    #maxlength = val[0][14]\n",
    "    #geneid = val[0][9]\n",
    "    final = val[0]\n",
    "    for x in val:\n",
    "        if x[13] > 1.5*final[13]: ## tpm\n",
    "            if x[11] == final[11]: ## gene id same\n",
    "                if x[16] > final[16]: # max length of gene \n",
    "                    final = x\n",
    "                else: \n",
    "                    final[13] = x[13]\n",
    "            else: \n",
    "                final = x\n",
    "    #print(\"final is: \")\n",
    "    #print(final)\n",
    "    #print(\"\\n\")\n",
    "    #bed = [final[0], ]\n",
    "    if key.split(';')[0]+';'+final[3] not in filtered.keys():\n",
    "        filtered[key.split(';')[0]+';'+final[3]] = [[],[]]\n",
    "    if x[9] == '+':\n",
    "        filtered[key.split(';')[0]+';'+final[3]][0] = final\n",
    "    elif x[9] == '-':\n",
    "        filtered[key.split(';')[0]+';'+final[3]][1] = final\n",
    "    #crnpk[key] = final\n",
    "    #print(\"=====\")"
   ]
  },
  {
   "cell_type": "code",
   "execution_count": 10,
   "metadata": {
    "collapsed": true
   },
   "outputs": [],
   "source": [
    "cnts = [str(len(x[0]))+','+str(len(x[1])) for x in filtered.values()]"
   ]
  },
  {
   "cell_type": "code",
   "execution_count": 11,
   "metadata": {},
   "outputs": [
    {
     "data": {
      "text/plain": [
       "Counter({'0,0': 3885, '0,17': 690, '17,17': 127, '17,0': 819})"
      ]
     },
     "execution_count": 11,
     "metadata": {},
     "output_type": "execute_result"
    }
   ],
   "source": [
    "Counter(cnts)"
   ]
  },
  {
   "cell_type": "code",
   "execution_count": 12,
   "metadata": {},
   "outputs": [
    {
     "data": {
      "text/plain": [
       "5521"
      ]
     },
     "execution_count": 12,
     "metadata": {},
     "output_type": "execute_result"
    }
   ],
   "source": [
    "sum(Counter(cnts).values())"
   ]
  },
  {
   "cell_type": "code",
   "execution_count": 13,
   "metadata": {
    "collapsed": true
   },
   "outputs": [],
   "source": [
    "#### Gene body length ####\n",
    "forward = []\n",
    "reverse = []\n",
    "none = []\n",
    "region_size = []\n",
    "cnt = 0\n",
    "for key, val in filtered.items():\n",
    "    if len(val[1]) == 0 and len(val[0]) > 0: # forward direction\n",
    "        #print(\"forward\")\n",
    "        x = val[0]\n",
    "        start = x[7]\n",
    "        end = x[8]\n",
    "        dist = end - start\n",
    "        bed = [x[0], start-dist, end, x[3], x[9], x[10], x[11], x[12], x[13], x[16], '.', '.', '.', '.', '.', '.']\n",
    "        forward.append(bed)\n",
    "    elif len(val[0]) == 0 and len(val[1]) > 0: # reverse direction\n",
    "        #print(\"reverse\")\n",
    "        x = val[1]\n",
    "        start = x[7]\n",
    "        end = x[8]\n",
    "        dist = end - start\n",
    "        bed = [x[0], start, end + dist, x[3], '.', '.', '.', '.', '.', '.', x[9], x[10], x[11], x[12], x[13], x[16]]\n",
    "        reverse.append(bed)\n",
    "    elif len(val[0]) > 0 and len(val[1]) > 0:  # could be both \n",
    "        if val[0][10] > 2*val[1][10]: # forward\n",
    "            #print(\"forward\")\n",
    "            x = val[0]\n",
    "            start = x[7]\n",
    "            end = x[8]\n",
    "            dist = end - start\n",
    "            bed = [x[0], start-dist, end, x[3], x[9], x[10], x[11], x[12], x[13], x[16], '.', '.', '.', '.', '.', '.']\n",
    "            forward.append(bed)\n",
    "        elif val[1][10] > 2*val[0][10]: # reverse\n",
    "            #print(\"reverse\")\n",
    "            x = val[1]\n",
    "            start = x[7]\n",
    "            end = x[8]\n",
    "            dist = end - start\n",
    "            bed = [x[0], start, end + dist, x[3], '.', '.', '.', '.', '.', '.', x[9], x[10], x[11], x[12], x[13], x[16]]\n",
    "            reverse.append(bed)\n",
    "        else:\n",
    "            cnt += 1\n",
    "    else: # none\n",
    "        chrom = key.split(':')[0]\n",
    "        start = int(key.split(':')[1].split(\"-\")[0])\n",
    "        end = int(key.split(':')[1].split(\"-\")[1].split(\";\")[0])\n",
    "        motifstrand = key.split(\";\")[1]\n",
    "        bed = [chrom, max(1, start-150000), min(chromsize[chrom], end+150000), motifstrand, '.', '.', '.', '.', '.', '.', '.', '.', '.', '.', '.', '.']\n",
    "        none.append(bed)\n",
    "    region_size.append(bed[2]-bed[1])"
   ]
  },
  {
   "cell_type": "code",
   "execution_count": 14,
   "metadata": {},
   "outputs": [
    {
     "name": "stdout",
     "output_type": "stream",
     "text": [
      "forward : 879\n",
      "reverse : 757\n",
      "none : 3885\n"
     ]
    }
   ],
   "source": [
    "print(\"forward : \" + str(len(forward)))\n",
    "print(\"reverse : \" + str(len(reverse)))\n",
    "print(\"none : \" + str(len(none)))"
   ]
  },
  {
   "cell_type": "code",
   "execution_count": 15,
   "metadata": {},
   "outputs": [
    {
     "data": {
      "text/plain": [
       "5521"
      ]
     },
     "execution_count": 15,
     "metadata": {},
     "output_type": "execute_result"
    }
   ],
   "source": [
    "len(forward) + len(reverse) + len(none) + cnt"
   ]
  },
  {
   "cell_type": "code",
   "execution_count": 16,
   "metadata": {},
   "outputs": [
    {
     "data": {
      "text/plain": [
       "0"
      ]
     },
     "execution_count": 16,
     "metadata": {},
     "output_type": "execute_result"
    }
   ],
   "source": [
    "cnt"
   ]
  },
  {
   "cell_type": "code",
   "execution_count": 19,
   "metadata": {},
   "outputs": [
    {
     "data": {
      "text/plain": [
       "138"
      ]
     },
     "execution_count": 19,
     "metadata": {},
     "output_type": "execute_result"
    }
   ],
   "source": [
    "len([x for x in reverse if x[3]=='-' and x[2]-x[1]>100000])"
   ]
  },
  {
   "cell_type": "code",
   "execution_count": 20,
   "metadata": {},
   "outputs": [
    {
     "data": {
      "text/plain": [
       "456"
      ]
     },
     "execution_count": 20,
     "metadata": {},
     "output_type": "execute_result"
    }
   ],
   "source": [
    "len([x for x in forward if x[3]=='-'])"
   ]
  },
  {
   "cell_type": "code",
   "execution_count": 21,
   "metadata": {
    "collapsed": true
   },
   "outputs": [],
   "source": [
    "#print([x[0] + ':' + str(x[1]) + \"-\" + str(x[2]) for x in none if x[3]=='-' and (x[2]-x[1])>100000])"
   ]
  },
  {
   "cell_type": "code",
   "execution_count": 77,
   "metadata": {},
   "outputs": [
    {
     "data": {
      "text/plain": [
       "229"
      ]
     },
     "execution_count": 77,
     "metadata": {},
     "output_type": "execute_result"
    }
   ],
   "source": [
    "len([x[0] + ':' + str(x[1]) + \"-\" + str(x[2]) for x in forward if (x[2]-x[1])>50000])"
   ]
  },
  {
   "cell_type": "code",
   "execution_count": 22,
   "metadata": {
    "collapsed": true
   },
   "outputs": [],
   "source": [
    "write_result(directory, [x for x in forward if x[3]=='+'], 'RNAPII-peaks-anchor_mt-forward_TSS-forward_20200713.bed')\n",
    "write_result(directory, [x for x in forward if x[3]=='-'], 'RNAPII-peaks-anchor_mt-reverse_TSS-forward_20200713.bed')\n",
    "write_result(directory, [x for x in reverse if x[3]=='+'], 'RNAPII-peaks-anchor_mt-forward_TSS-reverse_20200713.bed')\n",
    "write_result(directory, [x for x in reverse if x[3]=='-'], 'RNAPII-peaks-anchor_mt-reverse_TSS-reverse_20200713.bed')\n",
    "write_result(directory, [x for x in none if x[3]=='+'], 'RNAPII-peaks-anchor_mt-forward_non-TSS_20200713.bed')\n",
    "write_result(directory, [x for x in none if x[3]=='-'], 'RNAPII-peaks-anchor_mt-reverse_non-TSS_20200713.bed')"
   ]
  },
  {
   "cell_type": "code",
   "execution_count": 23,
   "metadata": {},
   "outputs": [
    {
     "data": {
      "text/plain": [
       "[]"
      ]
     },
     "execution_count": 23,
     "metadata": {},
     "output_type": "execute_result"
    }
   ],
   "source": [
    "[x for x in none if x[3]!='-' and x[3]!='+']"
   ]
  },
  {
   "cell_type": "code",
   "execution_count": 24,
   "metadata": {},
   "outputs": [
    {
     "data": {
      "text/plain": [
       "300697.0"
      ]
     },
     "execution_count": 24,
     "metadata": {},
     "output_type": "execute_result"
    }
   ],
   "source": [
    "np.median(region_size)"
   ]
  },
  {
   "cell_type": "code",
   "execution_count": null,
   "metadata": {
    "collapsed": true
   },
   "outputs": [],
   "source": []
  },
  {
   "cell_type": "code",
   "execution_count": null,
   "metadata": {
    "collapsed": true
   },
   "outputs": [],
   "source": []
  },
  {
   "cell_type": "code",
   "execution_count": null,
   "metadata": {
    "collapsed": true
   },
   "outputs": [],
   "source": []
  }
 ],
 "metadata": {
  "kernelspec": {
   "display_name": "Python 3",
   "language": "python",
   "name": "python3"
  },
  "language_info": {
   "codemirror_mode": {
    "name": "ipython",
    "version": 3
   },
   "file_extension": ".py",
   "mimetype": "text/x-python",
   "name": "python",
   "nbconvert_exporter": "python",
   "pygments_lexer": "ipython3",
   "version": "3.6.7"
  }
 },
 "nbformat": 4,
 "nbformat_minor": 2
}
