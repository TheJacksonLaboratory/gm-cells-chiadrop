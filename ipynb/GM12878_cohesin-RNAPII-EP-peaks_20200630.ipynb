{
 "cells": [
  {
   "cell_type": "code",
   "execution_count": 1,
   "metadata": {
    "collapsed": true
   },
   "outputs": [],
   "source": [
    "import pandas as pd\n",
    "import numpy as np\n",
    "import matplotlib.pyplot as plt\n",
    "import random\n",
    "#import statsmodels.api as sm\n",
    "#import itertools as it\n",
    "#from statsmodels.sandbox.stats.multicomp import multipletests\n",
    "#from itertools import compress\n",
    "from pyBedGraph import BedGraph\n",
    "from pybedtools import BedTool\n",
    "import scipy.stats\n",
    "from collections import Counter"
   ]
  },
  {
   "cell_type": "code",
   "execution_count": 23,
   "metadata": {
    "collapsed": true
   },
   "outputs": [],
   "source": [
    "def read_bedfile(directory, file_name):\n",
    "    with open(directory + file_name) as f:\n",
    "        bed = {}\n",
    "        for line in f:\n",
    "            tmp = line.strip().split(\"\\t\")\n",
    "            region = tmp[0]+\";\"+tmp[1]+\";\"+tmp[2]\n",
    "            #count = [0, 0, 0, 0]\n",
    "            if tmp[3] == \"1_Active_Promoter\":\n",
    "                #state = \"Active_Promoter\"\n",
    "                #count[0] += int(tmp[4])\n",
    "                indx = 0\n",
    "            elif tmp[3] == \"2_Weak_Promoter\" or tmp[3] == \"3_Poised_Promoter\":\n",
    "                #state = \"Weak_Promoter\"\n",
    "                #count[1] += int(tmp[4])\n",
    "                indx = 1\n",
    "            elif tmp[3] == \"4_Strong_Enhancer\" or tmp[3] == \"5_Strong_Enhancer\" or tmp[3] == \"6_Weak_Enhancer\" or tmp[3] == \"7_Weak_Enhancer\":\n",
    "                #state = \"Enhancer\"\n",
    "                #count[2] += int(tmp[4])\n",
    "                indx = 2\n",
    "            else:\n",
    "                #state = tmp[3]\n",
    "                #count[3] += int(tmp[4])\n",
    "                indx = 3\n",
    "            if region not in bed.keys():\n",
    "                bed[region] = [0,0,0,0]\n",
    "                bed[region][indx] += int(tmp[4])\n",
    "            else: # already seen\n",
    "                #if bed[region][1] < int(tmp[4]): # replace if current overlap is larger than older\n",
    "                bed[region][indx] += int(tmp[4])\n",
    "    return bed"
   ]
  },
  {
   "cell_type": "code",
   "execution_count": 24,
   "metadata": {
    "collapsed": true
   },
   "outputs": [],
   "source": [
    "def write_result(directory, out_list, out_name):\n",
    "    with open(directory+out_name, 'a') as file1:\n",
    "        for i in range(len(out_list)):\n",
    "            file1.write('\\t'.join(map(str, out_list[i])) + '\\n')\n",
    "    file1.close()"
   ]
  },
  {
   "cell_type": "code",
   "execution_count": 25,
   "metadata": {
    "collapsed": true
   },
   "outputs": [],
   "source": [
    "directory='/Users/kimm/Desktop/GM12878_files/'\n",
    "bed_file='GM12878_ChIA-PET_no-CTCF_yes-cohesin_yes-RNAPII_yes-NIPBL_peaks_chromHMM_20200630.bed'"
   ]
  },
  {
   "cell_type": "code",
   "execution_count": 26,
   "metadata": {
    "collapsed": true
   },
   "outputs": [],
   "source": [
    "beddict = read_bedfile(directory, bed_file)"
   ]
  },
  {
   "cell_type": "code",
   "execution_count": 29,
   "metadata": {},
   "outputs": [
    {
     "data": {
      "text/plain": [
       "4236"
      ]
     },
     "execution_count": 29,
     "metadata": {},
     "output_type": "execute_result"
    }
   ],
   "source": [
    "len(beddict)"
   ]
  },
  {
   "cell_type": "code",
   "execution_count": 82,
   "metadata": {
    "collapsed": true
   },
   "outputs": [],
   "source": [
    "enhcnt = 0\n",
    "promcnt = 0\n",
    "othcnt = 0\n",
    "ep_bed = []\n",
    "allannot = []\n",
    "cnt = 0\n",
    "tally = [0, 0, 0, 0, 0] # active promoter, weak promoter, enhancer, other, E/P\n",
    "annot = ['CRNAP', 'CRNWP', 'CRNEN', 'CRNOT', 'CRNPE']\n",
    "for key,val in beddict.items():\n",
    "    #print(key,val)\n",
    "    region = key.split(\";\")\n",
    "    region[1] = int(region[1])\n",
    "    region[2] = int(region[2])\n",
    "    if max(val) > 0.5*sum(val): # if maximum dominates\n",
    "        indx = val.index(max(val))\n",
    "    else: # need to assign to active promoter, weak promoter, enhancer, E/P\n",
    "        if (val[0]+val[1]) > 2*val[2]: # active promoter + weak promoter > 2*enhancer; promoter dominates\n",
    "            if val[0] > val[1]:\n",
    "                indx = 0\n",
    "            else:\n",
    "                indx = 1\n",
    "        else:\n",
    "            if val[0] + val[1] < 0.5*val[2]: # enhancer dominates\n",
    "                indx = 2\n",
    "            else:\n",
    "                indx = 4\n",
    "    tally[indx] += 1\n",
    "    cnt += 1\n",
    "    region.append(annot[indx] + str(tally[indx]))\n",
    "    allannot.append(region)\n",
    "    if indx != 3: \n",
    "        ep_bed.append(region)"
   ]
  },
  {
   "cell_type": "code",
   "execution_count": 90,
   "metadata": {
    "collapsed": true
   },
   "outputs": [],
   "source": [
    "write_result(directory, ep_bed, \"GM12878_ChIA-PET_no-CTCF_yes-cohesin_yes-RNAPII_yes-NIPBL_peaks_chromHMM_EP_20200630.bed\")"
   ]
  },
  {
   "cell_type": "code",
   "execution_count": 92,
   "metadata": {
    "collapsed": true
   },
   "outputs": [],
   "source": [
    "write_result(directory, allannot, \"GM12878_ChIA-PET_no-CTCF_yes-cohesin_yes-RNAPII_yes-NIPBL_peaks_chromHMM_all_20200630.bed\")"
   ]
  },
  {
   "cell_type": "code",
   "execution_count": null,
   "metadata": {
    "collapsed": true
   },
   "outputs": [],
   "source": []
  }
 ],
 "metadata": {
  "kernelspec": {
   "display_name": "Python 3",
   "language": "python",
   "name": "python3"
  },
  "language_info": {
   "codemirror_mode": {
    "name": "ipython",
    "version": 3
   },
   "file_extension": ".py",
   "mimetype": "text/x-python",
   "name": "python",
   "nbconvert_exporter": "python",
   "pygments_lexer": "ipython3",
   "version": "3.6.7"
  }
 },
 "nbformat": 4,
 "nbformat_minor": 2
}
