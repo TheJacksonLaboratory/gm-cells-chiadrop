{
 "cells": [
  {
   "cell_type": "code",
   "execution_count": 1,
   "metadata": {
    "collapsed": true
   },
   "outputs": [],
   "source": [
    "import pandas as pd\n",
    "import numpy as np\n",
    "import matplotlib.pyplot as plt\n",
    "import random\n",
    "#import statsmodels.api as sm\n",
    "#import itertools as it\n",
    "#from statsmodels.sandbox.stats.multicomp import multipletests\n",
    "#from itertools import compress\n",
    "from pyBedGraph import BedGraph\n",
    "from pybedtools import BedTool\n",
    "import itertools"
   ]
  },
  {
   "cell_type": "code",
   "execution_count": 2,
   "metadata": {
    "collapsed": true
   },
   "outputs": [],
   "source": [
    "def read_cf(directory, file_name):\n",
    "    with open(directory + file_name) as f:\n",
    "        chrom = {}\n",
    "        for line in f:\n",
    "            tmp = line.strip().split(\"\\t\")\n",
    "            if tmp[0] != 'chrM':\n",
    "                chrom[tmp[0]] = int(tmp[1])\n",
    "    return chrom"
   ]
  },
  {
   "cell_type": "code",
   "execution_count": 3,
   "metadata": {
    "collapsed": true
   },
   "outputs": [],
   "source": [
    "def read_motif(directory, file_name, chromfile):\n",
    "    with open(directory + file_name) as f:\n",
    "        motif = []\n",
    "        for line in f:\n",
    "            tmp = line.strip().split(\"\\t\")\n",
    "            if tmp[0] in chromfile.keys():\n",
    "                motif.append([tmp[0], int(tmp[1]), int(tmp[2]), tmp[3]])\n",
    "    return motif"
   ]
  },
  {
   "cell_type": "code",
   "execution_count": 4,
   "metadata": {
    "collapsed": true
   },
   "outputs": [],
   "source": [
    "def write_result(directory, out_list, out_name):\n",
    "    with open(directory+out_name, 'a') as file1:\n",
    "        for i in range(len(out_list)):\n",
    "            file1.write('\\t'.join(map(str, out_list[i])) + '\\n')\n",
    "    file1.close()"
   ]
  },
  {
   "cell_type": "code",
   "execution_count": 5,
   "metadata": {
    "collapsed": true
   },
   "outputs": [],
   "source": [
    "def annot_domainid(directory, domain_file):\n",
    "    domains = {}\n",
    "    with open(directory + domain_file) as f:\n",
    "        for line in f:\n",
    "            tmp = line.strip().split(\"\\t\")\n",
    "            domains[tmp[12]+\":\"+str(int(tmp[13])-4000)+\"-\"+str(int(tmp[14])+4000)] = [tmp[11], \"L\"]\n",
    "            domains[tmp[17]+\":\"+str(int(tmp[18])-4000)+\"-\"+str(int(tmp[19])+4000)] = [tmp[11], \"R\"]\n",
    "    return domains"
   ]
  },
  {
   "cell_type": "code",
   "execution_count": 6,
   "metadata": {
    "collapsed": true
   },
   "outputs": [],
   "source": [
    "def get_domainid(domains, motif_bed):\n",
    "    motif_str = motif_bed[0]+\":\"+str(motif_bed[1])+\"-\"+str(motif_bed[2])\n",
    "    if motif_str in domains.keys():\n",
    "        domainid = domains[motif_str]\n",
    "    else:\n",
    "        domainid = ['.','.']\n",
    "    return domainid"
   ]
  },
  {
   "cell_type": "code",
   "execution_count": 7,
   "metadata": {
    "collapsed": true
   },
   "outputs": [],
   "source": [
    "def get_intensity_dmid(onemotif, bg_cpet_ctcf, domains):\n",
    "    #tlist = []\n",
    "    tlist = onemotif\n",
    "    dmid = get_domainid(domains, tlist[0:3])\n",
    "    tlist.append(dmid[0])\n",
    "    tlist.append(dmid[1])\n",
    "    tlist.append(int(bg_cpet_ctcf.stats(intervals = [tlist[0:3]], stat = 'max')[0]))\n",
    "    return tlist"
   ]
  },
  {
   "cell_type": "code",
   "execution_count": 8,
   "metadata": {
    "collapsed": true
   },
   "outputs": [],
   "source": [
    "def extract_supermotif(spmt_list):\n",
    "    final_list = []\n",
    "    prev = spmt_list[0]\n",
    "    cnt = 1\n",
    "    for i in range(1, len(spmt_list)):\n",
    "        curr = spmt_list[i]\n",
    "        if curr[3] == prev[3]: # same orientation\n",
    "            prev[2] = curr[2] # extending end position\n",
    "            if curr[4] != '.': # domain IDs\n",
    "                prev[4] = curr[4]\n",
    "            if curr[5] != '.':\n",
    "                prev[5] = curr[5]\n",
    "            prev[6] = max(prev[6], curr[6])\n",
    "            cnt += 1\n",
    "        else: # conflicting orientation\n",
    "            if cnt == 1: # only two motifs conflicting\n",
    "#                if curr[4] != '.' or prev[4] != '.': # if one of the two motifs in domain boundary, write both\n",
    "#                    final_list.append([prev, cnt]) # dump \n",
    "#                    prev = curr\n",
    "#                    cnt = 1\n",
    "                if prev[4] != '.' and curr[4] != '.': # both in the domain boundary, then write both\n",
    "                    final_list.append([prev, cnt]) # dump \n",
    "                    prev = curr\n",
    "                elif prev[4] == '.' and curr[4] != '.': # if current is in boundary, then write current\n",
    "                    prev = curr\n",
    "                elif prev[4] != '.' and curr[4] == '.': # if prev is in boundary, then write previous\n",
    "                    prev = prev\n",
    "                else: # both not in boundary, then pick one with higher binding\n",
    "                    if curr[6] > prev[6]:\n",
    "                        prev = curr\n",
    "            else: # previous are supermotifs, should write both \n",
    "                final_list.append([prev, cnt]) # dump \n",
    "                prev = curr\n",
    "                cnt = 1\n",
    "    final_list.append([prev, cnt])\n",
    "    return final_list"
   ]
  },
  {
   "cell_type": "code",
   "execution_count": 11,
   "metadata": {
    "collapsed": true
   },
   "outputs": [],
   "source": [
    "directory='/Users/kimm/Desktop/GM12878_files/'\n",
    "#cdrop_ctcf_cov='CDH0002NR_hg38_CTCF.bedgraph'\n",
    "cdrop_ctcf_cov='GM12878-CTCF-pooled.bedgraph'\n",
    "cpet_ctcf_cov='LHG0052H.for.BROWSER.sorted.bedgraph'\n",
    "#cdrop_cohesin_cov='SHG0180-181-182NR_hg38_cohesin.bedgraph'\n",
    "cdrop_cohesin_cov='GM12878-cohesin-pooled.bedgraph'\n",
    "cpet_cohesin_cov='LHG0051H.for.BROWSER.sorted.bedgraph'\n",
    "motif_file='CTCF_motifs_STORM_hg38_Ext4kbBoth.sorted.bed'\n",
    "domain_file='LHG0052H.e500.clusters.cis.bothanchint_G250.PETcnt_G9.motifannot.sorted.domains'"
   ]
  },
  {
   "cell_type": "code",
   "execution_count": 12,
   "metadata": {
    "collapsed": true
   },
   "outputs": [],
   "source": [
    "chromfile = read_cf(directory, 'hg38.chrom.sizes')\n",
    "#repet = BedTool(directory+'hg38PAM.sameChr.tx.sorted.legal.6To12Copies.within5kb_col1-4.bed')"
   ]
  },
  {
   "cell_type": "code",
   "execution_count": 13,
   "metadata": {
    "collapsed": true
   },
   "outputs": [],
   "source": [
    "#del motif\n",
    "#del domains"
   ]
  },
  {
   "cell_type": "code",
   "execution_count": 14,
   "metadata": {
    "collapsed": true
   },
   "outputs": [],
   "source": [
    "motif = read_motif(directory, motif_file, chromfile)"
   ]
  },
  {
   "cell_type": "code",
   "execution_count": 15,
   "metadata": {
    "collapsed": true
   },
   "outputs": [],
   "source": [
    "bg_cpet_ctcf = BedGraph(directory+'hg38.chrom.sizes', directory+cpet_ctcf_cov)"
   ]
  },
  {
   "cell_type": "code",
   "execution_count": 16,
   "metadata": {
    "collapsed": true,
    "scrolled": true
   },
   "outputs": [],
   "source": [
    "for key,val in chromfile.items():\n",
    "    #bgcd.load_chrom_data(key)\n",
    "    bg_cpet_ctcf.load_chrom_data(key)"
   ]
  },
  {
   "cell_type": "code",
   "execution_count": 17,
   "metadata": {
    "collapsed": true
   },
   "outputs": [],
   "source": [
    "domains = annot_domainid(directory, domain_file)"
   ]
  },
  {
   "cell_type": "code",
   "execution_count": 18,
   "metadata": {
    "collapsed": true
   },
   "outputs": [],
   "source": [
    "chromcnt = {}\n",
    "chromcnt[motif[0][0]] = 0 # initialize\n",
    "past_info = get_intensity_dmid(motif[0], bg_cpet_ctcf, domains)\n",
    "tmp_smtf = []\n",
    "single_motif_list = []\n",
    "super_motif_list = []\n",
    "tmp_smtf = []\n",
    "for i in range(1, len(motif)):\n",
    "    if motif[i][0] not in chromcnt.keys(): # new chromosome\n",
    "        if len(tmp_smtf) == 0: # previous was not supermotif\n",
    "            single_motif_list.append(past_info)\n",
    "        else: # previous was supermotif\n",
    "            super_motif_list.append(tmp_smtf)\n",
    "        past_info = get_intensity_dmid(motif[i], bg_cpet_ctcf, domains)\n",
    "        tmp_smtf = []\n",
    "        chromcnt[motif[i][0]] = 0\n",
    "    else: # same chromosome\n",
    "        curr_info = get_intensity_dmid(motif[i], bg_cpet_ctcf, domains)\n",
    "        if curr_info[1] > past_info[2]: # individual motif since no overlap\n",
    "            if len(tmp_smtf) == 0: # previous was not supermotif\n",
    "                single_motif_list.append(past_info)\n",
    "            else: # previous was supermotif\n",
    "                super_motif_list.append(tmp_smtf)\n",
    "            tmp_smtf = []\n",
    "        else: # super motif\n",
    "            if len(tmp_smtf) == 0:\n",
    "                tmp_smtf.append(past_info)\n",
    "            tmp_smtf.append(curr_info)\n",
    "        past_info = curr_info\n",
    "if len(tmp_smtf) == 0: # previous was not supermotif\n",
    "    single_motif_list.append(past_info)\n",
    "else: # previous was supermotif\n",
    "    super_motif_list.append(tmp_smtf)"
   ]
  },
  {
   "cell_type": "code",
   "execution_count": 20,
   "metadata": {},
   "outputs": [
    {
     "data": {
      "text/plain": [
       "22643"
      ]
     },
     "execution_count": 20,
     "metadata": {},
     "output_type": "execute_result"
    }
   ],
   "source": [
    "len(motif)"
   ]
  },
  {
   "cell_type": "code",
   "execution_count": 22,
   "metadata": {},
   "outputs": [
    {
     "data": {
      "text/plain": [
       "17875"
      ]
     },
     "execution_count": 22,
     "metadata": {},
     "output_type": "execute_result"
    }
   ],
   "source": [
    "len(single_motif_list)"
   ]
  },
  {
   "cell_type": "code",
   "execution_count": 26,
   "metadata": {},
   "outputs": [
    {
     "data": {
      "text/plain": [
       "4768"
      ]
     },
     "execution_count": 26,
     "metadata": {},
     "output_type": "execute_result"
    }
   ],
   "source": [
    "listcnt = [len(x) for x in super_motif_list]\n",
    "sum(listcnt)"
   ]
  },
  {
   "cell_type": "code",
   "execution_count": 27,
   "metadata": {},
   "outputs": [
    {
     "data": {
      "text/plain": [
       "22643"
      ]
     },
     "execution_count": 27,
     "metadata": {},
     "output_type": "execute_result"
    }
   ],
   "source": [
    "len(single_motif_list) + sum(listcnt)"
   ]
  },
  {
   "cell_type": "code",
   "execution_count": 32,
   "metadata": {
    "collapsed": true
   },
   "outputs": [],
   "source": [
    "motif_annotated = []\n",
    "for i in range(len(super_motif_list)):\n",
    "    extracted = extract_supermotif(super_motif_list[i])\n",
    "    for j in range(len(extracted)):\n",
    "        tmp = extracted[j][0][0:4]\n",
    "        tmp.append('smt'+str(i)+':'+str(j)+\"-\"+str(extracted[j][1]))\n",
    "        tmp.extend(extracted[j][0][4:])\n",
    "        motif_annotated.append(tmp)"
   ]
  },
  {
   "cell_type": "code",
   "execution_count": 33,
   "metadata": {},
   "outputs": [
    {
     "data": {
      "text/plain": [
       "2376"
      ]
     },
     "execution_count": 33,
     "metadata": {},
     "output_type": "execute_result"
    }
   ],
   "source": [
    "len(motif_annotated)"
   ]
  },
  {
   "cell_type": "code",
   "execution_count": 34,
   "metadata": {
    "collapsed": true
   },
   "outputs": [],
   "source": [
    "for i in range(len(single_motif_list)):\n",
    "    tmp = single_motif_list[i][0:4]\n",
    "    tmp.append('mot'+str(i))\n",
    "    tmp.extend(single_motif_list[i][4:])\n",
    "    motif_annotated.append(tmp)"
   ]
  },
  {
   "cell_type": "code",
   "execution_count": 35,
   "metadata": {},
   "outputs": [
    {
     "data": {
      "text/plain": [
       "20251"
      ]
     },
     "execution_count": 35,
     "metadata": {},
     "output_type": "execute_result"
    }
   ],
   "source": [
    "len(motif_annotated)"
   ]
  },
  {
   "cell_type": "code",
   "execution_count": 36,
   "metadata": {
    "collapsed": true
   },
   "outputs": [],
   "source": [
    "l = [int(x[4][-1]) for x in motif_annotated[0:2319]]"
   ]
  },
  {
   "cell_type": "code",
   "execution_count": 37,
   "metadata": {},
   "outputs": [
    {
     "data": {
      "text/plain": [
       "[[1, 953], [2, 1289], [3, 70], [4, 6], [5, 1]]"
      ]
     },
     "execution_count": 37,
     "metadata": {},
     "output_type": "execute_result"
    }
   ],
   "source": [
    "[[x,l.count(x)] for x in set(l)]"
   ]
  },
  {
   "cell_type": "code",
   "execution_count": 38,
   "metadata": {},
   "outputs": [
    {
     "data": {
      "text/plain": [
       "2319"
      ]
     },
     "execution_count": 38,
     "metadata": {},
     "output_type": "execute_result"
    }
   ],
   "source": [
    "sum([l.count(x) for x in set(l)])"
   ]
  },
  {
   "cell_type": "code",
   "execution_count": 39,
   "metadata": {
    "collapsed": true
   },
   "outputs": [],
   "source": [
    "dm = [x[4] for x in motif_annotated if x[5] != '.']"
   ]
  },
  {
   "cell_type": "code",
   "execution_count": 40,
   "metadata": {
    "collapsed": true
   },
   "outputs": [],
   "source": [
    "tmp_annot = []\n",
    "for x in dm:\n",
    "    if x[0:3] == 'mot':\n",
    "        tmp_annot.append(0)\n",
    "    else:\n",
    "        tmp_annot.append(int(x[-1]))"
   ]
  },
  {
   "cell_type": "code",
   "execution_count": 41,
   "metadata": {},
   "outputs": [
    {
     "data": {
      "text/plain": [
       "[[0, 3660], [1, 365], [2, 511], [3, 37], [4, 4], [5, 1]]"
      ]
     },
     "execution_count": 41,
     "metadata": {},
     "output_type": "execute_result"
    }
   ],
   "source": [
    "[[x,tmp_annot.count(x)] for x in set(tmp_annot)]"
   ]
  },
  {
   "cell_type": "code",
   "execution_count": 42,
   "metadata": {},
   "outputs": [
    {
     "name": "stdout",
     "output_type": "stream",
     "text": [
      "['.', 15673]\n"
     ]
    }
   ],
   "source": [
    "tm_list = [x[5] for x in motif_annotated]\n",
    "for y in [[x,tm_list.count(x)] for x in set(tm_list)]:\n",
    "    if y[1] != 2:\n",
    "        print(y)"
   ]
  },
  {
   "cell_type": "code",
   "execution_count": 43,
   "metadata": {},
   "outputs": [
    {
     "data": {
      "text/plain": [
       "[['R', 2289], ['L', 2289], ['.', 15673]]"
      ]
     },
     "execution_count": 43,
     "metadata": {},
     "output_type": "execute_result"
    }
   ],
   "source": [
    "tm_list2 = [x[6] for x in motif_annotated]\n",
    "[[x,tm_list2.count(x)] for x in set(tm_list2)]"
   ]
  },
  {
   "cell_type": "code",
   "execution_count": 44,
   "metadata": {
    "collapsed": true
   },
   "outputs": [],
   "source": [
    "bg_cdrop_ctcf = BedGraph(directory+'hg38.chrom.sizes', directory+cdrop_ctcf_cov)"
   ]
  },
  {
   "cell_type": "code",
   "execution_count": 45,
   "metadata": {
    "collapsed": true
   },
   "outputs": [],
   "source": [
    "del bg_cpet_ctcf"
   ]
  },
  {
   "cell_type": "code",
   "execution_count": 47,
   "metadata": {
    "collapsed": true
   },
   "outputs": [],
   "source": [
    "bg_cpet_cohesin = BedGraph(directory+'hg38.chrom.sizes', directory+cpet_cohesin_cov)"
   ]
  },
  {
   "cell_type": "code",
   "execution_count": 48,
   "metadata": {
    "collapsed": true
   },
   "outputs": [],
   "source": [
    "bg_cdrop_cohesin = BedGraph(directory+'hg38.chrom.sizes', directory+cdrop_cohesin_cov)"
   ]
  },
  {
   "cell_type": "code",
   "execution_count": 49,
   "metadata": {
    "collapsed": true
   },
   "outputs": [],
   "source": [
    "for key,val in chromfile.items():\n",
    "    #bgcd.load_chrom_data(key)\n",
    "    bg_cdrop_ctcf.load_chrom_data(key)\n",
    "    bg_cdrop_cohesin.load_chrom_data(key)\n",
    "    bg_cpet_cohesin.load_chrom_data(key)"
   ]
  },
  {
   "cell_type": "code",
   "execution_count": 50,
   "metadata": {
    "collapsed": true
   },
   "outputs": [],
   "source": [
    "for x in motif_annotated:\n",
    "    if x[0] in chromfile.keys():\n",
    "        cdrop_ctcf = int(bg_cdrop_ctcf.stats(intervals = [x[0:3]], stat = 'max')[0])\n",
    "        cpet_cohesin = int(bg_cpet_cohesin.stats(intervals = [x[0:3]], stat = 'max')[0])\n",
    "        cdrop_cohesin = int(bg_cdrop_cohesin.stats(intervals = [x[0:3]], stat = 'max')[0])\n",
    "        x.append(cdrop_ctcf)\n",
    "        x.append(cpet_cohesin)\n",
    "        x.append(cdrop_cohesin)"
   ]
  },
  {
   "cell_type": "code",
   "execution_count": 51,
   "metadata": {},
   "outputs": [
    {
     "data": {
      "text/plain": [
       "[['chr1', 1286331, 1296037, '-', 'smt0:0-2', '.', '.', 333, 133, 120, 600],\n",
       " ['chr1', 2544186, 2552205, '-', 'smt1:0-1', '.', '.', 217, 264, 134, 2142],\n",
       " ['chr1', 3487388, 3495407, '+', 'smt2:0-1', '.', '.', 185, 125, 42, 302],\n",
       " ['chr1', 3611320, 3625350, '-', 'smt3:0-3', 'dm2', 'R', 715, 510, 232, 2569],\n",
       " ['chr1', 3720583, 3731486, '-', 'smt4:0-2', '.', '.', 587, 440, 182, 2144]]"
      ]
     },
     "execution_count": 51,
     "metadata": {},
     "output_type": "execute_result"
    }
   ],
   "source": [
    "motif_annotated[0:5]"
   ]
  },
  {
   "cell_type": "code",
   "execution_count": 52,
   "metadata": {
    "collapsed": true
   },
   "outputs": [],
   "source": [
    "write_result(directory, motif_annotated, 'CTCF_motifs_STORM_hg38_Ext4kbBoth_with_supermotif_domain_id_v8.bed')"
   ]
  },
  {
   "cell_type": "code",
   "execution_count": null,
   "metadata": {
    "collapsed": true
   },
   "outputs": [],
   "source": []
  },
  {
   "cell_type": "code",
   "execution_count": 116,
   "metadata": {
    "collapsed": true
   },
   "outputs": [],
   "source": [
    "del bg_cpet_cohesin\n",
    "del bg_cdrop_cohesin"
   ]
  },
  {
   "cell_type": "code",
   "execution_count": null,
   "metadata": {
    "collapsed": true
   },
   "outputs": [],
   "source": []
  }
 ],
 "metadata": {
  "kernelspec": {
   "display_name": "Python 3",
   "language": "python",
   "name": "python3"
  },
  "language_info": {
   "codemirror_mode": {
    "name": "ipython",
    "version": 3
   },
   "file_extension": ".py",
   "mimetype": "text/x-python",
   "name": "python",
   "nbconvert_exporter": "python",
   "pygments_lexer": "ipython3",
   "version": "3.6.7"
  }
 },
 "nbformat": 4,
 "nbformat_minor": 2
}
