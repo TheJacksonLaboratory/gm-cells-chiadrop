{
 "cells": [
  {
   "cell_type": "code",
   "execution_count": 9,
   "metadata": {
    "collapsed": true
   },
   "outputs": [],
   "source": [
    "import pandas as pd\n",
    "import numpy as np\n",
    "import matplotlib.pyplot as plt\n",
    "import random\n",
    "from pyBedGraph import BedGraph\n",
    "from pybedtools import BedTool"
   ]
  },
  {
   "cell_type": "code",
   "execution_count": 10,
   "metadata": {
    "collapsed": true
   },
   "outputs": [],
   "source": [
    "def read_cf(directory, file_name):\n",
    "    with open(directory + file_name) as f:\n",
    "        chrom = {}\n",
    "        for line in f:\n",
    "            tmp = line.strip().split(\"\\t\")\n",
    "            if tmp[0] != 'chrM':\n",
    "                chrom[tmp[0]] = int(tmp[1])\n",
    "    return chrom"
   ]
  },
  {
   "cell_type": "code",
   "execution_count": 16,
   "metadata": {
    "collapsed": true
   },
   "outputs": [],
   "source": [
    "def read_bed(directory, file_name):\n",
    "    with open(directory + file_name) as f:\n",
    "        bed = []\n",
    "        for line in f:\n",
    "            tmp = line.strip().split(\"\\t\")\n",
    "            bed.append([tmp[0], int(tmp[1]), int(tmp[2]), tmp[3]])\n",
    "    return bed"
   ]
  },
  {
   "cell_type": "code",
   "execution_count": 63,
   "metadata": {
    "collapsed": true
   },
   "outputs": [],
   "source": [
    "def read_bedpe(directory, file_name):\n",
    "    with open(directory + file_name) as f:\n",
    "        bedpe = []\n",
    "        for line in f:\n",
    "            tmp = line.strip().split(\"\\t\")\n",
    "            bedpe.append([tmp[0], int(tmp[1]), int(tmp[2]), tmp[3], int(tmp[4]), int(tmp[5]), tmp[11], int(tmp[13]), int(tmp[18])])\n",
    "    return bedpe"
   ]
  },
  {
   "cell_type": "code",
   "execution_count": 3,
   "metadata": {
    "collapsed": true
   },
   "outputs": [],
   "source": [
    "def write_result(directory, out_list, out_name):\n",
    "    with open(directory+out_name, 'a') as file1:\n",
    "        for i in range(len(out_list)):\n",
    "            file1.write('\\t'.join(map(str, out_list[i])) + '\\n')\n",
    "    file1.close()"
   ]
  },
  {
   "cell_type": "code",
   "execution_count": 4,
   "metadata": {
    "collapsed": true
   },
   "outputs": [],
   "source": [
    "directory='/Users/kimm/Desktop/GM12878_files/'\n",
    "nipbl_cov='ChIP-Seq.NIPBL.rep1.GSM2443453.SRR5139368.rmdup.q30.hg38.stdchr.bedgraph'"
   ]
  },
  {
   "cell_type": "code",
   "execution_count": 64,
   "metadata": {
    "collapsed": true
   },
   "outputs": [],
   "source": [
    "loopfile='LHG0052H.e500.clusters.cis.bothanchint_G250.PETcnt_G9.motifannot.sorted.convergent.loops'"
   ]
  },
  {
   "cell_type": "code",
   "execution_count": 53,
   "metadata": {
    "collapsed": true
   },
   "outputs": [],
   "source": [
    "cspannotfile = 'GM12878-cohesin-specific.sorted.n.nipblannot_G5.bed'"
   ]
  },
  {
   "cell_type": "code",
   "execution_count": 56,
   "metadata": {
    "collapsed": true
   },
   "outputs": [],
   "source": [
    "cspannot = read_bed(directory, cspannotfile)"
   ]
  },
  {
   "cell_type": "code",
   "execution_count": 65,
   "metadata": {
    "collapsed": true
   },
   "outputs": [],
   "source": [
    "loops = read_bedpe(directory, loopfile)"
   ]
  },
  {
   "cell_type": "code",
   "execution_count": 76,
   "metadata": {
    "collapsed": true
   },
   "outputs": [],
   "source": [
    "cnt = 0\n",
    "cr = []\n",
    "cr_bed = []\n",
    "for x in loops:\n",
    "    intersect = [y for y in cspannot if (y[0] == x[0] and y[1] > x[2] and y[2] < x[4])]\n",
    "    if len(intersect) > 0:\n",
    "        cnt += 1\n",
    "        cr.append([x[0], x[7]-4000, x[7]+4000, 'cr'+str(cnt)+\"_S\"])\n",
    "        cr.append([x[0], x[8]-4000, x[8]+4000, 'cr'+str(cnt)+\"_E\"])\n",
    "        cr_bed.append([x[0], x[7]-4000, x[8]+4000, 'cr'+str(cnt), x[0]+\":\"+str(x[7]-4000)+\"-\"+str(x[8]+4000)])\n",
    "        for i in range(len(intersect)):\n",
    "            cr.append([intersect[i][0], intersect[i][1], intersect[i][2], 'cr'+str(cnt)+'_M-'+str(i+1)])"
   ]
  },
  {
   "cell_type": "code",
   "execution_count": 71,
   "metadata": {
    "collapsed": true
   },
   "outputs": [],
   "source": [
    "write_result(directory, cr, 'GM12878-cohesin-specific-regions_20200429.bed')"
   ]
  },
  {
   "cell_type": "code",
   "execution_count": 79,
   "metadata": {
    "collapsed": true
   },
   "outputs": [],
   "source": [
    "write_result(directory, cr_bed, 'GM12878-cohesin-specific-regions_20200429_annot.bed')"
   ]
  },
  {
   "cell_type": "code",
   "execution_count": 77,
   "metadata": {},
   "outputs": [
    {
     "data": {
      "text/plain": [
       "3014"
      ]
     },
     "execution_count": 77,
     "metadata": {},
     "output_type": "execute_result"
    }
   ],
   "source": [
    "cnt"
   ]
  },
  {
   "cell_type": "code",
   "execution_count": null,
   "metadata": {
    "collapsed": true
   },
   "outputs": [],
   "source": []
  },
  {
   "cell_type": "code",
   "execution_count": null,
   "metadata": {
    "collapsed": true
   },
   "outputs": [],
   "source": []
  },
  {
   "cell_type": "code",
   "execution_count": null,
   "metadata": {
    "collapsed": true
   },
   "outputs": [],
   "source": []
  }
 ],
 "metadata": {
  "kernelspec": {
   "display_name": "Python 3",
   "language": "python",
   "name": "python3"
  },
  "language_info": {
   "codemirror_mode": {
    "name": "ipython",
    "version": 3
   },
   "file_extension": ".py",
   "mimetype": "text/x-python",
   "name": "python",
   "nbconvert_exporter": "python",
   "pygments_lexer": "ipython3",
   "version": "3.6.7"
  }
 },
 "nbformat": 4,
 "nbformat_minor": 2
}
